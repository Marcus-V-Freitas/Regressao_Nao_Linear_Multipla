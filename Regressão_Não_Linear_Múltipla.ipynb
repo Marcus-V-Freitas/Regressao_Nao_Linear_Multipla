{
  "nbformat": 4,
  "nbformat_minor": 0,
  "metadata": {
    "colab": {
      "name": "Regressão Não Linear Múltipla.ipynb",
      "provenance": [],
      "collapsed_sections": [
        "AlY_m5rYglXU",
        "bO3OMHQdgovW",
        "WZBmyDLrgq94",
        "xbePLl5U0Gep",
        "iy1w4sJ3hU8e",
        "IZ0KQLNGnFvj",
        "jbCxFx69g5P4",
        "_zzWljZ9g-We",
        "aQNUQYephcPz",
        "LjPaKFoqhfVL",
        "TDs1FoWqhtPI",
        "sDG1z2uIPujF",
        "FRC8sVhTiL_V",
        "7JPuPNX2ijta",
        "wOuDIKQminPT",
        "4H8x_ivli5pB",
        "uGstXl2IjK6X",
        "PKQR5FWtt6UC",
        "W6-i2PZPuI2-",
        "fgmD7P7CudRp",
        "3R8FdHKPunBX",
        "JqMyDMQkjXsB",
        "IyGRbENRQ_sU",
        "matdxzBpDf2L",
        "7O5JjHDiDn5Q",
        "jyXkSn0TDtm6",
        "DSU-heWUFbmY",
        "v58yoz3nFg_S",
        "7Tiu8FanDKNK",
        "CH4RMN4ZDHze",
        "2WvkOu2HDWBO",
        "cSeYS8I4kFtD",
        "1EOnZG3dkPch",
        "UMjRd1cbkVfb",
        "baYYNHT0kX88",
        "Aq65z7JPki30",
        "aH68-nZFkhMv",
        "WFku4Qp0k3-0",
        "u3xPXJK_0yRU",
        "66PofBnllBwC",
        "E7255jaYlJt8",
        "uKUGrr-xlWbN",
        "KqsfJJdbljMN",
        "uJpdkVoyrq_u",
        "Fx8hjfMGvJr9"
      ]
    },
    "kernelspec": {
      "name": "python3",
      "display_name": "Python 3"
    },
    "language_info": {
      "name": "python"
    }
  },
  "cells": [
    {
      "cell_type": "markdown",
      "metadata": {
        "id": "DLrYVKBmg09j"
      },
      "source": [
        "#Regressão Não Linear Múltipla "
      ]
    },
    {
      "cell_type": "markdown",
      "metadata": {
        "id": "AlY_m5rYglXU"
      },
      "source": [
        "##Instalar Pacotes Auxiliares"
      ]
    },
    {
      "cell_type": "code",
      "metadata": {
        "id": "6o-ZF9tQ9qSY"
      },
      "source": [
        "!pip install pandas 'plotnine==0.8.0'\n",
        "!pip install pyforest\n",
        "!pip install dplython"
      ],
      "execution_count": null,
      "outputs": []
    },
    {
      "cell_type": "markdown",
      "metadata": {
        "id": "bO3OMHQdgovW"
      },
      "source": [
        "##Importar Libs"
      ]
    },
    {
      "cell_type": "markdown",
      "metadata": {
        "id": "Ht6H7HZ5B4AK"
      },
      "source": [
        "**OBS Legenda**: Apenas informativa a respeito do que usaremos das libs nos exemplos. "
      ]
    },
    {
      "cell_type": "code",
      "metadata": {
        "id": "emz_iffP-CtT"
      },
      "source": [
        "from pyforest import * #Principais Libs utilizadas no python (pandas, numpy,seaborn, matplotlib ...)\n",
        "from plotnine import * #Utilização das principais funcionalidades do ggplot2 nativo do R no python\n",
        "from dplython import * #Utilizado das principais funcionalidades do pacote nativo do R, dplyr no Python\n",
        "from scipy.stats import norm #Criações de distribuições normais\n",
        "from scipy.stats.distributions import chi2 #Cálculo do teste estátistico qui2\n",
        "from sklearn.preprocessing import PowerTransformer #Transformações de box-cox \n",
        "\n",
        "import statsmodels.api as sm #Utilização de teste Anova\n",
        "import statsmodels.formula.api as smf #Criação de modelos de regressão linear/não linear\n",
        "import warnings #Retirar warnings de bibliotecas auxiliares\n",
        "warnings.filterwarnings('ignore')"
      ],
      "execution_count": 511,
      "outputs": []
    },
    {
      "cell_type": "markdown",
      "metadata": {
        "id": "WZBmyDLrgq94"
      },
      "source": [
        "##Resumo da Base de Dados"
      ]
    },
    {
      "cell_type": "markdown",
      "metadata": {
        "id": "_MRN3xH6GPIw"
      },
      "source": [
        "**Objetivo**:\n",
        "\n",
        "Identificar através dos dados coletados, quanto será gasto com despesas médicas para determinado cliente.\n",
        "\n",
        "---\n",
        "\n",
        "**Legenda Dados**:\n",
        "\n",
        "- **id**: Código de Registro.\n",
        "- **despmed**: Total das despesas médicas gastos em reais.\n",
        "- **idade**: Idade atual do cliente.\n",
        "- **dcron**: Quantidade de Doenças crônicas.\n",
        "- **renda**: Renda anual do cliente em reais.\n",
        "- **plano**: Modalidade do plano atual do cliente \n",
        "   * bronze\n",
        "   * esmeralda\t\n",
        "   * ouro  \n",
        "\n",
        "---\n",
        "\n",
        "**Possíveis Variáveis para utilização no modelo**:\n",
        "\n",
        "- **Preditoras**: idade, dcron, renda, plano.\n",
        "- **Classe**: despmed.\n",
        "\n",
        "\n",
        "\n"
      ]
    },
    {
      "cell_type": "markdown",
      "metadata": {
        "id": "xbePLl5U0Gep"
      },
      "source": [
        "###Importar Base de Dados"
      ]
    },
    {
      "cell_type": "code",
      "metadata": {
        "colab": {
          "base_uri": "https://localhost:8080/",
          "height": 17
        },
        "id": "gVJC_jjr99HT",
        "outputId": "0868d6bd-df50-41e6-9931-134f82802da2"
      },
      "source": [
        "planoSaude=pd.read_csv('/content/drive/MyDrive/Dataset_Excel_CSV/planoSaude.csv')"
      ],
      "execution_count": 584,
      "outputs": [
        {
          "output_type": "display_data",
          "data": {
            "application/javascript": [
              "\n",
              "        if (window._pyforest_update_imports_cell) { window._pyforest_update_imports_cell('import pickle\\nimport bokeh\\nfrom sklearn.linear_model import LinearRegression\\nfrom sklearn import metrics\\nfrom sklearn.linear_model import RidgeCV\\nfrom sklearn.preprocessing import MinMaxScaler\\nimport glob\\nimport plotly as py\\nimport statsmodels.api as sm\\nfrom sklearn.linear_model import Ridge\\nimport tqdm\\nimport torch\\nimport statistics\\nfrom sklearn.ensemble import RandomForestClassifier\\nfrom sklearn.decomposition import PCA\\nfrom pathlib import Path\\nimport skimage\\nimport gensim\\nimport fastai\\nimport plotly.graph_objs as go\\nimport altair as alt\\nimport imutils\\nimport tensorflow as tf\\nimport sklearn\\nfrom sklearn.preprocessing import OneHotEncoder\\nfrom sklearn.preprocessing import RobustScaler\\nfrom sklearn.model_selection import cross_val_score\\nfrom sklearn.linear_model import LassoCV\\nfrom sklearn.preprocessing import LabelEncoder\\nfrom sklearn.linear_model import LogisticRegression\\nfrom sklearn.manifold import TSNE\\nimport spacy\\nimport pydot\\nimport matplotlib.pyplot as plt\\nfrom PIL import Image\\nimport fbprophet\\nfrom sklearn.feature_extraction.text import CountVectorizer\\nfrom openpyxl import load_workbook\\nfrom sklearn.linear_model import ElasticNetCV\\nimport plotly.express as px\\nimport cv2\\nfrom sklearn.impute import SimpleImputer\\nfrom sklearn.feature_extraction.text import TfidfVectorizer\\nimport re\\nfrom statsmodels.tsa.arima_model import ARIMA\\nfrom sklearn.model_selection import RandomizedSearchCV\\nimport textblob\\nfrom sklearn.linear_model import ElasticNet\\nimport os\\nimport seaborn as sns\\nfrom xlrd import open_workbook\\nfrom fbprophet import Prophet\\nimport pandas as pd\\nfrom sklearn.linear_model import Lasso\\nfrom sklearn.preprocessing import PolynomialFeatures\\nimport nltk\\nfrom sklearn.model_selection import train_test_split\\nimport lightgbm as lgb\\nfrom scipy import stats\\nimport matplotlib as mpl\\nfrom sklearn.ensemble import RandomForestRegressor\\nimport xgboost as xgb'); }\n",
              "    "
            ],
            "text/plain": [
              "<IPython.core.display.Javascript object>"
            ]
          },
          "metadata": {
            "tags": []
          }
        }
      ]
    },
    {
      "cell_type": "markdown",
      "metadata": {
        "id": "UTqjE-eBJs6j"
      },
      "source": [
        "Visualização dos primeiros dados"
      ]
    },
    {
      "cell_type": "code",
      "metadata": {
        "colab": {
          "base_uri": "https://localhost:8080/",
          "height": 203
        },
        "id": "5a86WBF5_jZ4",
        "outputId": "2fde654e-2617-472d-8c5d-e92424c4009d"
      },
      "source": [
        "planoSaude.head()"
      ],
      "execution_count": 585,
      "outputs": [
        {
          "output_type": "execute_result",
          "data": {
            "text/html": [
              "<div>\n",
              "<style scoped>\n",
              "    .dataframe tbody tr th:only-of-type {\n",
              "        vertical-align: middle;\n",
              "    }\n",
              "\n",
              "    .dataframe tbody tr th {\n",
              "        vertical-align: top;\n",
              "    }\n",
              "\n",
              "    .dataframe thead th {\n",
              "        text-align: right;\n",
              "    }\n",
              "</style>\n",
              "<table border=\"1\" class=\"dataframe\">\n",
              "  <thead>\n",
              "    <tr style=\"text-align: right;\">\n",
              "      <th></th>\n",
              "      <th>id</th>\n",
              "      <th>despmed</th>\n",
              "      <th>idade</th>\n",
              "      <th>dcron</th>\n",
              "      <th>renda</th>\n",
              "      <th>plano</th>\n",
              "    </tr>\n",
              "  </thead>\n",
              "  <tbody>\n",
              "    <tr>\n",
              "      <th>0</th>\n",
              "      <td>1</td>\n",
              "      <td>206.84</td>\n",
              "      <td>57</td>\n",
              "      <td>5</td>\n",
              "      <td>57.200001</td>\n",
              "      <td>bronze</td>\n",
              "    </tr>\n",
              "    <tr>\n",
              "      <th>1</th>\n",
              "      <td>2</td>\n",
              "      <td>184.19</td>\n",
              "      <td>67</td>\n",
              "      <td>4</td>\n",
              "      <td>67.199997</td>\n",
              "      <td>bronze</td>\n",
              "    </tr>\n",
              "    <tr>\n",
              "      <th>2</th>\n",
              "      <td>3</td>\n",
              "      <td>175.68</td>\n",
              "      <td>62</td>\n",
              "      <td>4</td>\n",
              "      <td>62.000000</td>\n",
              "      <td>bronze</td>\n",
              "    </tr>\n",
              "    <tr>\n",
              "      <th>3</th>\n",
              "      <td>4</td>\n",
              "      <td>180.04</td>\n",
              "      <td>67</td>\n",
              "      <td>5</td>\n",
              "      <td>67.199997</td>\n",
              "      <td>bronze</td>\n",
              "    </tr>\n",
              "    <tr>\n",
              "      <th>4</th>\n",
              "      <td>5</td>\n",
              "      <td>218.86</td>\n",
              "      <td>68</td>\n",
              "      <td>5</td>\n",
              "      <td>68.000000</td>\n",
              "      <td>bronze</td>\n",
              "    </tr>\n",
              "  </tbody>\n",
              "</table>\n",
              "</div>"
            ],
            "text/plain": [
              "   id  despmed  idade  dcron      renda   plano\n",
              "0   1   206.84     57      5  57.200001  bronze\n",
              "1   2   184.19     67      4  67.199997  bronze\n",
              "2   3   175.68     62      4  62.000000  bronze\n",
              "3   4   180.04     67      5  67.199997  bronze\n",
              "4   5   218.86     68      5  68.000000  bronze"
            ]
          },
          "metadata": {
            "tags": []
          },
          "execution_count": 585
        }
      ]
    },
    {
      "cell_type": "markdown",
      "metadata": {
        "id": "iy1w4sJ3hU8e"
      },
      "source": [
        "##Análise Exploratória"
      ]
    },
    {
      "cell_type": "markdown",
      "metadata": {
        "id": "IZ0KQLNGnFvj"
      },
      "source": [
        "###Principais informações dos Tipos de Dados"
      ]
    },
    {
      "cell_type": "code",
      "metadata": {
        "colab": {
          "base_uri": "https://localhost:8080/"
        },
        "id": "G4JaGusknaFq",
        "outputId": "f5a22168-bab1-4044-b914-4d18112f7da6"
      },
      "source": [
        "planoSaude.info()"
      ],
      "execution_count": 514,
      "outputs": [
        {
          "output_type": "stream",
          "text": [
            "<class 'pandas.core.frame.DataFrame'>\n",
            "RangeIndex: 200 entries, 0 to 199\n",
            "Data columns (total 6 columns):\n",
            " #   Column   Non-Null Count  Dtype  \n",
            "---  ------   --------------  -----  \n",
            " 0   id       200 non-null    int64  \n",
            " 1   despmed  200 non-null    float64\n",
            " 2   idade    200 non-null    int64  \n",
            " 3   dcron    200 non-null    int64  \n",
            " 4   renda    200 non-null    float64\n",
            " 5   plano    200 non-null    object \n",
            "dtypes: float64(2), int64(3), object(1)\n",
            "memory usage: 9.5+ KB\n"
          ],
          "name": "stdout"
        }
      ]
    },
    {
      "cell_type": "markdown",
      "metadata": {
        "id": "jbCxFx69g5P4"
      },
      "source": [
        "###Principais Estátisticas Descritivas Univariadas"
      ]
    },
    {
      "cell_type": "code",
      "metadata": {
        "colab": {
          "base_uri": "https://localhost:8080/",
          "height": 0
        },
        "id": "WA-d5cRO_n7L",
        "outputId": "ff8b93f2-e9fb-4277-f07a-645a25b070c9"
      },
      "source": [
        "planoSaude.describe().transpose()"
      ],
      "execution_count": 515,
      "outputs": [
        {
          "output_type": "execute_result",
          "data": {
            "text/html": [
              "<div>\n",
              "<style scoped>\n",
              "    .dataframe tbody tr th:only-of-type {\n",
              "        vertical-align: middle;\n",
              "    }\n",
              "\n",
              "    .dataframe tbody tr th {\n",
              "        vertical-align: top;\n",
              "    }\n",
              "\n",
              "    .dataframe thead th {\n",
              "        text-align: right;\n",
              "    }\n",
              "</style>\n",
              "<table border=\"1\" class=\"dataframe\">\n",
              "  <thead>\n",
              "    <tr style=\"text-align: right;\">\n",
              "      <th></th>\n",
              "      <th>count</th>\n",
              "      <th>mean</th>\n",
              "      <th>std</th>\n",
              "      <th>min</th>\n",
              "      <th>25%</th>\n",
              "      <th>50%</th>\n",
              "      <th>75%</th>\n",
              "      <th>max</th>\n",
              "    </tr>\n",
              "  </thead>\n",
              "  <tbody>\n",
              "    <tr>\n",
              "      <th>id</th>\n",
              "      <td>200.0</td>\n",
              "      <td>100.5000</td>\n",
              "      <td>57.879185</td>\n",
              "      <td>1.00</td>\n",
              "      <td>50.75</td>\n",
              "      <td>100.500000</td>\n",
              "      <td>150.250000</td>\n",
              "      <td>200.0</td>\n",
              "    </tr>\n",
              "    <tr>\n",
              "      <th>despmed</th>\n",
              "      <td>200.0</td>\n",
              "      <td>161.1834</td>\n",
              "      <td>42.447084</td>\n",
              "      <td>88.73</td>\n",
              "      <td>126.14</td>\n",
              "      <td>155.000000</td>\n",
              "      <td>197.622500</td>\n",
              "      <td>269.2</td>\n",
              "    </tr>\n",
              "    <tr>\n",
              "      <th>idade</th>\n",
              "      <td>200.0</td>\n",
              "      <td>50.0100</td>\n",
              "      <td>12.547794</td>\n",
              "      <td>32.00</td>\n",
              "      <td>38.00</td>\n",
              "      <td>49.000000</td>\n",
              "      <td>63.000000</td>\n",
              "      <td>68.0</td>\n",
              "    </tr>\n",
              "    <tr>\n",
              "      <th>dcron</th>\n",
              "      <td>200.0</td>\n",
              "      <td>2.7050</td>\n",
              "      <td>1.670908</td>\n",
              "      <td>0.00</td>\n",
              "      <td>1.00</td>\n",
              "      <td>2.000000</td>\n",
              "      <td>4.000000</td>\n",
              "      <td>5.0</td>\n",
              "    </tr>\n",
              "    <tr>\n",
              "      <th>renda</th>\n",
              "      <td>200.0</td>\n",
              "      <td>50.0220</td>\n",
              "      <td>12.626538</td>\n",
              "      <td>31.60</td>\n",
              "      <td>38.00</td>\n",
              "      <td>48.799999</td>\n",
              "      <td>63.200001</td>\n",
              "      <td>68.0</td>\n",
              "    </tr>\n",
              "  </tbody>\n",
              "</table>\n",
              "</div>"
            ],
            "text/plain": [
              "         count      mean        std  ...         50%         75%    max\n",
              "id       200.0  100.5000  57.879185  ...  100.500000  150.250000  200.0\n",
              "despmed  200.0  161.1834  42.447084  ...  155.000000  197.622500  269.2\n",
              "idade    200.0   50.0100  12.547794  ...   49.000000   63.000000   68.0\n",
              "dcron    200.0    2.7050   1.670908  ...    2.000000    4.000000    5.0\n",
              "renda    200.0   50.0220  12.626538  ...   48.799999   63.200001   68.0\n",
              "\n",
              "[5 rows x 8 columns]"
            ]
          },
          "metadata": {
            "tags": []
          },
          "execution_count": 515
        }
      ]
    },
    {
      "cell_type": "markdown",
      "metadata": {
        "id": "_zzWljZ9g-We"
      },
      "source": [
        "###Tabela de Frequências da coluna Plano"
      ]
    },
    {
      "cell_type": "markdown",
      "metadata": {
        "id": "WBAE9KxhHkLx"
      },
      "source": [
        "Quantidade total de Cada plano."
      ]
    },
    {
      "cell_type": "code",
      "metadata": {
        "colab": {
          "base_uri": "https://localhost:8080/",
          "height": 0
        },
        "id": "W4utZS-c_qVB",
        "outputId": "fe9c2e04-68c3-4c36-87ac-060de1c7fad5"
      },
      "source": [
        "pd.DataFrame(planoSaude['plano'].value_counts()).transpose()"
      ],
      "execution_count": 516,
      "outputs": [
        {
          "output_type": "display_data",
          "data": {
            "application/javascript": [
              "\n",
              "        if (window._pyforest_update_imports_cell) { window._pyforest_update_imports_cell('import pickle\\nimport bokeh\\nfrom sklearn.linear_model import LinearRegression\\nfrom sklearn import metrics\\nfrom sklearn.linear_model import RidgeCV\\nfrom sklearn.preprocessing import MinMaxScaler\\nimport glob\\nimport plotly as py\\nimport statsmodels.api as sm\\nfrom sklearn.linear_model import Ridge\\nimport tqdm\\nimport torch\\nimport statistics\\nfrom sklearn.ensemble import RandomForestClassifier\\nfrom sklearn.decomposition import PCA\\nfrom pathlib import Path\\nimport skimage\\nimport gensim\\nimport fastai\\nimport plotly.graph_objs as go\\nimport altair as alt\\nimport imutils\\nimport tensorflow as tf\\nimport sklearn\\nfrom sklearn.preprocessing import OneHotEncoder\\nfrom sklearn.preprocessing import RobustScaler\\nfrom sklearn.model_selection import cross_val_score\\nfrom sklearn.linear_model import LassoCV\\nfrom sklearn.preprocessing import LabelEncoder\\nfrom sklearn.linear_model import LogisticRegression\\nfrom sklearn.manifold import TSNE\\nimport spacy\\nimport pydot\\nimport matplotlib.pyplot as plt\\nfrom PIL import Image\\nimport fbprophet\\nfrom sklearn.feature_extraction.text import CountVectorizer\\nfrom openpyxl import load_workbook\\nfrom sklearn.linear_model import ElasticNetCV\\nimport plotly.express as px\\nimport cv2\\nfrom sklearn.impute import SimpleImputer\\nfrom sklearn.feature_extraction.text import TfidfVectorizer\\nimport re\\nfrom statsmodels.tsa.arima_model import ARIMA\\nfrom sklearn.model_selection import RandomizedSearchCV\\nimport textblob\\nfrom sklearn.linear_model import ElasticNet\\nimport os\\nimport seaborn as sns\\nfrom xlrd import open_workbook\\nfrom fbprophet import Prophet\\nimport pandas as pd\\nfrom sklearn.linear_model import Lasso\\nfrom sklearn.preprocessing import PolynomialFeatures\\nimport nltk\\nfrom sklearn.model_selection import train_test_split\\nimport lightgbm as lgb\\nfrom scipy import stats\\nimport matplotlib as mpl\\nfrom sklearn.ensemble import RandomForestRegressor\\nimport xgboost as xgb'); }\n",
              "    "
            ],
            "text/plain": [
              "<IPython.core.display.Javascript object>"
            ]
          },
          "metadata": {
            "tags": []
          }
        },
        {
          "output_type": "execute_result",
          "data": {
            "text/html": [
              "<div>\n",
              "<style scoped>\n",
              "    .dataframe tbody tr th:only-of-type {\n",
              "        vertical-align: middle;\n",
              "    }\n",
              "\n",
              "    .dataframe tbody tr th {\n",
              "        vertical-align: top;\n",
              "    }\n",
              "\n",
              "    .dataframe thead th {\n",
              "        text-align: right;\n",
              "    }\n",
              "</style>\n",
              "<table border=\"1\" class=\"dataframe\">\n",
              "  <thead>\n",
              "    <tr style=\"text-align: right;\">\n",
              "      <th></th>\n",
              "      <th>bronze</th>\n",
              "      <th>esmeralda</th>\n",
              "      <th>ouro</th>\n",
              "    </tr>\n",
              "  </thead>\n",
              "  <tbody>\n",
              "    <tr>\n",
              "      <th>plano</th>\n",
              "      <td>72</td>\n",
              "      <td>66</td>\n",
              "      <td>62</td>\n",
              "    </tr>\n",
              "  </tbody>\n",
              "</table>\n",
              "</div>"
            ],
            "text/plain": [
              "       bronze  esmeralda  ouro\n",
              "plano      72         66    62"
            ]
          },
          "metadata": {
            "tags": []
          },
          "execution_count": 516
        }
      ]
    },
    {
      "cell_type": "markdown",
      "metadata": {
        "id": "ymSeqyFGhZLz"
      },
      "source": [
        "###Correlações"
      ]
    },
    {
      "cell_type": "markdown",
      "metadata": {
        "id": "MftWvU_yH2ud"
      },
      "source": [
        "* Verificar alta Multicolinearidade (Altas correlações entre variáveis preditoras, X).\n",
        "\n",
        "* Verificar altas correlações com a variável classe."
      ]
    },
    {
      "cell_type": "code",
      "metadata": {
        "colab": {
          "base_uri": "https://localhost:8080/",
          "height": 269
        },
        "id": "Xv-3enfQBBiv",
        "outputId": "1fb72bac-cade-42fb-a406-06610aceef52"
      },
      "source": [
        "sns.heatmap(planoSaude.corr(),annot=True,cmap = 'magma');"
      ],
      "execution_count": 517,
      "outputs": [
        {
          "output_type": "display_data",
          "data": {
            "application/javascript": [
              "\n",
              "        if (window._pyforest_update_imports_cell) { window._pyforest_update_imports_cell('import pickle\\nimport bokeh\\nfrom sklearn.linear_model import LinearRegression\\nfrom sklearn import metrics\\nfrom sklearn.linear_model import RidgeCV\\nfrom sklearn.preprocessing import MinMaxScaler\\nimport glob\\nimport plotly as py\\nimport statsmodels.api as sm\\nfrom sklearn.linear_model import Ridge\\nimport tqdm\\nimport torch\\nimport statistics\\nfrom sklearn.ensemble import RandomForestClassifier\\nfrom sklearn.decomposition import PCA\\nfrom pathlib import Path\\nimport skimage\\nimport gensim\\nimport fastai\\nimport plotly.graph_objs as go\\nimport altair as alt\\nimport imutils\\nimport tensorflow as tf\\nimport sklearn\\nfrom sklearn.preprocessing import OneHotEncoder\\nfrom sklearn.preprocessing import RobustScaler\\nfrom sklearn.model_selection import cross_val_score\\nfrom sklearn.linear_model import LassoCV\\nfrom sklearn.preprocessing import LabelEncoder\\nfrom sklearn.linear_model import LogisticRegression\\nfrom sklearn.manifold import TSNE\\nimport spacy\\nimport pydot\\nimport matplotlib.pyplot as plt\\nfrom PIL import Image\\nimport fbprophet\\nfrom sklearn.feature_extraction.text import CountVectorizer\\nfrom openpyxl import load_workbook\\nfrom sklearn.linear_model import ElasticNetCV\\nimport plotly.express as px\\nimport cv2\\nfrom sklearn.impute import SimpleImputer\\nfrom sklearn.feature_extraction.text import TfidfVectorizer\\nimport re\\nfrom statsmodels.tsa.arima_model import ARIMA\\nfrom sklearn.model_selection import RandomizedSearchCV\\nimport textblob\\nfrom sklearn.linear_model import ElasticNet\\nimport os\\nimport seaborn as sns\\nfrom xlrd import open_workbook\\nfrom fbprophet import Prophet\\nimport pandas as pd\\nfrom sklearn.linear_model import Lasso\\nfrom sklearn.preprocessing import PolynomialFeatures\\nimport nltk\\nfrom sklearn.model_selection import train_test_split\\nimport lightgbm as lgb\\nfrom scipy import stats\\nimport matplotlib as mpl\\nfrom sklearn.ensemble import RandomForestRegressor\\nimport xgboost as xgb'); }\n",
              "    "
            ],
            "text/plain": [
              "<IPython.core.display.Javascript object>"
            ]
          },
          "metadata": {
            "tags": []
          }
        },
        {
          "output_type": "display_data",
          "data": {
            "image/png": "[encoded data removed]",
            "text/plain": [
              "<Figure size 432x288 with 2 Axes>"
            ]
          },
          "metadata": {
            "tags": [],
            "needs_background": "light"
          }
        }
      ]
    },
    {
      "cell_type": "markdown",
      "metadata": {
        "id": "aQNUQYephcPz"
      },
      "source": [
        "##Preparação para o Modelo Linear Múltiplo"
      ]
    },
    {
      "cell_type": "markdown",
      "metadata": {
        "id": "LjPaKFoqhfVL"
      },
      "source": [
        "###Criação de N-1 Dummies"
      ]
    },
    {
      "cell_type": "markdown",
      "metadata": {
        "id": "Nsj9xFxxJ3as"
      },
      "source": [
        "Para utilização de variáveis categóricas em modelos lineares, devemos primeiro transformar elas em dummies, ou seja, serão criadas novas colunas para indicar a presença ou ausência de cada categoria da variável.\n",
        "\n",
        "Em regressões lineares, utilizarem o procedimento N-1 dummies, onde a categoria com mais frequência será retirada.   "
      ]
    },
    {
      "cell_type": "code",
      "metadata": {
        "colab": {
          "base_uri": "https://localhost:8080/",
          "height": 0
        },
        "id": "cT6qtQSVBTZ2",
        "outputId": "5a45ed2c-8e65-4cbd-9512-30e5c67ff017"
      },
      "source": [
        "planosaude_dummies=pd.get_dummies(planoSaude, columns=['plano'])\n",
        "planosaude_dummies.drop('plano_bronze', axis = 1 ,inplace = True)\n",
        "planosaude_dummies.head()"
      ],
      "execution_count": 518,
      "outputs": [
        {
          "output_type": "display_data",
          "data": {
            "application/javascript": [
              "\n",
              "        if (window._pyforest_update_imports_cell) { window._pyforest_update_imports_cell('import pickle\\nimport bokeh\\nfrom sklearn.linear_model import LinearRegression\\nfrom sklearn import metrics\\nfrom sklearn.linear_model import RidgeCV\\nfrom sklearn.preprocessing import MinMaxScaler\\nimport glob\\nimport plotly as py\\nimport statsmodels.api as sm\\nfrom sklearn.linear_model import Ridge\\nimport tqdm\\nimport torch\\nimport statistics\\nfrom sklearn.ensemble import RandomForestClassifier\\nfrom sklearn.decomposition import PCA\\nfrom pathlib import Path\\nimport skimage\\nimport gensim\\nimport fastai\\nimport plotly.graph_objs as go\\nimport altair as alt\\nimport imutils\\nimport tensorflow as tf\\nimport sklearn\\nfrom sklearn.preprocessing import OneHotEncoder\\nfrom sklearn.preprocessing import RobustScaler\\nfrom sklearn.model_selection import cross_val_score\\nfrom sklearn.linear_model import LassoCV\\nfrom sklearn.preprocessing import LabelEncoder\\nfrom sklearn.linear_model import LogisticRegression\\nfrom sklearn.manifold import TSNE\\nimport spacy\\nimport pydot\\nimport matplotlib.pyplot as plt\\nfrom PIL import Image\\nimport fbprophet\\nfrom sklearn.feature_extraction.text import CountVectorizer\\nfrom openpyxl import load_workbook\\nfrom sklearn.linear_model import ElasticNetCV\\nimport plotly.express as px\\nimport cv2\\nfrom sklearn.impute import SimpleImputer\\nfrom sklearn.feature_extraction.text import TfidfVectorizer\\nimport re\\nfrom statsmodels.tsa.arima_model import ARIMA\\nfrom sklearn.model_selection import RandomizedSearchCV\\nimport textblob\\nfrom sklearn.linear_model import ElasticNet\\nimport os\\nimport seaborn as sns\\nfrom xlrd import open_workbook\\nfrom fbprophet import Prophet\\nimport pandas as pd\\nfrom sklearn.linear_model import Lasso\\nfrom sklearn.preprocessing import PolynomialFeatures\\nimport nltk\\nfrom sklearn.model_selection import train_test_split\\nimport lightgbm as lgb\\nfrom scipy import stats\\nimport matplotlib as mpl\\nfrom sklearn.ensemble import RandomForestRegressor\\nimport xgboost as xgb'); }\n",
              "    "
            ],
            "text/plain": [
              "<IPython.core.display.Javascript object>"
            ]
          },
          "metadata": {
            "tags": []
          }
        },
        {
          "output_type": "execute_result",
          "data": {
            "text/html": [
              "<div>\n",
              "<style scoped>\n",
              "    .dataframe tbody tr th:only-of-type {\n",
              "        vertical-align: middle;\n",
              "    }\n",
              "\n",
              "    .dataframe tbody tr th {\n",
              "        vertical-align: top;\n",
              "    }\n",
              "\n",
              "    .dataframe thead th {\n",
              "        text-align: right;\n",
              "    }\n",
              "</style>\n",
              "<table border=\"1\" class=\"dataframe\">\n",
              "  <thead>\n",
              "    <tr style=\"text-align: right;\">\n",
              "      <th></th>\n",
              "      <th>id</th>\n",
              "      <th>despmed</th>\n",
              "      <th>idade</th>\n",
              "      <th>dcron</th>\n",
              "      <th>renda</th>\n",
              "      <th>plano_esmeralda</th>\n",
              "      <th>plano_ouro</th>\n",
              "    </tr>\n",
              "  </thead>\n",
              "  <tbody>\n",
              "    <tr>\n",
              "      <th>0</th>\n",
              "      <td>1</td>\n",
              "      <td>206.84</td>\n",
              "      <td>57</td>\n",
              "      <td>5</td>\n",
              "      <td>57.200001</td>\n",
              "      <td>0</td>\n",
              "      <td>0</td>\n",
              "    </tr>\n",
              "    <tr>\n",
              "      <th>1</th>\n",
              "      <td>2</td>\n",
              "      <td>184.19</td>\n",
              "      <td>67</td>\n",
              "      <td>4</td>\n",
              "      <td>67.199997</td>\n",
              "      <td>0</td>\n",
              "      <td>0</td>\n",
              "    </tr>\n",
              "    <tr>\n",
              "      <th>2</th>\n",
              "      <td>3</td>\n",
              "      <td>175.68</td>\n",
              "      <td>62</td>\n",
              "      <td>4</td>\n",
              "      <td>62.000000</td>\n",
              "      <td>0</td>\n",
              "      <td>0</td>\n",
              "    </tr>\n",
              "    <tr>\n",
              "      <th>3</th>\n",
              "      <td>4</td>\n",
              "      <td>180.04</td>\n",
              "      <td>67</td>\n",
              "      <td>5</td>\n",
              "      <td>67.199997</td>\n",
              "      <td>0</td>\n",
              "      <td>0</td>\n",
              "    </tr>\n",
              "    <tr>\n",
              "      <th>4</th>\n",
              "      <td>5</td>\n",
              "      <td>218.86</td>\n",
              "      <td>68</td>\n",
              "      <td>5</td>\n",
              "      <td>68.000000</td>\n",
              "      <td>0</td>\n",
              "      <td>0</td>\n",
              "    </tr>\n",
              "  </tbody>\n",
              "</table>\n",
              "</div>"
            ],
            "text/plain": [
              "   id  despmed  idade  dcron      renda  plano_esmeralda  plano_ouro\n",
              "0   1   206.84     57      5  57.200001                0           0\n",
              "1   2   184.19     67      4  67.199997                0           0\n",
              "2   3   175.68     62      4  62.000000                0           0\n",
              "3   4   180.04     67      5  67.199997                0           0\n",
              "4   5   218.86     68      5  68.000000                0           0"
            ]
          },
          "metadata": {
            "tags": []
          },
          "execution_count": 518
        }
      ]
    },
    {
      "cell_type": "markdown",
      "metadata": {
        "id": "dNCq4cYEhw9N"
      },
      "source": [
        "###Denifir Função para auxiliar à montagem de fórmulas"
      ]
    },
    {
      "cell_type": "markdown",
      "metadata": {
        "id": "60q8i5z4LPGN"
      },
      "source": [
        "O modelo do statsmodel utiliza de formulas para representar como será realizada a previsão\n",
        "\n",
        "Ex: y ~ x1 + x2\n",
        "\n",
        "Criaremos uma função para remover as variáveis que não estarão contidas na fórmula. \n",
        "OBS: O último parâmetro opcional será utilizado para retornar o dataFrame filtrado ao invés da fórmula. Utilizaremos isso mais para frente"
      ]
    },
    {
      "cell_type": "code",
      "metadata": {
        "id": "yxFI8otuFWD4"
      },
      "source": [
        "def montar_formula(df,colsRemover, y ,somenteColunas=False):\n",
        "    colsRemover.append(y) #y nunca será utilizada em sua própria previsão\n",
        "    if somenteColunas:\n",
        "      return df[[col for col in df.columns if col not in colsRemover]]\n",
        "    else:\n",
        "      return y + ' ~ ' + ' + '.join([col for col in df.columns if col not in colsRemover])"
      ],
      "execution_count": 519,
      "outputs": []
    },
    {
      "cell_type": "markdown",
      "metadata": {
        "id": "QaVa2tPLL83Z"
      },
      "source": [
        "Vamos demonstrar o uso da criação da fórmula e do retorno do DataFrame"
      ]
    },
    {
      "cell_type": "code",
      "metadata": {
        "colab": {
          "base_uri": "https://localhost:8080/",
          "height": 35
        },
        "id": "xUt16vX4L7-u",
        "outputId": "e2c8d196-06fe-492e-db6b-1a310be35f43"
      },
      "source": [
        "montar_formula(planoSaude,['id'],'despmed')"
      ],
      "execution_count": 520,
      "outputs": [
        {
          "output_type": "execute_result",
          "data": {
            "application/vnd.google.colaboratory.intrinsic+json": {
              "type": "string"
            },
            "text/plain": [
              "'despmed ~ idade + dcron + renda + plano'"
            ]
          },
          "metadata": {
            "tags": []
          },
          "execution_count": 520
        }
      ]
    },
    {
      "cell_type": "code",
      "metadata": {
        "colab": {
          "base_uri": "https://localhost:8080/",
          "height": 203
        },
        "id": "o4HDn_75MbWp",
        "outputId": "cc08d314-ecb4-40a5-db0c-02c9949c0ee8"
      },
      "source": [
        "montar_formula(planoSaude,['id'],'despmed',True).head()"
      ],
      "execution_count": 521,
      "outputs": [
        {
          "output_type": "execute_result",
          "data": {
            "text/html": [
              "<div>\n",
              "<style scoped>\n",
              "    .dataframe tbody tr th:only-of-type {\n",
              "        vertical-align: middle;\n",
              "    }\n",
              "\n",
              "    .dataframe tbody tr th {\n",
              "        vertical-align: top;\n",
              "    }\n",
              "\n",
              "    .dataframe thead th {\n",
              "        text-align: right;\n",
              "    }\n",
              "</style>\n",
              "<table border=\"1\" class=\"dataframe\">\n",
              "  <thead>\n",
              "    <tr style=\"text-align: right;\">\n",
              "      <th></th>\n",
              "      <th>idade</th>\n",
              "      <th>dcron</th>\n",
              "      <th>renda</th>\n",
              "      <th>plano</th>\n",
              "    </tr>\n",
              "  </thead>\n",
              "  <tbody>\n",
              "    <tr>\n",
              "      <th>0</th>\n",
              "      <td>57</td>\n",
              "      <td>5</td>\n",
              "      <td>57.200001</td>\n",
              "      <td>bronze</td>\n",
              "    </tr>\n",
              "    <tr>\n",
              "      <th>1</th>\n",
              "      <td>67</td>\n",
              "      <td>4</td>\n",
              "      <td>67.199997</td>\n",
              "      <td>bronze</td>\n",
              "    </tr>\n",
              "    <tr>\n",
              "      <th>2</th>\n",
              "      <td>62</td>\n",
              "      <td>4</td>\n",
              "      <td>62.000000</td>\n",
              "      <td>bronze</td>\n",
              "    </tr>\n",
              "    <tr>\n",
              "      <th>3</th>\n",
              "      <td>67</td>\n",
              "      <td>5</td>\n",
              "      <td>67.199997</td>\n",
              "      <td>bronze</td>\n",
              "    </tr>\n",
              "    <tr>\n",
              "      <th>4</th>\n",
              "      <td>68</td>\n",
              "      <td>5</td>\n",
              "      <td>68.000000</td>\n",
              "      <td>bronze</td>\n",
              "    </tr>\n",
              "  </tbody>\n",
              "</table>\n",
              "</div>"
            ],
            "text/plain": [
              "   idade  dcron      renda   plano\n",
              "0     57      5  57.200001  bronze\n",
              "1     67      4  67.199997  bronze\n",
              "2     62      4  62.000000  bronze\n",
              "3     67      5  67.199997  bronze\n",
              "4     68      5  68.000000  bronze"
            ]
          },
          "metadata": {
            "tags": []
          },
          "execution_count": 521
        }
      ]
    },
    {
      "cell_type": "markdown",
      "metadata": {
        "id": "TDs1FoWqhtPI"
      },
      "source": [
        "###Criação de Modelo de Regressão Linear Múltipla"
      ]
    },
    {
      "cell_type": "markdown",
      "metadata": {
        "id": "4RYnB96XMuzJ"
      },
      "source": [
        "Utilizando a mesma formula acima, criaremos o modelo"
      ]
    },
    {
      "cell_type": "code",
      "metadata": {
        "id": "jHNfjNYEB-Qz"
      },
      "source": [
        "formula = montar_formula(planosaude_dummies, ['id'], 'despmed')\n",
        "modelo_planoSaude = smf.ols(formula = formula, data = planosaude_dummies).fit()"
      ],
      "execution_count": 522,
      "outputs": []
    },
    {
      "cell_type": "markdown",
      "metadata": {
        "id": "Tl5_yQP4NNYR"
      },
      "source": [
        "Vamos verificar também seus parâmetros"
      ]
    },
    {
      "cell_type": "code",
      "metadata": {
        "colab": {
          "base_uri": "https://localhost:8080/"
        },
        "id": "5Hb3ifWkETbd",
        "outputId": "7bf9b0d9-15e1-4dc2-8a0f-f84026c1dd2f"
      },
      "source": [
        "print(modelo_planoSaude.summary())"
      ],
      "execution_count": 523,
      "outputs": [
        {
          "output_type": "stream",
          "text": [
            "                            OLS Regression Results                            \n",
            "==============================================================================\n",
            "Dep. Variable:                despmed   R-squared:                       0.871\n",
            "Model:                            OLS   Adj. R-squared:                  0.868\n",
            "Method:                 Least Squares   F-statistic:                     262.3\n",
            "Date:                Wed, 18 Aug 2021   Prob (F-statistic):           2.88e-84\n",
            "Time:                        18:34:57   Log-Likelihood:                -828.04\n",
            "No. Observations:                 200   AIC:                             1668.\n",
            "Df Residuals:                     194   BIC:                             1688.\n",
            "Df Model:                           5                                         \n",
            "Covariance Type:            nonrobust                                         \n",
            "===================================================================================\n",
            "                      coef    std err          t      P>|t|      [0.025      0.975]\n",
            "-----------------------------------------------------------------------------------\n",
            "Intercept         148.8596     12.744     11.681      0.000     123.725     173.994\n",
            "idade               8.9226      5.549      1.608      0.109      -2.021      19.866\n",
            "dcron               6.7232      1.600      4.201      0.000       3.567       9.879\n",
            "renda              -8.4425      5.464     -1.545      0.124     -19.219       2.334\n",
            "plano_esmeralda   -35.0189      4.685     -7.474      0.000     -44.259     -25.779\n",
            "plano_ouro        -58.7653      6.075     -9.673      0.000     -70.747     -46.783\n",
            "==============================================================================\n",
            "Omnibus:                       25.070   Durbin-Watson:                   1.775\n",
            "Prob(Omnibus):                  0.000   Jarque-Bera (JB):               48.329\n",
            "Skew:                           0.622   Prob(JB):                     3.20e-11\n",
            "Kurtosis:                       5.062   Cond. No.                         964.\n",
            "==============================================================================\n",
            "\n",
            "Notes:\n",
            "[1] Standard Errors assume that the covariance matrix of the errors is correctly specified.\n"
          ],
          "name": "stdout"
        }
      ]
    },
    {
      "cell_type": "markdown",
      "metadata": {
        "id": "sP0lXUP2NSmb"
      },
      "source": [
        "Vejamos alguns parâmetros: \n",
        "\n",
        "Obs: Estamos utilizando para esse exemplo o padrão de um nível de significância de 0.05 (5%) num intervalo de confiança de 95%.\n",
        "\n",
        "* R-squared: Indica quanto da variação da nossa y é explicada por um modelo linear. Nesse caso 87.%\n",
        "\n",
        "* Prob (F-statistic): : Indica a significância geral da regressão num teste f. Quanto mais próximas de zero, e menores que nosso nível de significância indicam geralmente que nossa regressão é significativa em pelo menos uma das variáveis utilizadas.\n",
        "\n",
        "* P>|t|: Indica a significância de cada variável num teste t. Quanto mais próxima de zero, e menor que nosso nível de significância indica que a variável é importante nesse atual modelo múltiplo criado."
      ]
    },
    {
      "cell_type": "markdown",
      "metadata": {
        "id": "sDG1z2uIPujF"
      },
      "source": [
        "###Interpretação um pouco mais Aprofundada dos Resultados"
      ]
    },
    {
      "cell_type": "markdown",
      "metadata": {
        "id": "jzEttwxCPWjG"
      },
      "source": [
        "Conforme visto acima, a idade e a renda parecem não serem importantes para **esse modelo** mesmo tendo altas correlações com nossa variável classe. vamos realizar uma regressão linear simples de cada uma dessas variável com nossa classe."
      ]
    },
    {
      "cell_type": "code",
      "metadata": {
        "colab": {
          "base_uri": "https://localhost:8080/"
        },
        "id": "vNv-cVhePqBQ",
        "outputId": "ab1baeef-fed4-4f2f-be51-b308ba7c8b62"
      },
      "source": [
        "modelo_renda = smf.ols(formula = 'y ~ renda', data = planoSaude).fit()\n",
        "print(modelo_renda.summary())"
      ],
      "execution_count": 524,
      "outputs": [
        {
          "output_type": "stream",
          "text": [
            "                            OLS Regression Results                            \n",
            "==============================================================================\n",
            "Dep. Variable:                      y   R-squared:                       0.749\n",
            "Model:                            OLS   Adj. R-squared:                  0.748\n",
            "Method:                 Least Squares   F-statistic:                     590.7\n",
            "Date:                Wed, 18 Aug 2021   Prob (F-statistic):           2.47e-61\n",
            "Time:                        18:34:57   Log-Likelihood:                -894.73\n",
            "No. Observations:                 200   AIC:                             1793.\n",
            "Df Residuals:                     198   BIC:                             1800.\n",
            "Df Model:                           1                                         \n",
            "Covariance Type:            nonrobust                                         \n",
            "==============================================================================\n",
            "                 coef    std err          t      P>|t|      [0.025      0.975]\n",
            "------------------------------------------------------------------------------\n",
            "Intercept     15.6543      6.175      2.535      0.012       3.477      27.831\n",
            "renda          2.9093      0.120     24.304      0.000       2.673       3.145\n",
            "==============================================================================\n",
            "Omnibus:                        0.940   Durbin-Watson:                   1.802\n",
            "Prob(Omnibus):                  0.625   Jarque-Bera (JB):                0.889\n",
            "Skew:                           0.162   Prob(JB):                        0.641\n",
            "Kurtosis:                       2.960   Cond. No.                         211.\n",
            "==============================================================================\n",
            "\n",
            "Notes:\n",
            "[1] Standard Errors assume that the covariance matrix of the errors is correctly specified.\n"
          ],
          "name": "stdout"
        }
      ]
    },
    {
      "cell_type": "code",
      "metadata": {
        "colab": {
          "base_uri": "https://localhost:8080/"
        },
        "id": "ZN-bZ_HQQGkX",
        "outputId": "db0f8967-5fc6-4577-fecc-4817b2866111"
      },
      "source": [
        "modelo_idade = smf.ols(formula = 'y ~ idade', data = planoSaude).fit()\n",
        "print(modelo_idade.summary())"
      ],
      "execution_count": 525,
      "outputs": [
        {
          "output_type": "stream",
          "text": [
            "                            OLS Regression Results                            \n",
            "==============================================================================\n",
            "Dep. Variable:                      y   R-squared:                       0.752\n",
            "Model:                            OLS   Adj. R-squared:                  0.751\n",
            "Method:                 Least Squares   F-statistic:                     601.0\n",
            "Date:                Wed, 18 Aug 2021   Prob (F-statistic):           6.82e-62\n",
            "Time:                        18:34:57   Log-Likelihood:                -893.43\n",
            "No. Observations:                 200   AIC:                             1791.\n",
            "Df Residuals:                     198   BIC:                             1797.\n",
            "Df Model:                           1                                         \n",
            "Covariance Type:            nonrobust                                         \n",
            "==============================================================================\n",
            "                 coef    std err          t      P>|t|      [0.025      0.975]\n",
            "------------------------------------------------------------------------------\n",
            "Intercept     14.4604      6.170      2.344      0.020       2.294      26.627\n",
            "idade          2.9339      0.120     24.515      0.000       2.698       3.170\n",
            "==============================================================================\n",
            "Omnibus:                        0.802   Durbin-Watson:                   1.810\n",
            "Prob(Omnibus):                  0.670   Jarque-Bera (JB):                0.778\n",
            "Skew:                           0.150   Prob(JB):                        0.678\n",
            "Kurtosis:                       2.944   Cond. No.                         212.\n",
            "==============================================================================\n",
            "\n",
            "Notes:\n",
            "[1] Standard Errors assume that the covariance matrix of the errors is correctly specified.\n"
          ],
          "name": "stdout"
        }
      ]
    },
    {
      "cell_type": "markdown",
      "metadata": {
        "id": "02D_il5yQKi0"
      },
      "source": [
        "Interessante, veja que ambos os testes passam em todos os parâmetros observados anteriormente. Isso pode indicar que alguma de nossas outras variáveis utilizadas (dcron ou as dummies do plano) estão capturando essa variabilidade presente tanto na renda quanto na idade, sendo assim não tão relevantes **naquele** modelo múltiplo. Vamos então melhorar nosso modelo com uma técnica muita utilizada: **Stepwise**"
      ]
    },
    {
      "cell_type": "markdown",
      "metadata": {
        "id": "FRC8sVhTiL_V"
      },
      "source": [
        "##Stepwise"
      ]
    },
    {
      "cell_type": "markdown",
      "metadata": {
        "id": "_kkFT5BZRA5n"
      },
      "source": [
        "A regressão stepwise é a construção iterativa passo a passo de um modelo de regressão que envolve a seleção de variáveis ​​independentes a serem usadas em um modelo final. Envolve adicionar ou remover variáveis ​​explicativas potenciais em sucessão e testar a significância estatística após cada iteração."
      ]
    },
    {
      "cell_type": "markdown",
      "metadata": {
        "id": "7JPuPNX2ijta"
      },
      "source": [
        "###Separar variáveis preditoras e classe"
      ]
    },
    {
      "cell_type": "markdown",
      "metadata": {
        "id": "k66V8KuDRKl-"
      },
      "source": [
        "Serpararemos primeiro as variáveis preditoras da classe em outras X e y para realização do teste "
      ]
    },
    {
      "cell_type": "code",
      "metadata": {
        "id": "qLCYRj_kHnuV"
      },
      "source": [
        "X = montar_formula(planosaude_dummies, ['id'], 'despmed', True)\n",
        "y = planosaude_dummies['despmed']"
      ],
      "execution_count": 526,
      "outputs": []
    },
    {
      "cell_type": "markdown",
      "metadata": {
        "id": "wOuDIKQminPT"
      },
      "source": [
        "###Definir função para realização do stepwise"
      ]
    },
    {
      "cell_type": "markdown",
      "metadata": {
        "id": "KzpZHyQrRcN2"
      },
      "source": [
        "Para realização desse filtro, devemos buscar as melhores variáveis preditoras. Nesse caso criei um função que filtrará baseado nos melhores p-values em relação ao nosso nível de significância durante iterativas passagens."
      ]
    },
    {
      "cell_type": "code",
      "metadata": {
        "id": "qYMS6oS3Myf6"
      },
      "source": [
        "def step(X, y,significancia=0.05):\n",
        "    lista_inicial = []\n",
        "    incluidos = list(lista_inicial)\n",
        "    while True:\n",
        "        modificado=False\n",
        "        excluidos = list(set(X.columns) - set(incluidos))\n",
        "        novo_pvalue = pd.Series(index = excluidos, dtype='float32')\n",
        "        for nova_coluna in excluidos:\n",
        "            modelo = sm.OLS(y, sm.add_constant(pd.DataFrame(X[incluidos + [nova_coluna]]))).fit()\n",
        "            novo_pvalue[nova_coluna] = modelo.pvalues[nova_coluna]\n",
        "        melhor_pvalue = novo_pvalue.min()\n",
        "        if melhor_pvalue < significancia:\n",
        "            melhor_caracteristica = novo_pvalue.idxmin()\n",
        "            incluidos.append(melhor_caracteristica)\n",
        "            modificado=True            \n",
        "\n",
        "        if not modificado:\n",
        "            break\n",
        "\n",
        "    return incluidos"
      ],
      "execution_count": 527,
      "outputs": []
    },
    {
      "cell_type": "markdown",
      "metadata": {
        "id": "IQr5FxqfTP2T"
      },
      "source": [
        "Vejamos o resultado obtido"
      ]
    },
    {
      "cell_type": "code",
      "metadata": {
        "colab": {
          "base_uri": "https://localhost:8080/",
          "height": 0
        },
        "id": "OmGu_PbsNoMi",
        "outputId": "2c9351cf-2fac-4a38-91b0-ef71e6cabcba"
      },
      "source": [
        "step(X,y)"
      ],
      "execution_count": 528,
      "outputs": [
        {
          "output_type": "display_data",
          "data": {
            "application/javascript": [
              "\n",
              "        if (window._pyforest_update_imports_cell) { window._pyforest_update_imports_cell('import pickle\\nimport bokeh\\nfrom sklearn.linear_model import LinearRegression\\nfrom sklearn import metrics\\nfrom sklearn.linear_model import RidgeCV\\nfrom sklearn.preprocessing import MinMaxScaler\\nimport glob\\nimport plotly as py\\nimport statsmodels.api as sm\\nfrom sklearn.linear_model import Ridge\\nimport tqdm\\nimport torch\\nimport statistics\\nfrom sklearn.ensemble import RandomForestClassifier\\nfrom sklearn.decomposition import PCA\\nfrom pathlib import Path\\nimport skimage\\nimport gensim\\nimport fastai\\nimport plotly.graph_objs as go\\nimport altair as alt\\nimport imutils\\nimport tensorflow as tf\\nimport sklearn\\nfrom sklearn.preprocessing import OneHotEncoder\\nfrom sklearn.preprocessing import RobustScaler\\nfrom sklearn.model_selection import cross_val_score\\nfrom sklearn.linear_model import LassoCV\\nfrom sklearn.preprocessing import LabelEncoder\\nfrom sklearn.linear_model import LogisticRegression\\nfrom sklearn.manifold import TSNE\\nimport spacy\\nimport pydot\\nimport matplotlib.pyplot as plt\\nfrom PIL import Image\\nimport fbprophet\\nfrom sklearn.feature_extraction.text import CountVectorizer\\nfrom openpyxl import load_workbook\\nfrom sklearn.linear_model import ElasticNetCV\\nimport plotly.express as px\\nimport cv2\\nfrom sklearn.impute import SimpleImputer\\nfrom sklearn.feature_extraction.text import TfidfVectorizer\\nimport re\\nfrom statsmodels.tsa.arima_model import ARIMA\\nfrom sklearn.model_selection import RandomizedSearchCV\\nimport textblob\\nfrom sklearn.linear_model import ElasticNet\\nimport os\\nimport seaborn as sns\\nfrom xlrd import open_workbook\\nfrom fbprophet import Prophet\\nimport pandas as pd\\nfrom sklearn.linear_model import Lasso\\nfrom sklearn.preprocessing import PolynomialFeatures\\nimport nltk\\nfrom sklearn.model_selection import train_test_split\\nimport lightgbm as lgb\\nfrom scipy import stats\\nimport matplotlib as mpl\\nfrom sklearn.ensemble import RandomForestRegressor\\nimport xgboost as xgb'); }\n",
              "    "
            ],
            "text/plain": [
              "<IPython.core.display.Javascript object>"
            ]
          },
          "metadata": {
            "tags": []
          }
        },
        {
          "output_type": "display_data",
          "data": {
            "application/javascript": [
              "\n",
              "        if (window._pyforest_update_imports_cell) { window._pyforest_update_imports_cell('import pickle\\nimport bokeh\\nfrom sklearn.linear_model import LinearRegression\\nfrom sklearn import metrics\\nfrom sklearn.linear_model import RidgeCV\\nfrom sklearn.preprocessing import MinMaxScaler\\nimport glob\\nimport plotly as py\\nimport statsmodels.api as sm\\nfrom sklearn.linear_model import Ridge\\nimport tqdm\\nimport torch\\nimport statistics\\nfrom sklearn.ensemble import RandomForestClassifier\\nfrom sklearn.decomposition import PCA\\nfrom pathlib import Path\\nimport skimage\\nimport gensim\\nimport fastai\\nimport plotly.graph_objs as go\\nimport altair as alt\\nimport imutils\\nimport tensorflow as tf\\nimport sklearn\\nfrom sklearn.preprocessing import OneHotEncoder\\nfrom sklearn.preprocessing import RobustScaler\\nfrom sklearn.model_selection import cross_val_score\\nfrom sklearn.linear_model import LassoCV\\nfrom sklearn.preprocessing import LabelEncoder\\nfrom sklearn.linear_model import LogisticRegression\\nfrom sklearn.manifold import TSNE\\nimport spacy\\nimport pydot\\nimport matplotlib.pyplot as plt\\nfrom PIL import Image\\nimport fbprophet\\nfrom sklearn.feature_extraction.text import CountVectorizer\\nfrom openpyxl import load_workbook\\nfrom sklearn.linear_model import ElasticNetCV\\nimport plotly.express as px\\nimport cv2\\nfrom sklearn.impute import SimpleImputer\\nfrom sklearn.feature_extraction.text import TfidfVectorizer\\nimport re\\nfrom statsmodels.tsa.arima_model import ARIMA\\nfrom sklearn.model_selection import RandomizedSearchCV\\nimport textblob\\nfrom sklearn.linear_model import ElasticNet\\nimport os\\nimport seaborn as sns\\nfrom xlrd import open_workbook\\nfrom fbprophet import Prophet\\nimport pandas as pd\\nfrom sklearn.linear_model import Lasso\\nfrom sklearn.preprocessing import PolynomialFeatures\\nimport nltk\\nfrom sklearn.model_selection import train_test_split\\nimport lightgbm as lgb\\nfrom scipy import stats\\nimport matplotlib as mpl\\nfrom sklearn.ensemble import RandomForestRegressor\\nimport xgboost as xgb'); }\n",
              "    "
            ],
            "text/plain": [
              "<IPython.core.display.Javascript object>"
            ]
          },
          "metadata": {
            "tags": []
          }
        },
        {
          "output_type": "display_data",
          "data": {
            "application/javascript": [
              "\n",
              "        if (window._pyforest_update_imports_cell) { window._pyforest_update_imports_cell('import pickle\\nimport bokeh\\nfrom sklearn.linear_model import LinearRegression\\nfrom sklearn import metrics\\nfrom sklearn.linear_model import RidgeCV\\nfrom sklearn.preprocessing import MinMaxScaler\\nimport glob\\nimport plotly as py\\nimport statsmodels.api as sm\\nfrom sklearn.linear_model import Ridge\\nimport tqdm\\nimport torch\\nimport statistics\\nfrom sklearn.ensemble import RandomForestClassifier\\nfrom sklearn.decomposition import PCA\\nfrom pathlib import Path\\nimport skimage\\nimport gensim\\nimport fastai\\nimport plotly.graph_objs as go\\nimport altair as alt\\nimport imutils\\nimport tensorflow as tf\\nimport sklearn\\nfrom sklearn.preprocessing import OneHotEncoder\\nfrom sklearn.preprocessing import RobustScaler\\nfrom sklearn.model_selection import cross_val_score\\nfrom sklearn.linear_model import LassoCV\\nfrom sklearn.preprocessing import LabelEncoder\\nfrom sklearn.linear_model import LogisticRegression\\nfrom sklearn.manifold import TSNE\\nimport spacy\\nimport pydot\\nimport matplotlib.pyplot as plt\\nfrom PIL import Image\\nimport fbprophet\\nfrom sklearn.feature_extraction.text import CountVectorizer\\nfrom openpyxl import load_workbook\\nfrom sklearn.linear_model import ElasticNetCV\\nimport plotly.express as px\\nimport cv2\\nfrom sklearn.impute import SimpleImputer\\nfrom sklearn.feature_extraction.text import TfidfVectorizer\\nimport re\\nfrom statsmodels.tsa.arima_model import ARIMA\\nfrom sklearn.model_selection import RandomizedSearchCV\\nimport textblob\\nfrom sklearn.linear_model import ElasticNet\\nimport os\\nimport seaborn as sns\\nfrom xlrd import open_workbook\\nfrom fbprophet import Prophet\\nimport pandas as pd\\nfrom sklearn.linear_model import Lasso\\nfrom sklearn.preprocessing import PolynomialFeatures\\nimport nltk\\nfrom sklearn.model_selection import train_test_split\\nimport lightgbm as lgb\\nfrom scipy import stats\\nimport matplotlib as mpl\\nfrom sklearn.ensemble import RandomForestRegressor\\nimport xgboost as xgb'); }\n",
              "    "
            ],
            "text/plain": [
              "<IPython.core.display.Javascript object>"
            ]
          },
          "metadata": {
            "tags": []
          }
        },
        {
          "output_type": "display_data",
          "data": {
            "application/javascript": [
              "\n",
              "        if (window._pyforest_update_imports_cell) { window._pyforest_update_imports_cell('import pickle\\nimport bokeh\\nfrom sklearn.linear_model import LinearRegression\\nfrom sklearn import metrics\\nfrom sklearn.linear_model import RidgeCV\\nfrom sklearn.preprocessing import MinMaxScaler\\nimport glob\\nimport plotly as py\\nimport statsmodels.api as sm\\nfrom sklearn.linear_model import Ridge\\nimport tqdm\\nimport torch\\nimport statistics\\nfrom sklearn.ensemble import RandomForestClassifier\\nfrom sklearn.decomposition import PCA\\nfrom pathlib import Path\\nimport skimage\\nimport gensim\\nimport fastai\\nimport plotly.graph_objs as go\\nimport altair as alt\\nimport imutils\\nimport tensorflow as tf\\nimport sklearn\\nfrom sklearn.preprocessing import OneHotEncoder\\nfrom sklearn.preprocessing import RobustScaler\\nfrom sklearn.model_selection import cross_val_score\\nfrom sklearn.linear_model import LassoCV\\nfrom sklearn.preprocessing import LabelEncoder\\nfrom sklearn.linear_model import LogisticRegression\\nfrom sklearn.manifold import TSNE\\nimport spacy\\nimport pydot\\nimport matplotlib.pyplot as plt\\nfrom PIL import Image\\nimport fbprophet\\nfrom sklearn.feature_extraction.text import CountVectorizer\\nfrom openpyxl import load_workbook\\nfrom sklearn.linear_model import ElasticNetCV\\nimport plotly.express as px\\nimport cv2\\nfrom sklearn.impute import SimpleImputer\\nfrom sklearn.feature_extraction.text import TfidfVectorizer\\nimport re\\nfrom statsmodels.tsa.arima_model import ARIMA\\nfrom sklearn.model_selection import RandomizedSearchCV\\nimport textblob\\nfrom sklearn.linear_model import ElasticNet\\nimport os\\nimport seaborn as sns\\nfrom xlrd import open_workbook\\nfrom fbprophet import Prophet\\nimport pandas as pd\\nfrom sklearn.linear_model import Lasso\\nfrom sklearn.preprocessing import PolynomialFeatures\\nimport nltk\\nfrom sklearn.model_selection import train_test_split\\nimport lightgbm as lgb\\nfrom scipy import stats\\nimport matplotlib as mpl\\nfrom sklearn.ensemble import RandomForestRegressor\\nimport xgboost as xgb'); }\n",
              "    "
            ],
            "text/plain": [
              "<IPython.core.display.Javascript object>"
            ]
          },
          "metadata": {
            "tags": []
          }
        },
        {
          "output_type": "display_data",
          "data": {
            "application/javascript": [
              "\n",
              "        if (window._pyforest_update_imports_cell) { window._pyforest_update_imports_cell('import pickle\\nimport bokeh\\nfrom sklearn.linear_model import LinearRegression\\nfrom sklearn import metrics\\nfrom sklearn.linear_model import RidgeCV\\nfrom sklearn.preprocessing import MinMaxScaler\\nimport glob\\nimport plotly as py\\nimport statsmodels.api as sm\\nfrom sklearn.linear_model import Ridge\\nimport tqdm\\nimport torch\\nimport statistics\\nfrom sklearn.ensemble import RandomForestClassifier\\nfrom sklearn.decomposition import PCA\\nfrom pathlib import Path\\nimport skimage\\nimport gensim\\nimport fastai\\nimport plotly.graph_objs as go\\nimport altair as alt\\nimport imutils\\nimport tensorflow as tf\\nimport sklearn\\nfrom sklearn.preprocessing import OneHotEncoder\\nfrom sklearn.preprocessing import RobustScaler\\nfrom sklearn.model_selection import cross_val_score\\nfrom sklearn.linear_model import LassoCV\\nfrom sklearn.preprocessing import LabelEncoder\\nfrom sklearn.linear_model import LogisticRegression\\nfrom sklearn.manifold import TSNE\\nimport spacy\\nimport pydot\\nimport matplotlib.pyplot as plt\\nfrom PIL import Image\\nimport fbprophet\\nfrom sklearn.feature_extraction.text import CountVectorizer\\nfrom openpyxl import load_workbook\\nfrom sklearn.linear_model import ElasticNetCV\\nimport plotly.express as px\\nimport cv2\\nfrom sklearn.impute import SimpleImputer\\nfrom sklearn.feature_extraction.text import TfidfVectorizer\\nimport re\\nfrom statsmodels.tsa.arima_model import ARIMA\\nfrom sklearn.model_selection import RandomizedSearchCV\\nimport textblob\\nfrom sklearn.linear_model import ElasticNet\\nimport os\\nimport seaborn as sns\\nfrom xlrd import open_workbook\\nfrom fbprophet import Prophet\\nimport pandas as pd\\nfrom sklearn.linear_model import Lasso\\nfrom sklearn.preprocessing import PolynomialFeatures\\nimport nltk\\nfrom sklearn.model_selection import train_test_split\\nimport lightgbm as lgb\\nfrom scipy import stats\\nimport matplotlib as mpl\\nfrom sklearn.ensemble import RandomForestRegressor\\nimport xgboost as xgb'); }\n",
              "    "
            ],
            "text/plain": [
              "<IPython.core.display.Javascript object>"
            ]
          },
          "metadata": {
            "tags": []
          }
        },
        {
          "output_type": "display_data",
          "data": {
            "application/javascript": [
              "\n",
              "        if (window._pyforest_update_imports_cell) { window._pyforest_update_imports_cell('import pickle\\nimport bokeh\\nfrom sklearn.linear_model import LinearRegression\\nfrom sklearn import metrics\\nfrom sklearn.linear_model import RidgeCV\\nfrom sklearn.preprocessing import MinMaxScaler\\nimport glob\\nimport plotly as py\\nimport statsmodels.api as sm\\nfrom sklearn.linear_model import Ridge\\nimport tqdm\\nimport torch\\nimport statistics\\nfrom sklearn.ensemble import RandomForestClassifier\\nfrom sklearn.decomposition import PCA\\nfrom pathlib import Path\\nimport skimage\\nimport gensim\\nimport fastai\\nimport plotly.graph_objs as go\\nimport altair as alt\\nimport imutils\\nimport tensorflow as tf\\nimport sklearn\\nfrom sklearn.preprocessing import OneHotEncoder\\nfrom sklearn.preprocessing import RobustScaler\\nfrom sklearn.model_selection import cross_val_score\\nfrom sklearn.linear_model import LassoCV\\nfrom sklearn.preprocessing import LabelEncoder\\nfrom sklearn.linear_model import LogisticRegression\\nfrom sklearn.manifold import TSNE\\nimport spacy\\nimport pydot\\nimport matplotlib.pyplot as plt\\nfrom PIL import Image\\nimport fbprophet\\nfrom sklearn.feature_extraction.text import CountVectorizer\\nfrom openpyxl import load_workbook\\nfrom sklearn.linear_model import ElasticNetCV\\nimport plotly.express as px\\nimport cv2\\nfrom sklearn.impute import SimpleImputer\\nfrom sklearn.feature_extraction.text import TfidfVectorizer\\nimport re\\nfrom statsmodels.tsa.arima_model import ARIMA\\nfrom sklearn.model_selection import RandomizedSearchCV\\nimport textblob\\nfrom sklearn.linear_model import ElasticNet\\nimport os\\nimport seaborn as sns\\nfrom xlrd import open_workbook\\nfrom fbprophet import Prophet\\nimport pandas as pd\\nfrom sklearn.linear_model import Lasso\\nfrom sklearn.preprocessing import PolynomialFeatures\\nimport nltk\\nfrom sklearn.model_selection import train_test_split\\nimport lightgbm as lgb\\nfrom scipy import stats\\nimport matplotlib as mpl\\nfrom sklearn.ensemble import RandomForestRegressor\\nimport xgboost as xgb'); }\n",
              "    "
            ],
            "text/plain": [
              "<IPython.core.display.Javascript object>"
            ]
          },
          "metadata": {
            "tags": []
          }
        },
        {
          "output_type": "display_data",
          "data": {
            "application/javascript": [
              "\n",
              "        if (window._pyforest_update_imports_cell) { window._pyforest_update_imports_cell('import pickle\\nimport bokeh\\nfrom sklearn.linear_model import LinearRegression\\nfrom sklearn import metrics\\nfrom sklearn.linear_model import RidgeCV\\nfrom sklearn.preprocessing import MinMaxScaler\\nimport glob\\nimport plotly as py\\nimport statsmodels.api as sm\\nfrom sklearn.linear_model import Ridge\\nimport tqdm\\nimport torch\\nimport statistics\\nfrom sklearn.ensemble import RandomForestClassifier\\nfrom sklearn.decomposition import PCA\\nfrom pathlib import Path\\nimport skimage\\nimport gensim\\nimport fastai\\nimport plotly.graph_objs as go\\nimport altair as alt\\nimport imutils\\nimport tensorflow as tf\\nimport sklearn\\nfrom sklearn.preprocessing import OneHotEncoder\\nfrom sklearn.preprocessing import RobustScaler\\nfrom sklearn.model_selection import cross_val_score\\nfrom sklearn.linear_model import LassoCV\\nfrom sklearn.preprocessing import LabelEncoder\\nfrom sklearn.linear_model import LogisticRegression\\nfrom sklearn.manifold import TSNE\\nimport spacy\\nimport pydot\\nimport matplotlib.pyplot as plt\\nfrom PIL import Image\\nimport fbprophet\\nfrom sklearn.feature_extraction.text import CountVectorizer\\nfrom openpyxl import load_workbook\\nfrom sklearn.linear_model import ElasticNetCV\\nimport plotly.express as px\\nimport cv2\\nfrom sklearn.impute import SimpleImputer\\nfrom sklearn.feature_extraction.text import TfidfVectorizer\\nimport re\\nfrom statsmodels.tsa.arima_model import ARIMA\\nfrom sklearn.model_selection import RandomizedSearchCV\\nimport textblob\\nfrom sklearn.linear_model import ElasticNet\\nimport os\\nimport seaborn as sns\\nfrom xlrd import open_workbook\\nfrom fbprophet import Prophet\\nimport pandas as pd\\nfrom sklearn.linear_model import Lasso\\nfrom sklearn.preprocessing import PolynomialFeatures\\nimport nltk\\nfrom sklearn.model_selection import train_test_split\\nimport lightgbm as lgb\\nfrom scipy import stats\\nimport matplotlib as mpl\\nfrom sklearn.ensemble import RandomForestRegressor\\nimport xgboost as xgb'); }\n",
              "    "
            ],
            "text/plain": [
              "<IPython.core.display.Javascript object>"
            ]
          },
          "metadata": {
            "tags": []
          }
        },
        {
          "output_type": "display_data",
          "data": {
            "application/javascript": [
              "\n",
              "        if (window._pyforest_update_imports_cell) { window._pyforest_update_imports_cell('import pickle\\nimport bokeh\\nfrom sklearn.linear_model import LinearRegression\\nfrom sklearn import metrics\\nfrom sklearn.linear_model import RidgeCV\\nfrom sklearn.preprocessing import MinMaxScaler\\nimport glob\\nimport plotly as py\\nimport statsmodels.api as sm\\nfrom sklearn.linear_model import Ridge\\nimport tqdm\\nimport torch\\nimport statistics\\nfrom sklearn.ensemble import RandomForestClassifier\\nfrom sklearn.decomposition import PCA\\nfrom pathlib import Path\\nimport skimage\\nimport gensim\\nimport fastai\\nimport plotly.graph_objs as go\\nimport altair as alt\\nimport imutils\\nimport tensorflow as tf\\nimport sklearn\\nfrom sklearn.preprocessing import OneHotEncoder\\nfrom sklearn.preprocessing import RobustScaler\\nfrom sklearn.model_selection import cross_val_score\\nfrom sklearn.linear_model import LassoCV\\nfrom sklearn.preprocessing import LabelEncoder\\nfrom sklearn.linear_model import LogisticRegression\\nfrom sklearn.manifold import TSNE\\nimport spacy\\nimport pydot\\nimport matplotlib.pyplot as plt\\nfrom PIL import Image\\nimport fbprophet\\nfrom sklearn.feature_extraction.text import CountVectorizer\\nfrom openpyxl import load_workbook\\nfrom sklearn.linear_model import ElasticNetCV\\nimport plotly.express as px\\nimport cv2\\nfrom sklearn.impute import SimpleImputer\\nfrom sklearn.feature_extraction.text import TfidfVectorizer\\nimport re\\nfrom statsmodels.tsa.arima_model import ARIMA\\nfrom sklearn.model_selection import RandomizedSearchCV\\nimport textblob\\nfrom sklearn.linear_model import ElasticNet\\nimport os\\nimport seaborn as sns\\nfrom xlrd import open_workbook\\nfrom fbprophet import Prophet\\nimport pandas as pd\\nfrom sklearn.linear_model import Lasso\\nfrom sklearn.preprocessing import PolynomialFeatures\\nimport nltk\\nfrom sklearn.model_selection import train_test_split\\nimport lightgbm as lgb\\nfrom scipy import stats\\nimport matplotlib as mpl\\nfrom sklearn.ensemble import RandomForestRegressor\\nimport xgboost as xgb'); }\n",
              "    "
            ],
            "text/plain": [
              "<IPython.core.display.Javascript object>"
            ]
          },
          "metadata": {
            "tags": []
          }
        },
        {
          "output_type": "display_data",
          "data": {
            "application/javascript": [
              "\n",
              "        if (window._pyforest_update_imports_cell) { window._pyforest_update_imports_cell('import pickle\\nimport bokeh\\nfrom sklearn.linear_model import LinearRegression\\nfrom sklearn import metrics\\nfrom sklearn.linear_model import RidgeCV\\nfrom sklearn.preprocessing import MinMaxScaler\\nimport glob\\nimport plotly as py\\nimport statsmodels.api as sm\\nfrom sklearn.linear_model import Ridge\\nimport tqdm\\nimport torch\\nimport statistics\\nfrom sklearn.ensemble import RandomForestClassifier\\nfrom sklearn.decomposition import PCA\\nfrom pathlib import Path\\nimport skimage\\nimport gensim\\nimport fastai\\nimport plotly.graph_objs as go\\nimport altair as alt\\nimport imutils\\nimport tensorflow as tf\\nimport sklearn\\nfrom sklearn.preprocessing import OneHotEncoder\\nfrom sklearn.preprocessing import RobustScaler\\nfrom sklearn.model_selection import cross_val_score\\nfrom sklearn.linear_model import LassoCV\\nfrom sklearn.preprocessing import LabelEncoder\\nfrom sklearn.linear_model import LogisticRegression\\nfrom sklearn.manifold import TSNE\\nimport spacy\\nimport pydot\\nimport matplotlib.pyplot as plt\\nfrom PIL import Image\\nimport fbprophet\\nfrom sklearn.feature_extraction.text import CountVectorizer\\nfrom openpyxl import load_workbook\\nfrom sklearn.linear_model import ElasticNetCV\\nimport plotly.express as px\\nimport cv2\\nfrom sklearn.impute import SimpleImputer\\nfrom sklearn.feature_extraction.text import TfidfVectorizer\\nimport re\\nfrom statsmodels.tsa.arima_model import ARIMA\\nfrom sklearn.model_selection import RandomizedSearchCV\\nimport textblob\\nfrom sklearn.linear_model import ElasticNet\\nimport os\\nimport seaborn as sns\\nfrom xlrd import open_workbook\\nfrom fbprophet import Prophet\\nimport pandas as pd\\nfrom sklearn.linear_model import Lasso\\nfrom sklearn.preprocessing import PolynomialFeatures\\nimport nltk\\nfrom sklearn.model_selection import train_test_split\\nimport lightgbm as lgb\\nfrom scipy import stats\\nimport matplotlib as mpl\\nfrom sklearn.ensemble import RandomForestRegressor\\nimport xgboost as xgb'); }\n",
              "    "
            ],
            "text/plain": [
              "<IPython.core.display.Javascript object>"
            ]
          },
          "metadata": {
            "tags": []
          }
        },
        {
          "output_type": "display_data",
          "data": {
            "application/javascript": [
              "\n",
              "        if (window._pyforest_update_imports_cell) { window._pyforest_update_imports_cell('import pickle\\nimport bokeh\\nfrom sklearn.linear_model import LinearRegression\\nfrom sklearn import metrics\\nfrom sklearn.linear_model import RidgeCV\\nfrom sklearn.preprocessing import MinMaxScaler\\nimport glob\\nimport plotly as py\\nimport statsmodels.api as sm\\nfrom sklearn.linear_model import Ridge\\nimport tqdm\\nimport torch\\nimport statistics\\nfrom sklearn.ensemble import RandomForestClassifier\\nfrom sklearn.decomposition import PCA\\nfrom pathlib import Path\\nimport skimage\\nimport gensim\\nimport fastai\\nimport plotly.graph_objs as go\\nimport altair as alt\\nimport imutils\\nimport tensorflow as tf\\nimport sklearn\\nfrom sklearn.preprocessing import OneHotEncoder\\nfrom sklearn.preprocessing import RobustScaler\\nfrom sklearn.model_selection import cross_val_score\\nfrom sklearn.linear_model import LassoCV\\nfrom sklearn.preprocessing import LabelEncoder\\nfrom sklearn.linear_model import LogisticRegression\\nfrom sklearn.manifold import TSNE\\nimport spacy\\nimport pydot\\nimport matplotlib.pyplot as plt\\nfrom PIL import Image\\nimport fbprophet\\nfrom sklearn.feature_extraction.text import CountVectorizer\\nfrom openpyxl import load_workbook\\nfrom sklearn.linear_model import ElasticNetCV\\nimport plotly.express as px\\nimport cv2\\nfrom sklearn.impute import SimpleImputer\\nfrom sklearn.feature_extraction.text import TfidfVectorizer\\nimport re\\nfrom statsmodels.tsa.arima_model import ARIMA\\nfrom sklearn.model_selection import RandomizedSearchCV\\nimport textblob\\nfrom sklearn.linear_model import ElasticNet\\nimport os\\nimport seaborn as sns\\nfrom xlrd import open_workbook\\nfrom fbprophet import Prophet\\nimport pandas as pd\\nfrom sklearn.linear_model import Lasso\\nfrom sklearn.preprocessing import PolynomialFeatures\\nimport nltk\\nfrom sklearn.model_selection import train_test_split\\nimport lightgbm as lgb\\nfrom scipy import stats\\nimport matplotlib as mpl\\nfrom sklearn.ensemble import RandomForestRegressor\\nimport xgboost as xgb'); }\n",
              "    "
            ],
            "text/plain": [
              "<IPython.core.display.Javascript object>"
            ]
          },
          "metadata": {
            "tags": []
          }
        },
        {
          "output_type": "display_data",
          "data": {
            "application/javascript": [
              "\n",
              "        if (window._pyforest_update_imports_cell) { window._pyforest_update_imports_cell('import pickle\\nimport bokeh\\nfrom sklearn.linear_model import LinearRegression\\nfrom sklearn import metrics\\nfrom sklearn.linear_model import RidgeCV\\nfrom sklearn.preprocessing import MinMaxScaler\\nimport glob\\nimport plotly as py\\nimport statsmodels.api as sm\\nfrom sklearn.linear_model import Ridge\\nimport tqdm\\nimport torch\\nimport statistics\\nfrom sklearn.ensemble import RandomForestClassifier\\nfrom sklearn.decomposition import PCA\\nfrom pathlib import Path\\nimport skimage\\nimport gensim\\nimport fastai\\nimport plotly.graph_objs as go\\nimport altair as alt\\nimport imutils\\nimport tensorflow as tf\\nimport sklearn\\nfrom sklearn.preprocessing import OneHotEncoder\\nfrom sklearn.preprocessing import RobustScaler\\nfrom sklearn.model_selection import cross_val_score\\nfrom sklearn.linear_model import LassoCV\\nfrom sklearn.preprocessing import LabelEncoder\\nfrom sklearn.linear_model import LogisticRegression\\nfrom sklearn.manifold import TSNE\\nimport spacy\\nimport pydot\\nimport matplotlib.pyplot as plt\\nfrom PIL import Image\\nimport fbprophet\\nfrom sklearn.feature_extraction.text import CountVectorizer\\nfrom openpyxl import load_workbook\\nfrom sklearn.linear_model import ElasticNetCV\\nimport plotly.express as px\\nimport cv2\\nfrom sklearn.impute import SimpleImputer\\nfrom sklearn.feature_extraction.text import TfidfVectorizer\\nimport re\\nfrom statsmodels.tsa.arima_model import ARIMA\\nfrom sklearn.model_selection import RandomizedSearchCV\\nimport textblob\\nfrom sklearn.linear_model import ElasticNet\\nimport os\\nimport seaborn as sns\\nfrom xlrd import open_workbook\\nfrom fbprophet import Prophet\\nimport pandas as pd\\nfrom sklearn.linear_model import Lasso\\nfrom sklearn.preprocessing import PolynomialFeatures\\nimport nltk\\nfrom sklearn.model_selection import train_test_split\\nimport lightgbm as lgb\\nfrom scipy import stats\\nimport matplotlib as mpl\\nfrom sklearn.ensemble import RandomForestRegressor\\nimport xgboost as xgb'); }\n",
              "    "
            ],
            "text/plain": [
              "<IPython.core.display.Javascript object>"
            ]
          },
          "metadata": {
            "tags": []
          }
        },
        {
          "output_type": "display_data",
          "data": {
            "application/javascript": [
              "\n",
              "        if (window._pyforest_update_imports_cell) { window._pyforest_update_imports_cell('import pickle\\nimport bokeh\\nfrom sklearn.linear_model import LinearRegression\\nfrom sklearn import metrics\\nfrom sklearn.linear_model import RidgeCV\\nfrom sklearn.preprocessing import MinMaxScaler\\nimport glob\\nimport plotly as py\\nimport statsmodels.api as sm\\nfrom sklearn.linear_model import Ridge\\nimport tqdm\\nimport torch\\nimport statistics\\nfrom sklearn.ensemble import RandomForestClassifier\\nfrom sklearn.decomposition import PCA\\nfrom pathlib import Path\\nimport skimage\\nimport gensim\\nimport fastai\\nimport plotly.graph_objs as go\\nimport altair as alt\\nimport imutils\\nimport tensorflow as tf\\nimport sklearn\\nfrom sklearn.preprocessing import OneHotEncoder\\nfrom sklearn.preprocessing import RobustScaler\\nfrom sklearn.model_selection import cross_val_score\\nfrom sklearn.linear_model import LassoCV\\nfrom sklearn.preprocessing import LabelEncoder\\nfrom sklearn.linear_model import LogisticRegression\\nfrom sklearn.manifold import TSNE\\nimport spacy\\nimport pydot\\nimport matplotlib.pyplot as plt\\nfrom PIL import Image\\nimport fbprophet\\nfrom sklearn.feature_extraction.text import CountVectorizer\\nfrom openpyxl import load_workbook\\nfrom sklearn.linear_model import ElasticNetCV\\nimport plotly.express as px\\nimport cv2\\nfrom sklearn.impute import SimpleImputer\\nfrom sklearn.feature_extraction.text import TfidfVectorizer\\nimport re\\nfrom statsmodels.tsa.arima_model import ARIMA\\nfrom sklearn.model_selection import RandomizedSearchCV\\nimport textblob\\nfrom sklearn.linear_model import ElasticNet\\nimport os\\nimport seaborn as sns\\nfrom xlrd import open_workbook\\nfrom fbprophet import Prophet\\nimport pandas as pd\\nfrom sklearn.linear_model import Lasso\\nfrom sklearn.preprocessing import PolynomialFeatures\\nimport nltk\\nfrom sklearn.model_selection import train_test_split\\nimport lightgbm as lgb\\nfrom scipy import stats\\nimport matplotlib as mpl\\nfrom sklearn.ensemble import RandomForestRegressor\\nimport xgboost as xgb'); }\n",
              "    "
            ],
            "text/plain": [
              "<IPython.core.display.Javascript object>"
            ]
          },
          "metadata": {
            "tags": []
          }
        },
        {
          "output_type": "display_data",
          "data": {
            "application/javascript": [
              "\n",
              "        if (window._pyforest_update_imports_cell) { window._pyforest_update_imports_cell('import pickle\\nimport bokeh\\nfrom sklearn.linear_model import LinearRegression\\nfrom sklearn import metrics\\nfrom sklearn.linear_model import RidgeCV\\nfrom sklearn.preprocessing import MinMaxScaler\\nimport glob\\nimport plotly as py\\nimport statsmodels.api as sm\\nfrom sklearn.linear_model import Ridge\\nimport tqdm\\nimport torch\\nimport statistics\\nfrom sklearn.ensemble import RandomForestClassifier\\nfrom sklearn.decomposition import PCA\\nfrom pathlib import Path\\nimport skimage\\nimport gensim\\nimport fastai\\nimport plotly.graph_objs as go\\nimport altair as alt\\nimport imutils\\nimport tensorflow as tf\\nimport sklearn\\nfrom sklearn.preprocessing import OneHotEncoder\\nfrom sklearn.preprocessing import RobustScaler\\nfrom sklearn.model_selection import cross_val_score\\nfrom sklearn.linear_model import LassoCV\\nfrom sklearn.preprocessing import LabelEncoder\\nfrom sklearn.linear_model import LogisticRegression\\nfrom sklearn.manifold import TSNE\\nimport spacy\\nimport pydot\\nimport matplotlib.pyplot as plt\\nfrom PIL import Image\\nimport fbprophet\\nfrom sklearn.feature_extraction.text import CountVectorizer\\nfrom openpyxl import load_workbook\\nfrom sklearn.linear_model import ElasticNetCV\\nimport plotly.express as px\\nimport cv2\\nfrom sklearn.impute import SimpleImputer\\nfrom sklearn.feature_extraction.text import TfidfVectorizer\\nimport re\\nfrom statsmodels.tsa.arima_model import ARIMA\\nfrom sklearn.model_selection import RandomizedSearchCV\\nimport textblob\\nfrom sklearn.linear_model import ElasticNet\\nimport os\\nimport seaborn as sns\\nfrom xlrd import open_workbook\\nfrom fbprophet import Prophet\\nimport pandas as pd\\nfrom sklearn.linear_model import Lasso\\nfrom sklearn.preprocessing import PolynomialFeatures\\nimport nltk\\nfrom sklearn.model_selection import train_test_split\\nimport lightgbm as lgb\\nfrom scipy import stats\\nimport matplotlib as mpl\\nfrom sklearn.ensemble import RandomForestRegressor\\nimport xgboost as xgb'); }\n",
              "    "
            ],
            "text/plain": [
              "<IPython.core.display.Javascript object>"
            ]
          },
          "metadata": {
            "tags": []
          }
        },
        {
          "output_type": "display_data",
          "data": {
            "application/javascript": [
              "\n",
              "        if (window._pyforest_update_imports_cell) { window._pyforest_update_imports_cell('import pickle\\nimport bokeh\\nfrom sklearn.linear_model import LinearRegression\\nfrom sklearn import metrics\\nfrom sklearn.linear_model import RidgeCV\\nfrom sklearn.preprocessing import MinMaxScaler\\nimport glob\\nimport plotly as py\\nimport statsmodels.api as sm\\nfrom sklearn.linear_model import Ridge\\nimport tqdm\\nimport torch\\nimport statistics\\nfrom sklearn.ensemble import RandomForestClassifier\\nfrom sklearn.decomposition import PCA\\nfrom pathlib import Path\\nimport skimage\\nimport gensim\\nimport fastai\\nimport plotly.graph_objs as go\\nimport altair as alt\\nimport imutils\\nimport tensorflow as tf\\nimport sklearn\\nfrom sklearn.preprocessing import OneHotEncoder\\nfrom sklearn.preprocessing import RobustScaler\\nfrom sklearn.model_selection import cross_val_score\\nfrom sklearn.linear_model import LassoCV\\nfrom sklearn.preprocessing import LabelEncoder\\nfrom sklearn.linear_model import LogisticRegression\\nfrom sklearn.manifold import TSNE\\nimport spacy\\nimport pydot\\nimport matplotlib.pyplot as plt\\nfrom PIL import Image\\nimport fbprophet\\nfrom sklearn.feature_extraction.text import CountVectorizer\\nfrom openpyxl import load_workbook\\nfrom sklearn.linear_model import ElasticNetCV\\nimport plotly.express as px\\nimport cv2\\nfrom sklearn.impute import SimpleImputer\\nfrom sklearn.feature_extraction.text import TfidfVectorizer\\nimport re\\nfrom statsmodels.tsa.arima_model import ARIMA\\nfrom sklearn.model_selection import RandomizedSearchCV\\nimport textblob\\nfrom sklearn.linear_model import ElasticNet\\nimport os\\nimport seaborn as sns\\nfrom xlrd import open_workbook\\nfrom fbprophet import Prophet\\nimport pandas as pd\\nfrom sklearn.linear_model import Lasso\\nfrom sklearn.preprocessing import PolynomialFeatures\\nimport nltk\\nfrom sklearn.model_selection import train_test_split\\nimport lightgbm as lgb\\nfrom scipy import stats\\nimport matplotlib as mpl\\nfrom sklearn.ensemble import RandomForestRegressor\\nimport xgboost as xgb'); }\n",
              "    "
            ],
            "text/plain": [
              "<IPython.core.display.Javascript object>"
            ]
          },
          "metadata": {
            "tags": []
          }
        },
        {
          "output_type": "display_data",
          "data": {
            "application/javascript": [
              "\n",
              "        if (window._pyforest_update_imports_cell) { window._pyforest_update_imports_cell('import pickle\\nimport bokeh\\nfrom sklearn.linear_model import LinearRegression\\nfrom sklearn import metrics\\nfrom sklearn.linear_model import RidgeCV\\nfrom sklearn.preprocessing import MinMaxScaler\\nimport glob\\nimport plotly as py\\nimport statsmodels.api as sm\\nfrom sklearn.linear_model import Ridge\\nimport tqdm\\nimport torch\\nimport statistics\\nfrom sklearn.ensemble import RandomForestClassifier\\nfrom sklearn.decomposition import PCA\\nfrom pathlib import Path\\nimport skimage\\nimport gensim\\nimport fastai\\nimport plotly.graph_objs as go\\nimport altair as alt\\nimport imutils\\nimport tensorflow as tf\\nimport sklearn\\nfrom sklearn.preprocessing import OneHotEncoder\\nfrom sklearn.preprocessing import RobustScaler\\nfrom sklearn.model_selection import cross_val_score\\nfrom sklearn.linear_model import LassoCV\\nfrom sklearn.preprocessing import LabelEncoder\\nfrom sklearn.linear_model import LogisticRegression\\nfrom sklearn.manifold import TSNE\\nimport spacy\\nimport pydot\\nimport matplotlib.pyplot as plt\\nfrom PIL import Image\\nimport fbprophet\\nfrom sklearn.feature_extraction.text import CountVectorizer\\nfrom openpyxl import load_workbook\\nfrom sklearn.linear_model import ElasticNetCV\\nimport plotly.express as px\\nimport cv2\\nfrom sklearn.impute import SimpleImputer\\nfrom sklearn.feature_extraction.text import TfidfVectorizer\\nimport re\\nfrom statsmodels.tsa.arima_model import ARIMA\\nfrom sklearn.model_selection import RandomizedSearchCV\\nimport textblob\\nfrom sklearn.linear_model import ElasticNet\\nimport os\\nimport seaborn as sns\\nfrom xlrd import open_workbook\\nfrom fbprophet import Prophet\\nimport pandas as pd\\nfrom sklearn.linear_model import Lasso\\nfrom sklearn.preprocessing import PolynomialFeatures\\nimport nltk\\nfrom sklearn.model_selection import train_test_split\\nimport lightgbm as lgb\\nfrom scipy import stats\\nimport matplotlib as mpl\\nfrom sklearn.ensemble import RandomForestRegressor\\nimport xgboost as xgb'); }\n",
              "    "
            ],
            "text/plain": [
              "<IPython.core.display.Javascript object>"
            ]
          },
          "metadata": {
            "tags": []
          }
        },
        {
          "output_type": "display_data",
          "data": {
            "application/javascript": [
              "\n",
              "        if (window._pyforest_update_imports_cell) { window._pyforest_update_imports_cell('import pickle\\nimport bokeh\\nfrom sklearn.linear_model import LinearRegression\\nfrom sklearn import metrics\\nfrom sklearn.linear_model import RidgeCV\\nfrom sklearn.preprocessing import MinMaxScaler\\nimport glob\\nimport plotly as py\\nimport statsmodels.api as sm\\nfrom sklearn.linear_model import Ridge\\nimport tqdm\\nimport torch\\nimport statistics\\nfrom sklearn.ensemble import RandomForestClassifier\\nfrom sklearn.decomposition import PCA\\nfrom pathlib import Path\\nimport skimage\\nimport gensim\\nimport fastai\\nimport plotly.graph_objs as go\\nimport altair as alt\\nimport imutils\\nimport tensorflow as tf\\nimport sklearn\\nfrom sklearn.preprocessing import OneHotEncoder\\nfrom sklearn.preprocessing import RobustScaler\\nfrom sklearn.model_selection import cross_val_score\\nfrom sklearn.linear_model import LassoCV\\nfrom sklearn.preprocessing import LabelEncoder\\nfrom sklearn.linear_model import LogisticRegression\\nfrom sklearn.manifold import TSNE\\nimport spacy\\nimport pydot\\nimport matplotlib.pyplot as plt\\nfrom PIL import Image\\nimport fbprophet\\nfrom sklearn.feature_extraction.text import CountVectorizer\\nfrom openpyxl import load_workbook\\nfrom sklearn.linear_model import ElasticNetCV\\nimport plotly.express as px\\nimport cv2\\nfrom sklearn.impute import SimpleImputer\\nfrom sklearn.feature_extraction.text import TfidfVectorizer\\nimport re\\nfrom statsmodels.tsa.arima_model import ARIMA\\nfrom sklearn.model_selection import RandomizedSearchCV\\nimport textblob\\nfrom sklearn.linear_model import ElasticNet\\nimport os\\nimport seaborn as sns\\nfrom xlrd import open_workbook\\nfrom fbprophet import Prophet\\nimport pandas as pd\\nfrom sklearn.linear_model import Lasso\\nfrom sklearn.preprocessing import PolynomialFeatures\\nimport nltk\\nfrom sklearn.model_selection import train_test_split\\nimport lightgbm as lgb\\nfrom scipy import stats\\nimport matplotlib as mpl\\nfrom sklearn.ensemble import RandomForestRegressor\\nimport xgboost as xgb'); }\n",
              "    "
            ],
            "text/plain": [
              "<IPython.core.display.Javascript object>"
            ]
          },
          "metadata": {
            "tags": []
          }
        },
        {
          "output_type": "display_data",
          "data": {
            "application/javascript": [
              "\n",
              "        if (window._pyforest_update_imports_cell) { window._pyforest_update_imports_cell('import pickle\\nimport bokeh\\nfrom sklearn.linear_model import LinearRegression\\nfrom sklearn import metrics\\nfrom sklearn.linear_model import RidgeCV\\nfrom sklearn.preprocessing import MinMaxScaler\\nimport glob\\nimport plotly as py\\nimport statsmodels.api as sm\\nfrom sklearn.linear_model import Ridge\\nimport tqdm\\nimport torch\\nimport statistics\\nfrom sklearn.ensemble import RandomForestClassifier\\nfrom sklearn.decomposition import PCA\\nfrom pathlib import Path\\nimport skimage\\nimport gensim\\nimport fastai\\nimport plotly.graph_objs as go\\nimport altair as alt\\nimport imutils\\nimport tensorflow as tf\\nimport sklearn\\nfrom sklearn.preprocessing import OneHotEncoder\\nfrom sklearn.preprocessing import RobustScaler\\nfrom sklearn.model_selection import cross_val_score\\nfrom sklearn.linear_model import LassoCV\\nfrom sklearn.preprocessing import LabelEncoder\\nfrom sklearn.linear_model import LogisticRegression\\nfrom sklearn.manifold import TSNE\\nimport spacy\\nimport pydot\\nimport matplotlib.pyplot as plt\\nfrom PIL import Image\\nimport fbprophet\\nfrom sklearn.feature_extraction.text import CountVectorizer\\nfrom openpyxl import load_workbook\\nfrom sklearn.linear_model import ElasticNetCV\\nimport plotly.express as px\\nimport cv2\\nfrom sklearn.impute import SimpleImputer\\nfrom sklearn.feature_extraction.text import TfidfVectorizer\\nimport re\\nfrom statsmodels.tsa.arima_model import ARIMA\\nfrom sklearn.model_selection import RandomizedSearchCV\\nimport textblob\\nfrom sklearn.linear_model import ElasticNet\\nimport os\\nimport seaborn as sns\\nfrom xlrd import open_workbook\\nfrom fbprophet import Prophet\\nimport pandas as pd\\nfrom sklearn.linear_model import Lasso\\nfrom sklearn.preprocessing import PolynomialFeatures\\nimport nltk\\nfrom sklearn.model_selection import train_test_split\\nimport lightgbm as lgb\\nfrom scipy import stats\\nimport matplotlib as mpl\\nfrom sklearn.ensemble import RandomForestRegressor\\nimport xgboost as xgb'); }\n",
              "    "
            ],
            "text/plain": [
              "<IPython.core.display.Javascript object>"
            ]
          },
          "metadata": {
            "tags": []
          }
        },
        {
          "output_type": "display_data",
          "data": {
            "application/javascript": [
              "\n",
              "        if (window._pyforest_update_imports_cell) { window._pyforest_update_imports_cell('import pickle\\nimport bokeh\\nfrom sklearn.linear_model import LinearRegression\\nfrom sklearn import metrics\\nfrom sklearn.linear_model import RidgeCV\\nfrom sklearn.preprocessing import MinMaxScaler\\nimport glob\\nimport plotly as py\\nimport statsmodels.api as sm\\nfrom sklearn.linear_model import Ridge\\nimport tqdm\\nimport torch\\nimport statistics\\nfrom sklearn.ensemble import RandomForestClassifier\\nfrom sklearn.decomposition import PCA\\nfrom pathlib import Path\\nimport skimage\\nimport gensim\\nimport fastai\\nimport plotly.graph_objs as go\\nimport altair as alt\\nimport imutils\\nimport tensorflow as tf\\nimport sklearn\\nfrom sklearn.preprocessing import OneHotEncoder\\nfrom sklearn.preprocessing import RobustScaler\\nfrom sklearn.model_selection import cross_val_score\\nfrom sklearn.linear_model import LassoCV\\nfrom sklearn.preprocessing import LabelEncoder\\nfrom sklearn.linear_model import LogisticRegression\\nfrom sklearn.manifold import TSNE\\nimport spacy\\nimport pydot\\nimport matplotlib.pyplot as plt\\nfrom PIL import Image\\nimport fbprophet\\nfrom sklearn.feature_extraction.text import CountVectorizer\\nfrom openpyxl import load_workbook\\nfrom sklearn.linear_model import ElasticNetCV\\nimport plotly.express as px\\nimport cv2\\nfrom sklearn.impute import SimpleImputer\\nfrom sklearn.feature_extraction.text import TfidfVectorizer\\nimport re\\nfrom statsmodels.tsa.arima_model import ARIMA\\nfrom sklearn.model_selection import RandomizedSearchCV\\nimport textblob\\nfrom sklearn.linear_model import ElasticNet\\nimport os\\nimport seaborn as sns\\nfrom xlrd import open_workbook\\nfrom fbprophet import Prophet\\nimport pandas as pd\\nfrom sklearn.linear_model import Lasso\\nfrom sklearn.preprocessing import PolynomialFeatures\\nimport nltk\\nfrom sklearn.model_selection import train_test_split\\nimport lightgbm as lgb\\nfrom scipy import stats\\nimport matplotlib as mpl\\nfrom sklearn.ensemble import RandomForestRegressor\\nimport xgboost as xgb'); }\n",
              "    "
            ],
            "text/plain": [
              "<IPython.core.display.Javascript object>"
            ]
          },
          "metadata": {
            "tags": []
          }
        },
        {
          "output_type": "execute_result",
          "data": {
            "text/plain": [
              "['dcron', 'plano_ouro', 'plano_esmeralda']"
            ]
          },
          "metadata": {
            "tags": []
          },
          "execution_count": 528
        }
      ]
    },
    {
      "cell_type": "markdown",
      "metadata": {
        "id": "SmMZKZ8PTSa3"
      },
      "source": [
        "Veja que a idade e renda foram realmente retiradas de nosso modelo. Prosseguiremos em seguida criando um novo modelo com base nessa análise."
      ]
    },
    {
      "cell_type": "markdown",
      "metadata": {
        "id": "4H8x_ivli5pB"
      },
      "source": [
        "##Criação de Modelo de Regressão Linear Múltipla com Stepwise"
      ]
    },
    {
      "cell_type": "markdown",
      "metadata": {
        "id": "lvQaTQIZToQH"
      },
      "source": [
        "Novamente criaremos um modelo, porém agora excluindo a idade e a renda do mesmo"
      ]
    },
    {
      "cell_type": "code",
      "metadata": {
        "id": "bsA4Qx7cEMxj",
        "colab": {
          "base_uri": "https://localhost:8080/"
        },
        "outputId": "512e5786-1521-442b-d18c-24eb7eef7303"
      },
      "source": [
        "formula = montar_formula(planosaude_dummies, ['id', 'renda', 'idade'], 'despmed')\n",
        "step_planoSaude = smf.ols(formula = formula, data = planosaude_dummies).fit()\n",
        "\n",
        "print(step_planoSaude.summary())"
      ],
      "execution_count": 529,
      "outputs": [
        {
          "output_type": "stream",
          "text": [
            "                            OLS Regression Results                            \n",
            "==============================================================================\n",
            "Dep. Variable:                despmed   R-squared:                       0.868\n",
            "Model:                            OLS   Adj. R-squared:                  0.866\n",
            "Method:                 Least Squares   F-statistic:                     429.1\n",
            "Date:                Wed, 18 Aug 2021   Prob (F-statistic):           7.53e-86\n",
            "Time:                        18:34:57   Log-Likelihood:                -830.54\n",
            "No. Observations:                 200   AIC:                             1669.\n",
            "Df Residuals:                     196   BIC:                             1682.\n",
            "Df Model:                           3                                         \n",
            "Covariance Type:            nonrobust                                         \n",
            "===================================================================================\n",
            "                      coef    std err          t      P>|t|      [0.025      0.975]\n",
            "-----------------------------------------------------------------------------------\n",
            "Intercept         170.4948      6.345     26.869      0.000     157.981     183.009\n",
            "dcron               8.5833      1.334      6.436      0.000       5.953      11.213\n",
            "plano_esmeralda   -38.5561      4.143     -9.305      0.000     -46.728     -30.385\n",
            "plano_ouro        -63.8897      5.304    -12.045      0.000     -74.351     -53.429\n",
            "==============================================================================\n",
            "Omnibus:                       29.826   Durbin-Watson:                   1.756\n",
            "Prob(Omnibus):                  0.000   Jarque-Bera (JB):               61.963\n",
            "Skew:                           0.707   Prob(JB):                     3.51e-14\n",
            "Kurtosis:                       5.331   Cond. No.                         27.0\n",
            "==============================================================================\n",
            "\n",
            "Notes:\n",
            "[1] Standard Errors assume that the covariance matrix of the errors is correctly specified.\n"
          ],
          "name": "stdout"
        }
      ]
    },
    {
      "cell_type": "markdown",
      "metadata": {
        "id": "HlDLb6xNErRT"
      },
      "source": [
        "* Parece um pouco melhor, visto que agora todas as probabilidades atendem ao critério prop < p_value. \n",
        "\n",
        "* OBS: Naturalmente, ao adicionar novas variáveis o R-squared tenderá a aumentar, nesse caso é normal ele ter diminuido visto que retiramos a idade e renda do conjunto.\n",
        "\n",
        "* Finalizamos? Ainda Não.\n",
        "\n",
        "  * Devemos além disso verificar se a distribuição de probabilidade de nossos resíduos (y verdadeiros - y previstos) é semelhante a uma distribuição normal."
      ]
    },
    {
      "cell_type": "markdown",
      "metadata": {
        "id": "uGstXl2IjK6X"
      },
      "source": [
        "##Verificar Aderência dos resíduos à normalidade (Teste de Shapiro-Francia)"
      ]
    },
    {
      "cell_type": "markdown",
      "metadata": {
        "id": "PKQR5FWtt6UC"
      },
      "source": [
        "###Definir Função de Ordenadas para Plotagem de Probabilidade"
      ]
    },
    {
      "cell_type": "markdown",
      "metadata": {
        "id": "EVdpeSXwXpON"
      },
      "source": [
        "Primeiramente vamos definir uma função para gerar a sequência de pontos de probabilidade"
      ]
    },
    {
      "cell_type": "code",
      "metadata": {
        "id": "1PD3xm-Zpep-"
      },
      "source": [
        "def ppoints(n, a):   \n",
        "    try:\n",
        "        n = np.float(len(n))\n",
        "    except TypeError:\n",
        "        n = np.float(n)\n",
        "    return (np.arange(n) + 1 - a)/(n + 1 - 2*a)"
      ],
      "execution_count": 530,
      "outputs": []
    },
    {
      "cell_type": "markdown",
      "metadata": {
        "id": "W6-i2PZPuI2-"
      },
      "source": [
        "###Definir Função Para Remover as Diagonais Principais (iguais à 1)"
      ]
    },
    {
      "cell_type": "markdown",
      "metadata": {
        "id": "NMJukrtpYDxh"
      },
      "source": [
        "Vamos também criar uma função para remover as diagonais principais dos parâmetros W e pval que serão calculados"
      ]
    },
    {
      "cell_type": "code",
      "metadata": {
        "id": "GP0vd-6XsovS"
      },
      "source": [
        "def removerDiagonal(x):\n",
        "    x_sem_diagonais = np.ndarray.flatten(x)\n",
        "    x_sem_diagonais = np.delete(x_sem_diagonais, range(0, len(x_sem_diagonais), len(x) + 1), 0)\n",
        "    x_sem_diagonais = x_sem_diagonais.reshape(len(x), len(x) - 1)\n",
        "    return x_sem_diagonais"
      ],
      "execution_count": 531,
      "outputs": []
    },
    {
      "cell_type": "markdown",
      "metadata": {
        "id": "fgmD7P7CudRp"
      },
      "source": [
        "###Definir função para cálculo do teste de Shapiro Francia"
      ]
    },
    {
      "cell_type": "markdown",
      "metadata": {
        "id": "L8Kr8Gj5YRb_"
      },
      "source": [
        "* O Python não tem (que eu conheça) um pacote para o cálculo do Shapiro Francia \n",
        "que é um teste estatístico para a normalidade de uma população, \n",
        "baseado em dados amostrais. É uma simplificação do teste de Shapiro-Wilk, que apesar de pouco conhecido, é um do mais confiáveis testes estátisticos para  amostras com mais de 30 observações. \n",
        "\n",
        "* Veja mais detalhes dele na [Wikipedia](https://en.wikipedia.org/wiki/Shapiro%E2%80%93Francia_test).\n",
        "\n",
        "\n",
        "\n",
        "---\n",
        "\n",
        "\n",
        "\n",
        "* Para que o modelo criado seja realmente o final, devemos avaliar se ele atende ao critério de normalidade com um p-value > 0.05 para aceitarmos a hipótese alternativa (H1).\n",
        "\n",
        " > H0: Os resíduos têm distribuição normal.\n",
        "\n",
        " > H1: Os resíduos não têm distribuição normal.\n",
        "\n",
        "\n",
        "* Abaixo crio uma pequena função com sua implementação no Python."
      ]
    },
    {
      "cell_type": "code",
      "metadata": {
        "id": "qYpfxfjqpCwV"
      },
      "source": [
        "def shapiroFrancia(x):\n",
        "  x = np.sort(x)\n",
        "  n = len(x)\n",
        "  y = norm.ppf(ppoints(n,a = 3/8))\n",
        "  W = np.corrcoef(x, y)**2\n",
        "  u = np.log(n)\n",
        "  v = np.log(u)\n",
        "  mu = -1.2725 + 1.0521 * (v - u)\n",
        "  sig = 1.0308 - 0.26758 * (v + 2/u)\n",
        "  z = (np.log(1 - W) - mu)/sig\n",
        "  pval = norm.sf(z)\n",
        "  print('W: {}'.format(removerDiagonal(W)[0][0]))\n",
        "  print('p-value: {}'.format(removerDiagonal(pval)[0][0]))"
      ],
      "execution_count": 532,
      "outputs": []
    },
    {
      "cell_type": "markdown",
      "metadata": {
        "id": "3R8FdHKPunBX"
      },
      "source": [
        "###Verificando a normalidade dos resíduos do modelo"
      ]
    },
    {
      "cell_type": "code",
      "metadata": {
        "colab": {
          "base_uri": "https://localhost:8080/"
        },
        "id": "aQHTWOIopNZN",
        "outputId": "3c636703-c872-4746-acd5-895a7416ddb9"
      },
      "source": [
        "shapiroFrancia(step_planoSaude.resid)"
      ],
      "execution_count": 533,
      "outputs": [
        {
          "output_type": "stream",
          "text": [
            "W: 0.9429167651264184\n",
            "p-value: 2.017345699616918e-06\n"
          ],
          "name": "stdout"
        }
      ]
    },
    {
      "cell_type": "markdown",
      "metadata": {
        "id": "Oe7PGM2XabTe"
      },
      "source": [
        "Veja que nosso p-value não ficou acima de 0.05 o que indica que teremos problemas com esse modelo, visto que ele apesar de ser linear, não se dá de forma normal."
      ]
    },
    {
      "cell_type": "markdown",
      "metadata": {
        "id": "JqMyDMQkjXsB"
      },
      "source": [
        "###Plotando os resíduos do modelo stepwise"
      ]
    },
    {
      "cell_type": "markdown",
      "metadata": {
        "id": "00VrejYtaslX"
      },
      "source": [
        "Vejamos como a distribuição desses resíduos está agora por meio de um gráfico"
      ]
    },
    {
      "cell_type": "code",
      "metadata": {
        "colab": {
          "base_uri": "https://localhost:8080/",
          "height": 0
        },
        "id": "Y1cMRtVmFKXS",
        "outputId": "50b2dc73-7dfa-4e80-b9f6-3e89e04e01da"
      },
      "source": [
        "(ggplot(planoSaude >>\n",
        "  mutate(residuos = step_planoSaude.resid),\n",
        "        aes(x='residuos')) +\n",
        "    geom_histogram(color = \"white\", \n",
        "                   fill = \"#55C667FF\", \n",
        "                   bins = 15,\n",
        "                   alpha = 0.6) +\n",
        "    labs(x = \"Resíduos\",\n",
        "         y = \"Frequências\") + \n",
        "    theme_bw())"
      ],
      "execution_count": 534,
      "outputs": [
        {
          "output_type": "display_data",
          "data": {
            "image/png": "[encoded data removed]",
            "text/plain": [
              "<Figure size 640x480 with 1 Axes>"
            ]
          },
          "metadata": {
            "tags": []
          }
        },
        {
          "output_type": "execute_result",
          "data": {
            "text/plain": [
              "<ggplot: (8739784480681)>"
            ]
          },
          "metadata": {
            "tags": []
          },
          "execution_count": 534
        }
      ]
    },
    {
      "cell_type": "markdown",
      "metadata": {
        "id": "Kd0EyzjWbBuz"
      },
      "source": [
        "Vamos acrescentar uma curva normal para melhor comparar as distribuições"
      ]
    },
    {
      "cell_type": "code",
      "metadata": {
        "colab": {
          "base_uri": "https://localhost:8080/",
          "height": 0
        },
        "id": "9g0yMwJtG_JL",
        "outputId": "a7750ff9-9341-4c27-cc51-04aa1702eae1"
      },
      "source": [
        "(ggplot(planosaude_dummies >>\n",
        "  mutate(residuos = step_planoSaude.resid),\n",
        "        aes(x='residuos')) +\n",
        "    geom_histogram(aes(y ='..density..'),\n",
        "                   color = \"white\", \n",
        "                   fill = \"#55C667FF\", \n",
        "                   bins = 15,\n",
        "                   alpha = 0.6) +\n",
        "     stat_function(fun=norm.pdf,\n",
        "                   args={'loc':np.mean(step_planoSaude.resid),\n",
        "                         'scale':np.std(step_planoSaude.resid)},\n",
        "                size = 2, color = \"#4d4d4d\") +\n",
        "     scale_color_manual(values = \"#7f7f7f\") +\n",
        "    labs(x = \"Resíduos\",\n",
        "         y = \"Frequências\") + \n",
        "    theme_bw())"
      ],
      "execution_count": 535,
      "outputs": [
        {
          "output_type": "display_data",
          "data": {
            "image/png": "[encoded data removed]",
            "text/plain": [
              "<Figure size 640x480 with 1 Axes>"
            ]
          },
          "metadata": {
            "tags": []
          }
        },
        {
          "output_type": "execute_result",
          "data": {
            "text/plain": [
              "<ggplot: (8739784461217)>"
            ]
          },
          "metadata": {
            "tags": []
          },
          "execution_count": 535
        }
      ]
    },
    {
      "cell_type": "markdown",
      "metadata": {
        "id": "_jM_Foy6jqPk"
      },
      "source": [
        "Outra forma de vermos é via um gráfico de estimativa de densidade de kernel ( KDE) que é uma forma não paramétrica de estimar a função de densidade de probabilidade de uma variável aleatória.\n",
        "\n",
        "As estimativas de densidade do kernel estão muito relacionadas aos histogramas convencionais, mas são sensíveis à propriedades o que permite melhor visualização da suavidade ou continuidade dos dados."
      ]
    },
    {
      "cell_type": "code",
      "metadata": {
        "colab": {
          "base_uri": "https://localhost:8080/",
          "height": 0
        },
        "id": "2K3ICfuAISgT",
        "outputId": "57281e50-e857-4b02-d034-99233840f151"
      },
      "source": [
        "(planosaude_dummies >>\n",
        "  ggplot() +\n",
        "  geom_density(aes(x = step_planoSaude.resid), fill = \"#55C667FF\") +\n",
        "  labs(x = \"Resíduos do Modelo Stepwise\",\n",
        "       y = \"Densidade\") +\n",
        "  theme_bw())"
      ],
      "execution_count": 536,
      "outputs": [
        {
          "output_type": "display_data",
          "data": {
            "image/png": "[encoded data removed]",
            "text/plain": [
              "<Figure size 640x480 with 1 Axes>"
            ]
          },
          "metadata": {
            "tags": []
          }
        },
        {
          "output_type": "execute_result",
          "data": {
            "text/plain": [
              "<ggplot: (8739784401237)>"
            ]
          },
          "metadata": {
            "tags": []
          },
          "execution_count": 536
        }
      ]
    },
    {
      "cell_type": "markdown",
      "metadata": {
        "id": "IyGRbENRQ_sU"
      },
      "source": [
        "##Diagnóstico de Heterocedasticidade"
      ]
    },
    {
      "cell_type": "markdown",
      "metadata": {
        "id": "okoMfzewfFcM"
      },
      "source": [
        "Desejamos que a variância dos resíduos gerados pelo modelo seja sempre constante. Se isso acontecer, temos a  homocedasticidade, caso contrário, quando a variância dos resíduos não é constante, ocorre a heterocedasticidade.\n",
        "\n",
        "A presença de heterocedasticidade no modelo gera parâmetros não eficientes, acarretando erro em todas as análises.\n",
        "\n",
        "Isso se dá geralmente quando alguma variável preditora importante está ausente no modelo, e que serviria para ajudar à explicar o mesmo."
      ]
    },
    {
      "cell_type": "markdown",
      "metadata": {
        "id": "eoj8pLIFjy1N"
      },
      "source": [
        "###Realização do Teste de Breusch-Pagan"
      ]
    },
    {
      "cell_type": "markdown",
      "metadata": {
        "id": "yFzH5BBzhBkP"
      },
      "source": [
        "Para verificar se nosso modelo atende a esse critério, testaremos se a variância dos erros é dependente dos valores das variáveis ​​independentes. Nesse caso, a heteroscedasticidade está presente.\n",
        "\n",
        "> H0: ausência de heterocedasticidade.\n",
        "\n",
        "> H1: heterocedasticidade, ou seja, correlação entre resíduos e uma ou mais\n",
        "variáveis explicativas, o que indica omissão de alguma variável importante.\n",
        "\n",
        "Abaixo temos o passo à passo para realização do cálculo do teste de Breusch Pagan."
      ]
    },
    {
      "cell_type": "markdown",
      "metadata": {
        "id": "matdxzBpDf2L"
      },
      "source": [
        "####Prever resultados utilizando a base de dados original"
      ]
    },
    {
      "cell_type": "code",
      "metadata": {
        "id": "wZo8IJKbWmAW"
      },
      "source": [
        "yhat = step_planoSaude.predict(exog=planosaude_dummies[['dcron', 'plano_ouro', 'plano_esmeralda']])"
      ],
      "execution_count": 537,
      "outputs": []
    },
    {
      "cell_type": "markdown",
      "metadata": {
        "id": "7O5JjHDiDn5Q"
      },
      "source": [
        "####Calcular os resíduos (Diferença do y verdadeiro com o previsto)"
      ]
    },
    {
      "cell_type": "code",
      "metadata": {
        "id": "qiwlFwUOXZPs"
      },
      "source": [
        "residuos = planosaude_dummies['despmed'] - yhat"
      ],
      "execution_count": 538,
      "outputs": []
    },
    {
      "cell_type": "markdown",
      "metadata": {
        "id": "jyXkSn0TDtm6"
      },
      "source": [
        "####Calcular erro Up"
      ]
    },
    {
      "cell_type": "code",
      "metadata": {
        "id": "ft5ABO5vXoHu"
      },
      "source": [
        "up = ((residuos) ** 2) / ((sum(residuos**2)) / len(residuos))"
      ],
      "execution_count": 539,
      "outputs": []
    },
    {
      "cell_type": "markdown",
      "metadata": {
        "id": "DSU-heWUFbmY"
      },
      "source": [
        "####Criar DataFrame para utilizar no modelo"
      ]
    },
    {
      "cell_type": "code",
      "metadata": {
        "colab": {
          "base_uri": "https://localhost:8080/",
          "height": 0
        },
        "id": "VuGLu4LpYWdu",
        "outputId": "748c70c6-da07-4d0d-cdb1-ad6716492825"
      },
      "source": [
        "dados_breuschpagan=pd.DataFrame({'up': up, 'yhat': yhat})"
      ],
      "execution_count": 540,
      "outputs": [
        {
          "output_type": "display_data",
          "data": {
            "application/javascript": [
              "\n",
              "        if (window._pyforest_update_imports_cell) { window._pyforest_update_imports_cell('import pickle\\nimport bokeh\\nfrom sklearn.linear_model import LinearRegression\\nfrom sklearn import metrics\\nfrom sklearn.linear_model import RidgeCV\\nfrom sklearn.preprocessing import MinMaxScaler\\nimport glob\\nimport plotly as py\\nimport statsmodels.api as sm\\nfrom sklearn.linear_model import Ridge\\nimport tqdm\\nimport torch\\nimport statistics\\nfrom sklearn.ensemble import RandomForestClassifier\\nfrom sklearn.decomposition import PCA\\nfrom pathlib import Path\\nimport skimage\\nimport gensim\\nimport fastai\\nimport plotly.graph_objs as go\\nimport altair as alt\\nimport imutils\\nimport tensorflow as tf\\nimport sklearn\\nfrom sklearn.preprocessing import OneHotEncoder\\nfrom sklearn.preprocessing import RobustScaler\\nfrom sklearn.model_selection import cross_val_score\\nfrom sklearn.linear_model import LassoCV\\nfrom sklearn.preprocessing import LabelEncoder\\nfrom sklearn.linear_model import LogisticRegression\\nfrom sklearn.manifold import TSNE\\nimport spacy\\nimport pydot\\nimport matplotlib.pyplot as plt\\nfrom PIL import Image\\nimport fbprophet\\nfrom sklearn.feature_extraction.text import CountVectorizer\\nfrom openpyxl import load_workbook\\nfrom sklearn.linear_model import ElasticNetCV\\nimport plotly.express as px\\nimport cv2\\nfrom sklearn.impute import SimpleImputer\\nfrom sklearn.feature_extraction.text import TfidfVectorizer\\nimport re\\nfrom statsmodels.tsa.arima_model import ARIMA\\nfrom sklearn.model_selection import RandomizedSearchCV\\nimport textblob\\nfrom sklearn.linear_model import ElasticNet\\nimport os\\nimport seaborn as sns\\nfrom xlrd import open_workbook\\nfrom fbprophet import Prophet\\nimport pandas as pd\\nfrom sklearn.linear_model import Lasso\\nfrom sklearn.preprocessing import PolynomialFeatures\\nimport nltk\\nfrom sklearn.model_selection import train_test_split\\nimport lightgbm as lgb\\nfrom scipy import stats\\nimport matplotlib as mpl\\nfrom sklearn.ensemble import RandomForestRegressor\\nimport xgboost as xgb'); }\n",
              "    "
            ],
            "text/plain": [
              "<IPython.core.display.Javascript object>"
            ]
          },
          "metadata": {
            "tags": []
          }
        }
      ]
    },
    {
      "cell_type": "markdown",
      "metadata": {
        "id": "v58yoz3nFg_S"
      },
      "source": [
        "####Criar Modelo"
      ]
    },
    {
      "cell_type": "code",
      "metadata": {
        "id": "vWvTXJ6aYLlp"
      },
      "source": [
        "modelo_breuschpagan = smf.ols(formula='up ~ yhat',data=dados_breuschpagan).fit()"
      ],
      "execution_count": 541,
      "outputs": []
    },
    {
      "cell_type": "markdown",
      "metadata": {
        "id": "7Tiu8FanDKNK"
      },
      "source": [
        "####Criação de Função para Soma dos Quadrados"
      ]
    },
    {
      "cell_type": "code",
      "metadata": {
        "id": "krHmKiei64tr"
      },
      "source": [
        "def SomaQuadrados(x):\n",
        "  soma_quadrados = sum([valor ** 2 for valor in x])\n",
        "  return soma_quadrados - (x.sum()**2) / len(x)"
      ],
      "execution_count": 542,
      "outputs": []
    },
    {
      "cell_type": "code",
      "metadata": {
        "colab": {
          "base_uri": "https://localhost:8080/"
        },
        "id": "S8wZ7ogU7JNJ",
        "outputId": "582505d0-b040-4665-9064-1757a3e1b852"
      },
      "source": [
        "SomaQuadrados(modelo_breuschpagan.fittedvalues)"
      ],
      "execution_count": 543,
      "outputs": [
        {
          "output_type": "execute_result",
          "data": {
            "text/plain": [
              "121.60364988470738"
            ]
          },
          "metadata": {
            "tags": []
          },
          "execution_count": 543
        }
      ]
    },
    {
      "cell_type": "markdown",
      "metadata": {
        "id": "CH4RMN4ZDHze"
      },
      "source": [
        "####Comparação com Resultado da Anova"
      ]
    },
    {
      "cell_type": "code",
      "metadata": {
        "colab": {
          "base_uri": "https://localhost:8080/",
          "height": 0
        },
        "id": "rVWcLm7PYy9l",
        "outputId": "f8083244-7ec4-4340-f75e-3c7a2cd921af"
      },
      "source": [
        "sm.stats.anova_lm(modelo_breuschpagan, typ=2) #ANOVA DataFrame"
      ],
      "execution_count": 544,
      "outputs": [
        {
          "output_type": "execute_result",
          "data": {
            "text/html": [
              "<div>\n",
              "<style scoped>\n",
              "    .dataframe tbody tr th:only-of-type {\n",
              "        vertical-align: middle;\n",
              "    }\n",
              "\n",
              "    .dataframe tbody tr th {\n",
              "        vertical-align: top;\n",
              "    }\n",
              "\n",
              "    .dataframe thead th {\n",
              "        text-align: right;\n",
              "    }\n",
              "</style>\n",
              "<table border=\"1\" class=\"dataframe\">\n",
              "  <thead>\n",
              "    <tr style=\"text-align: right;\">\n",
              "      <th></th>\n",
              "      <th>sum_sq</th>\n",
              "      <th>df</th>\n",
              "      <th>F</th>\n",
              "      <th>PR(&gt;F)</th>\n",
              "    </tr>\n",
              "  </thead>\n",
              "  <tbody>\n",
              "    <tr>\n",
              "      <th>yhat</th>\n",
              "      <td>121.603650</td>\n",
              "      <td>1.0</td>\n",
              "      <td>32.335908</td>\n",
              "      <td>4.602923e-08</td>\n",
              "    </tr>\n",
              "    <tr>\n",
              "      <th>Residual</th>\n",
              "      <td>744.606349</td>\n",
              "      <td>198.0</td>\n",
              "      <td>NaN</td>\n",
              "      <td>NaN</td>\n",
              "    </tr>\n",
              "  </tbody>\n",
              "</table>\n",
              "</div>"
            ],
            "text/plain": [
              "              sum_sq     df          F        PR(>F)\n",
              "yhat      121.603650    1.0  32.335908  4.602923e-08\n",
              "Residual  744.606349  198.0        NaN           NaN"
            ]
          },
          "metadata": {
            "tags": []
          },
          "execution_count": 544
        }
      ]
    },
    {
      "cell_type": "markdown",
      "metadata": {
        "id": "2WvkOu2HDWBO"
      },
      "source": [
        "####Verificar Resultados do Teste"
      ]
    },
    {
      "cell_type": "code",
      "metadata": {
        "colab": {
          "base_uri": "https://localhost:8080/"
        },
        "id": "56eJe4h1ZI9o",
        "outputId": "d70e7fa2-90c6-4753-8e3e-55451723cc58"
      },
      "source": [
        "print('df: {}'.format(1))\n",
        "print('chi2: {}'.format(121.603650\t/2))\n",
        "print('p-value {}'.format(chi2.sf(121.603650/2,1)))"
      ],
      "execution_count": 545,
      "outputs": [
        {
          "output_type": "stream",
          "text": [
            "df: 1\n",
            "chi2: 60.801825\n",
            "p-value 6.3119380573521175e-15\n"
          ],
          "name": "stdout"
        }
      ]
    },
    {
      "cell_type": "markdown",
      "metadata": {
        "id": "6GMNAzmwjTkO"
      },
      "source": [
        "Veja que no teste, o p-value ficou abaixo de 0.05, o que faz que exista a presença de heterocedasticidade no modelo previsto."
      ]
    },
    {
      "cell_type": "markdown",
      "metadata": {
        "id": "cSeYS8I4kFtD"
      },
      "source": [
        "###Gráfico que relaciona os resíduos e os fitted values do modelo"
      ]
    },
    {
      "cell_type": "code",
      "metadata": {
        "colab": {
          "base_uri": "https://localhost:8080/",
          "height": 469
        },
        "id": "OUNmf6zAaczr",
        "outputId": "031edcef-8075-4dd7-c5b7-c41eea889031"
      },
      "source": [
        "(ggplot(planosaude_dummies >>\n",
        "  mutate(fittedvalues = step_planoSaude.fittedvalues,residuos=step_planoSaude.resid),\n",
        "        aes(x='fittedvalues',y='residuos')) +\n",
        " geom_point(color = \"#55C667FF\", size = 3) +\n",
        "  labs(x = \"Fitted Values do Modelo Stepwise\",\n",
        "       y = \"Resíduos do Modelo Stepwise\") +\n",
        "  theme_bw())"
      ],
      "execution_count": 546,
      "outputs": [
        {
          "output_type": "display_data",
          "data": {
            "image/png": "[encoded data removed]",
            "text/plain": [
              "<Figure size 640x480 with 1 Axes>"
            ]
          },
          "metadata": {
            "tags": []
          }
        },
        {
          "output_type": "execute_result",
          "data": {
            "text/plain": [
              "<ggplot: (8739784342293)>"
            ]
          },
          "metadata": {
            "tags": []
          },
          "execution_count": 546
        }
      ]
    },
    {
      "cell_type": "markdown",
      "metadata": {
        "id": "rKUwCfTnlG3K"
      },
      "source": [
        "Veja as relações entre os resíduos (erros) e os fitted Values."
      ]
    },
    {
      "cell_type": "markdown",
      "metadata": {
        "id": "1EOnZG3dkPch"
      },
      "source": [
        "##Transformação de Box-Cox"
      ]
    },
    {
      "cell_type": "markdown",
      "metadata": {
        "id": "Jhwm1YDZlOcO"
      },
      "source": [
        "Quando os dados disponíveis afastam-se de uma distribuição normal, um dos caminhos é fazer a transformação dos dados por box-cox.\n",
        "\n",
        "Essa transformação é bastante conhecida no meio econométrico e usada para enfrentar problemas de heterocedasticidade.\n",
        "\n",
        "No nosso exemplo seu principal objetivo será o de escolher o melhor valor de lambda para a transformação da nossa variável classe. Conforme imagem abaixo:"
      ]
    },
    {
      "cell_type": "markdown",
      "metadata": {
        "id": "9rVEQ4_6nEVX"
      },
      "source": [
        "![image.png](data:image/png;base64,iVBORw0KGgoAAAANSUhEUgAAAaEAAACpCAYAAACCjIIbAAAgAElEQVR4Ae1d+V8TV/dOIBBFRUUFxIr7XhStVlHrWpfWWhW3ql20rbb4atVqKy6v1KXSuq/UtdrWfWnVuq+tuBWUIi4Q+EJe/5Ln+zmBG2aGmckkhCQk5wc+M0xm7nLuc89zz7nn3mt69aoE/OdbGRQWPkVu7gMUFDxxyv7//u8liooK8OxZHp4+zUV+fo7jSv/bbM/xv/8VO9812l70HeWj9SfNXy1NyvPx44eq3//77z9ul0ctD37mW+yxvFnegYYBU6AVKBTKY7M9cyh2UuREMlqKXkoe9A6RRmlpoWHlr0cilPaTJ49cpkVkKC2HuKfnodBWXEdW2oyBmsUAk5AfLEFXFopQ9GpXIqOXL/MNE0BBwWNVEhFpuyK158/zVL+ndLlz1mznZPmyfEMBA0xCfiCh4mJ9N5kgCL2rK1eaAC+5+PTSIdegeFftqkWYRE5q7/MzVpyMAcaAOxhgEvIDCdH8jx4xGP2NXHmuGttut+m6+1y51chSUisPkZOrvPl3VkaMAcaAKwwwCfmBhLQUu5qyd/XMiGtOy6Um0iai0gIKzSuJ98SVXIKeBEpo5cHPWVExBkIXA0xCfiAhUvpCoVf3SoRQVlakSSLUuV1ZQ65ccsoyUvQeK43QVRrc9tz23sQAk5AfSEjNusjLe+QIyyb3GN0rFb/e/0bmh8hi0kqD8tMDFRGd9FtyJ+q9z7+xkmIMMAaMYiAkSYhIoKTkhWP9DQUJ6LmjjArS3fdIsZNFQYEDapYMuezoN3pHSgBa92ppKMukFW5NaVJeyvfpf5KVlIQ4IIGVixpO+BnjwlMMhAwJkTIltxOtzVFT5KSgiZA8FaS737ljTVC5XFlHtPbIVRmIqGhtkFr96bkaGUuj40h2JEdX+fDvrJAYA4wBoxgICRIiBa2lfJUK+cWLfwNSyZLy11vzYyRSjkBBFqDUspHWn0hGalERUQq5EUkzAbFiMapY+D3GilEMBDUJlSvuJ46RPylTcjmREiaLSChXqRIW94G6EJPqo+WeczWvIwUEkYuWZUUERYQjtRiJ4JiAWKlIMcT3jAdvYSCoSUg6B0LkIxUazbnoEZHWHIk0DX/cExlI6yWIk65SK8ZV2Sgdsvq0rCJKjwhPKTdX6fLvrJwYA4wBdzAQtCREo3ehoGlUryYUvZ0LiKACdfRPZKNGHkSsavXUe0Z1pHkfip6joAMiJiJgdwhNL33+jRUSY4AxoIeBoCQhGr0LAqIrWQ5aQqDwZum70ntfBipolU/rOZGFtKx07wkJaaXPz1lxMAYYA77AQFCSkHLehKwaLWGS4lazKkipB2qQAtVFbQEqkxArDS2c83PGRqBiIOhIiNxISguB/tcLiZa67qTfGo0481fjKslWLcTaX2XjfFnpMQYYA0YwEHQkJF3XIiUUvT3WiKCk74r7QCchqUtOz9ozAgR+hxUGY4Ax4A8MBB0JUfi1IBHp1VWggTQkWXznak81fzSYNE8p4QY6YUrLzfes7BgDjAGBgaAjIb090vTmeNTIS8+FJwToz6s0uo8IyZ9l4bxZqTAGGAOeYCDoSEgcnS2sGeVVS1krXXLuLP70RPDe+IZCqal+FFgRqOHk3qgnp8HKjTEQvBgIOhJSkomShEhhq4VekxKXvhuoi1WlnVEEVBjZRVv6Hd8Hb4fmtuW2rW0YCDoSogbQ2pJGSjK0MFNqPUij6vTWFQVKAxPZEqHSHy8sZcUTKLjkcjAW3cVAwJAQucloZC8NEKBgAhrla7nQtCqrNy8kJSIiK5oLKt814JnDEqI8A12pU/mEnPTmubTkw89ZUTAGGAOBggG/kxARjFCoUoJQ3hMZSS0XPQHSe0QmyjS0/idrQlhPaq46vby8/ZtUHlQHWgtE5ExkSeRKcqDyUl1Ibt7On9Nj5cQYYAz4EgN+IyEiCnE0ASlbco/Rnx55kNI1aqVII8e0yEftudQ68mVDUF6ugiqk5aVyGpWFr+vB+bESYwwwBoxiwC8kRCv7hfVDpCNVpkROWrtEkxJ2Z75GRI9JlbfReyoXubp8uQuBkImrMjIBcQc32sH5PcZKoGPA5ySkJBm1nQxI8Qv3mJpCNnKKqBA8EZFwX6ml5eoZfeurRat6dRbldMcaFDLgKysixgBjIFAx4HMSkm41Q4pVi1CUO2ELJUxXd6whEjxFkhm1MqT5SO8pT6nFVhMNKkKupfmKeyJDkh2ReE3kzWmykmIMMAb8gQGfkhBZOEqrRM/KEHNGQhGLK6XhrjKm9ykvvTknkb7WlYjMqHuOdrSmeSkKNDBaVnqPAg+k+VNd6RnvkM0Kwh8KgvNk3NU0BnxKQkQCUgVL93pHaZPiVb4v/ifrxhPhkKLXm3MS6WtdKVpNL1+ylpTkSUSiR7bK9KjeRF58qikrACU2+H/GRLBhwKckpFTOpOhJQesJVXlcgSAHT0mIlDulQUREabiKyBP5Sa+UhlqZieD03H68pocViBpu+BnjIpQx4FMS0lLQelvkaIUtG3WLSRuXrBQiPSIUaUAEkQeVwUhgAH1L9ZCmK+5dLZKlvGt6XkmUha+s2BgDjIHagIFqkxApcKMV1ZqPIeWvlQ49F8QhrBEtEnBVDqlVpWXNkNtMmZ/IV3pVs8SMuPm0AjFclZ1/Z4XCGGAMBCMGPCYhmq8gpeuOUtWyhEi50+S7loCVbjxyoWm9q/VcGW2nN99CBKNFmIKI1FxrevUT37kzN6RVF37OyogxwBgIFgx4RELSCC4KKzYqDCWZCMUsrmqKndKWurnISvEkUkyZt6vteYik9CwitQAFqVxEnZRXV/kalSW/x0qIMcAYCAYMuE1Cyog1d1xjRnYwIEWunO+RkpAnVhClpyQDIxaJXnnJhagEgKutgtS+UabB/7NiYQzUEAbsubi0NQ3v9+uIls0T0CFlKjZcLajSj1n+NST/V+rpuk1CaoECStLQakR6T8+6EERBrjAiADFPJKwYIjzxTCsPteciIk6kT1c99580DS0XG5VR+p64J2tOmo+4p3qrzSOJ7/iqDlCWC8vFKxh4eR5rRreE1WSCSfIXmfQVrpayjL0iYw2ScZW22yRElohQrOKqNcmvlrna9yId5ZUUPSl1UuB074kbjsqgRgxGrRI10qVy6lmAJA9y11G5KR9yWXJUHHd0tf7Az3yAi+LLWDOkKcIk5OMkIktPpP9dpDqg5LbxQdu8KoHbJKQWAaY1l6PWiGTJkGJWEo6r/+kbqXWklrbWM2FJKfMwQgxqrjxKR21OSCt/fu4bMLOcWc5VMZCP02ldUMfSCJ1Hf4plmVuQtS0DaSNaoy6RUlhzzDiqvu6valos35qQiVskpBYuTQqZiMmdwpFFQ5aNkhSM/E/f0RyRURcglUuLhCgdI+VWK6s7xGskD36HOzhjwPsYKLk0Hz1ik/DZwWyUSd1FZXfw/eAGMJubYspBJiF/Ys8tEqI5DTWiILeTu3M1RsKg1fISzyhPIhEj+WpFrRl1yamRmF6Itz8blPP2viJjmdZWmeZg17hOGLPlLuxSAnLc25Czuh8iwlrg42NMQv7EuFskpBct5olSJneYdAGpIBh3rkQkrvKmSDitNI2ETCtJzF3Lz58NzHnXVgXK5a42dkuv4+CWX/GwTF2WhVtHwGrpioXXCg15RKpdnipEqF6uUMvHLRJSKmOpYjcS8qwlXPpWzeUlTV/vnqwiPSJShpVL0zJCKMp5MHcCMbTqzM+5AzIG/IkBG558PxCRkYOQme/PcnDebpGQVrgyKXVyWVWnU5FbTboeSEoURu6JxPSi5/TKrkcqynmw6tazOjLib7nDMga8hYFCXF7QBRGxk/GzzVtpcjqe4NMwCZEy1iMDIgFPCiD9RoRSk8VFf2Th6OWp/E0vYo2IRvm++J9celqRcqJM9C4RmZE5KGmd+J47JmMg8DBQdn8LxrW0wNJ1Hi7zOqFq6+7qYNwwCZG7ixSxHjHoWSKuCindbUCkQwqfXHVEEoIwXF315nj03IlEMEoiIuIS9SWXnDsRea7qy78HnmLiNgmRNik4irlJ9RyLViPfWoM8nqupHSQkJvf1FDkFLnjSkYlsxJyQlkVFaYt39IiIyqdVBspHOb8jTYsIh76nBbXS92ixKVtAIaKgWCFp9h+tflWrnpdcwfrhsRULV81oOmkPbNzmfm1zw5aQIB+yDrTmV9zZzFQKXOlcEKUt/U16T5aIlBykBCLuiUhcEYbRXRvIvacX8CAtG98zSTEGAhwD9of4+aP2kq17LOg87w+UMglp6lxfYNowCQkrhFxWWkrc6LobacWIMITLi4jEVRr0vhYJCiLSc8mJvMnlR/WQuvqoHERy9JzJJ8AVCisOvyoO0Y9qz/UpLqb3RSOzdO+4CAxc91BlDRFj35ftaoiExNY1wlWmN8nv7ryJcu0REYErARARClIUxCO9uusWJGJzZT25KhP/zh2XMRCoGCjCg13jkGipICBzAyS/NxStLDFI3c8LVf2NW0MkJIIGRPQZkYBU6UvviaDcqZRw80nTEIEJeukoyUv6vdHtePTS598CVaFwuRib7mGg4HQautc3V+yeHYHWk3cie98ExFjaY+4FXqjqbzwZIiExZyPdL03qxpISgPQdI5VTs2iMntaqVYbqLJw1UmZ+xz0lwPJiefkLAyW312FEbFgFAZkRM3A5rtpsyF3bHxER/bA6x+bWoNlf9ajpfMkTdOrUURw+fMDn8jBEQmLvNKmVQ0EIUvIR9zSnYlRgws0nvhVXvQg3adpac1NGSUyaFt+zomQMuI+BDRvWo3//fm79ZWffqqIjxo4dYyiN4cOHGnad258cwCcdrc7zg+p0/gS/5hHpFOLC3PawNHwfe0N8oSp5tbKydqB79ySHnEi+vu4HhkhIWCtUYFFArXN2jESniTS03Hpi7km8p3XVKoMRd55WmvzcfUXEMgtdmT148Df27t2NiRMnwGwWLi/p5L8JrVu3QmbmWhw//huuXv2zConQKPzKlQs4evQXZGSsRHx8vJM46Nyf8PBwjB//Pnbv3o4bNy47dZAu7orOY0X/xjBXnCEUHjcCG+4I19tz7J3QCJb2s3GuJDTbjqYz1q7NQGJiokzWAUlCgiiUxCCeC+tFejUaWaaXhtTq0gIbkY00X7pXllPrW34emp2P273m2j0zc51MoYmD44hg3JH76tWrnOnExsbiwoWzbn3/quxv7E5NhKWCgMwNkrHgTF5lGvZ7+C4lAhEpK/HQXnPycKfOvnqXpjAWLpyPxo0bO2Us2omuAUlCIhJObc80YSEpicCdwACtNEQQhF7jqLnz3J2T0kuffwutDsrtXb32pkFl27Ztqig3d/QBWUUpKX0daSQkNMfduzcrycNQWH4eznzVAw1EKLYlEalZiqMcSk7hy/YWRI/dgSJDaVZPLoGCq99++9lh+cya9QmWL1/qcH9KCShgSUjsnaYGJLXINiIkNcLSagitNCgdOnNI6zt6rrSEyBXoboi4Xvr8W3B0Pm5H37WjmjV0/fol3X4sbR9yuZEyrFevHm7dumr4u/I0XuDOjyMQFy5CsRuj/4rzVYnGthPjGlqQOPMIikOIhCjKWTpVQfctWiTIBg0BaQmJHQrUFoBqhUkrXWJEDNLKS0GnNa9DJOTKGhJWmrDE1IhSmhff+04ZsaxDU9Y0qIyIiJAptlWrlhsiE1qEHhvbzPHtgQN7DH1TiTMbnvzyETpZxXyUFR0+2Y8nKu42e84q9I8IR7s5p1CiQkKFZ77FB+nHQmI7n/fee1fWVgFJQmRdkJJXszCUloggA7oK0hFnBVEkWyVg5B1UK9Sa0tGLdCOSEnm6Y31plYOfy9uF5cHy8AQDpMikbp6BA/tr9n2RPumXYcOGOL6jOQvx3Oi16MoyDGgsAiPCEDtiHW5pBB2UXv4PuljMaDZlb1WisZ3H4jeaY8yORyGxk8KXX86WtVXAkZAgGaVlIwWG1pwOjYik5KIXuq20aASx0JVI0JUVRmTEOx6wwpTiku/9h4ctWzbIFBtFt7kaJKanf+P4ZsiQQaoDXr32tD/cgUmthPVlRv3uaThdoF3/kjOz0CbchLD4sdgtWSdkL/gDa0a3QJ12s3C6SPt7vbLUtt/mzUuTtVXAkZBwlekBSG9OR0kmeg1ErjTp+9J7IiKamyIyIsKS5qlnYenlx7+FRifjdvZ9O1P/tFgsMuW2detGTeuGFkmGhYU55idcueCrtOezk1jQs74zFNvS8n3svF+5lKTK+69KUHL2U7StmDeyNu+FMR98gClj+qNjYwtMlhaYsi80rCCSzYIF82TtFHAkJBaD6s21iCMepKShde8q0IDSEu4/rTTEc/Ifq1lIaqDjZ75XRCzz0Jb50KGDZcpt1KgRqiRE/Z3mgWge6c8/f1d9RxNLpTexYVQ8wkUodsO+SL/41GUa9vsr0C9SzB1Jrub66DH/GJ6pzBNplqGWv7to0Veydgo4EtILShCNIg67E+SgdSXSEPNE4lu1K71DIyk1MqJnVCa9eSK1NPlZaCtEbn/ft//GjZky5Wa1WqHcWJhCumm3BZo/osWsbrWT/RF+ndUJdSoIyGRthxkHHxibxym7jcxhlQtZHfNXkc0x5JujyFMJZHCrXLWMlL7+eoGsnQKKhGiORRCBWlACNQyBSmtOSJAR/a4En5FGpfyJ4Mj9RqTjyooykia/43tlxDIPTZmTW43mgqQBCvv2ZcmIZv78uY7fabcFn8/pPvsTOxfNQOr4CfhwfgZ+vvWvrGyhgtuAJiFS+kQkFFygbBByg7k604e+JavF5+ByMRKxF5zDjm/TsDDzGHLLQlNBKNuT/2cc1AQGBg0aKCOh1NRxTl3yyy8HHb917tzJo0FqTZQ3FNMMaBISa4DINSYap9xV9lgzgEBYP+KqFxEn0vTp1Z6DnWNiyicxzQ0w7IdsY+a7C2LzaR24LE48stwDmzx//PF7GQlFRzdweDRov7lGjRqhfv36+Ptvd3dECOw61zZMBjQJiQg0ChYgdxwFKQj3nCAZI9eAsoRKTuPL9sJFEIaWn4TWiuna1kG4vLVb4ZK3hKLepC65Q4f2Izm5h+PZ/v0/8YDCz4PKgCYh4W4jMjIy76NFSP6MYCstKpCviLY/ROaQuhWdwoJe6ddRJgMBny3Cir92K/5Aa7+BAwfISKhhw2jH/2lpc5iAZLrHP7gLWBIi60WLVKTPyTKi8G16X7owVfqOXnh3jXUYew5+/eJ1NAwzwxrbAxMzTiLfEfViw72MvrBSRE14e6Sde+HoCPaC01gzKRnxdS2wxr2JhScrXZA1VsYAACDXzT8dP5Tkvm7ddzISIquoX783DUXKhpKc/FXXgCUhcr9JiUTtng61k0bNaR1y5/biM28o5+LDmNFc6gaIQuePfsI/ZSWwP1iFAXVMCG/7GX4vKYE97xek9WjgXOxmMoUhbtrBkNrY0F8dgPMNfhIUEXDCJUeh2qRPuO0Do+0DloQIIMIdpyQgIhW19T5idwXl+2Qt+R5wBTj/7ZtoHCZZiGaKQqfpO3G/+Cq+SY5E/PSfUfT4MNJ6SgnIBHN0D3x1KjTDNX3fToHREbneNdcOHTq0l1lCo0eP9IM+qLn66WFHEK8vrnrl0PstoElI7JYgSIVISW9+h4hJvKu8+meNTyGeXP4J6xbMwHsDX0erxpEwmyLRYuhczB4Ug57T52FMW5ofCoO1SWv0HD4RaRk7cfFxuYtOr+H4N/90apZ77ZL77dvXZAREylhv+55ga19fkI/Iw1PZBTQJCcvGncWmWgEMnixW9VSo2t8VIOfiDix8O7F8TqhOK4xauBHHbjxi15s3XKCcRsiM8LX7mJwkly5dLCOh8o1MQ2e+VRCEL65G20T5XkCTEG2pQZuGuhNiLcK6lZaQX4ITHEqxEE/vHMfeH75B2tRh6NGiPizRHdG9bX206p6E2IYt0GP4eMxauAJbfj6LBy85Ok4JUv5frlhZHsbl0b17koyE3nprIBN1gA3WApqEPOlsys1MabEqbb3jSVrV/cZ2YyM+7B1XbvVU7C9lbTsOm2/cxtqBUei++AJu7ZiEDnUq543Col5D/8+242+Nc0iqWyb+3rgCY1nVblnRglSlBbB+/Rq/6ALGkjaWgo6EpFv9+HWT0dKLWNwjUtYJ6naajv3/FOFVwVaMaWhG1NDv8dhehPtZE9FGtqNuXfRbdVOxfki7ERngLBvGQFUMZGSslPU/IiTykLCsqsrKnzIJOhIiYYp1Q/4U7KvSC1iUZK3oBGFo3PsL/FJxeNXT7aPQ0GyCKXoEtuQTIAqRnTUd3aLFqYx10Gf5NSahAHMb+BVPLAu3yaNv3zdlJNS7dy+30+A2r3nCCkoSChTglOYcx6b0BUjffAz/ON1redg5Jrpi77gYTNib7+wYtgfHsXXFQizdcAw5pTXf+IEiJy4Ht7W3MUABSmazGNSVu7uXL1/q7Gvezo/T8xzDTEK+HmGWnMIX7cTecRZ0nHsWpb4uA+fHyijIMUBzP8r5oJs3r3C7B2C7B/yhdkE3wig9g7QOlSTUad7vTEIB2DGCDnchJuM+fXrLSKhly9fcirLl9vfcsnFXdsrjvelEXHfTqO77puomULu+L8K9PTOR0roZmvf6CHsf6p9FX7vq5jvgslxY1loYyM6+LSMgsojGjRvrc8WmVT5+LsduWtoXsvbyRxh9iJGQvAEYkCwPxoB3MfDuu6NlSo1I6PPPZzEJBag1PGPGNFl7vf56V5+3VY2S0NmzJ7FkySK3/h4+vFtFCORjNpLOt98uZrM/QMHOyt67yj7Q5EmL2letWi5TaGJeaMCAFNlmx4FW9lAtD63rfO21FrI2o10t7t717UGDNUpCR4/+gpkzPwL5hAUglVerNRLvvfcuaLddArHN9lxGQgTu1atX4T//+RIjR75d5ZAsSq9583hMnz4VvBguuBVdqCqLQK33kSOHsGZNhqNvKjcqVfZzOsb7yy9nY+3aDNDR3oFap2Av144dWxz69IsvPnfoTWU70f904u20aVMc+viHH75X3bDam3KqURISBaUtgJRmn6j8Tz/tdAuQ6enfOAmNTm1csSLdcWSwyIuvTESMAd9ggMKuaXDo7t/evbvd6vPcnt5rT/IWudteNb0BtU9IiEBE+9A1bNjQSSCChOi5OyAji4e+tVgs2Lcvy61v3cmH3/Ue8FmWLEvGAGNACwM+IyEqgDImncgkO/uWYSK5fPm8cxGcuxaUlgD4OXcOxgBjgDHgPwz4lITu3/+riiW0efOPhkiIzivq1SvZ8T3NHzFo/Acalj3LnjHAGPAWBnxKQlTonj3LiUS448aMeccQoYhjgmkxlfRYcW8JgtPhTsUYYAwwBnyPAZ+T0MqVy2TWUL169XRPbCVQUBQOkVZiYksUFDw2RFoMJt+DiWXOMmcMMAbcxYDPSUjtnJHDhw9oEsujR3fRuHFjREZG4tKlc5rvuVtxfp87C2OAMcAY8D8GfE5C1Og9enSXWUMffDBZlVwoNPCNN3o63t2wYb3qOwwi/4OI24DbgDHAGPAUA34hIVpfIOaE6BoTEwNaS6SsxOzZnzremzpVnaSU7/P/3BEYA4wBxkDtwoBfSOjevTsyEiIiOnXqqIyEaA0QPe/WrSv8ekorb4Mjaxfu4LWrg3N7cXsFOgb8QkIklKSk12VE9OmnM53KjtYONWhQH9HRDdxaRxTowubysUJgDDAGGANyDPiNhKTb75DFk5DQ3LH5KO0dR9YPPTt4cK+TmLjh5A3H8mB5MAYYA8GAAb+REFk7RDTSv4sXz2H69A8cz+bNS2MCYldgSGDg6dNcx6aetLFnTf+p7VIfDIqM61B7CdlvJESgobMrpCQkXHS09btaoAIDrfYCjdtOu+1Onjwi6wfSPuHt+8zMdSFB7Iw3bbwFmmz8SkJLly6u0vni4+ORl/eIOwpbQSGDASah2qMwA02BB0N5/EpCdBaJcqT3+++nQkb5BAOAuA7VV6C0DVVx8XOf/LGHofrtxZj3rgz9SkLkdpOSEC1M9biBS/7C7weyQGeV6P7ty8L+g/tx5MQpXMvOQTFbHJ7L3Kjs7P/i7qltWP31LEwe1Q89X++ANi3jERuXgNademDg6MlIW74Rx27lolSkWXAaK0Z0wbitOTVfPpEnX1nWjAGfY8BvJJSfn1PllFQ6oM5TErI/OYVd6/6LFYs/w/jkprAogh6kZFd5b4Y1pi36jv0c647eRhED0GP5q7Wb7cERrJ8zCsnNoxBmMiGsXjxeH/AOps+ZhyXLVmDt2pVY/vVsfDAyGS3rh8FkikTjtr0wZMQg9GheByZLNyy6XujVMqmVk5+5HtnSiZx0yib/sQyePcvzap/0Gwlt3Jgps4KIGNw5W0hXcbw8gGkJpNQqou/CEzFl52XkviSFVoSivNu4dGQDFk9KRjOLiNCri1YjluB0ns2rAtYtZ5CSXmnOUXw3/U0kWMtla03oh09WH8DtZ9qyLcs/i8ypXdDALNrDhLAWM3Cs2LWCDEUZ+7rOcXFxlf1J9Cu+hqRMbt++5lUd6TcSGj58qKwBu3Tp7L2KlZzCF+3CnemHtZyB46rKrBDZ297Da04iMiO69yJcKGLF55mS+xdXN01FUqMK2ZujkTRjA649MyhP+0Psn5rotGKj392CZ0FK1J7J16Aca0Bms2Z9gtTUcfzHMkBu7gPv6epXJfALCdGR3hEREU6SIItl4cL5XquYPXc13qoYhZtMYYifdhA2rY5pf4DNI6Nhdo7q6qLP8qso03qfn6u3U/F17JgmsWQsCRi19gJeuikv+z9rMaQeWUOR6LvqL9jd/L62KXcur/+IlWUfGLL3Cwnt2rVNRkBEQteuXVRXbh4ooYKd76ChcOuYm2Ligac6aduQu7Y/IpwkZIKl52LcLguMBqoVHaXoT6x5O95pwZjC4zAi87JnQR/2e55atOUAABgnSURBVFjdPxImS3vMvRAa80E5Offw/ferffJ348Zlnb7AmK8V/c0DnRjI9fILCdFpqs75GpMJrVolOrbs8Y6g8rE3NcZp2Zgbj0GWC3dQ0a53UE9CQmEtP8QJVfcdd9IqbVR2G1vfS6gkIJMV3b48igKPO8pzHPsoAZbYSThoCw158zqh0GjnKn3H4z4SXPLyOQnR3nB169aVkdCcOZ95b3RWtA9TY0VQghnRozfiqW5j2/Aw4025JZS0ADfYEjLQJgX4c3Ey6gur02RC3eQFuFgt8ijEpfmdET18PfJ02y14OuKZM8cRFRXlk79Nm34w0K7BI1tW/IHflj4noQMH9sgIiCwi5TEO1QGO7eg0JISJCKt6GL7hof68gv0BNr7dQFImC9p/eQolIaIAqyPronNz8bpz7s0EU0QnpP3xvJpKrgi30/siJf0az8sxBquJpcBXwNXpf8Hyrc9J6L333pUofJPjyAY6QdU7An2BU7MSES5ca3UGYl2Odlgw5fnyzOfoFCFIywRzzHBsuK//TZWylj5G9rmD+GnbemRm/oidB4/jToE78xk2vHx4Hkf3HsHfem7AslxcP7wRmRt24I+cF16SmYcdtfQy0ntLLdowxI7fgXy7h+lVS+EWoiD7NH75aRM2ZK7D5p17cObO48qFrwbStr+8i8tHd+PE33okWoSn1w9ga+Z6ZP1xjwcqBuRapa/wN/7ttwEof5+S0PPnebBaI2UkNHz4MO81SskpzJGEZlv7Lcc9HaVYfGcj3k+0VJbH2hpTf8rWt5ycjWjD0yvbsXhKP7SJtsAUFonoJk3QsE5FeHJEM/ScvBJnVNcdPUfOn3uxacWXmD4mBd1ea1AxpxKJLmnHVSPKiu9swyfJMc65F0vz8fjpiZtk6Sx7dYnChvyssWgmccOZLF3w1UV3iLe6ZSiB/ekF7F48Cf3bkPzCYI2OQdOGdSoGIRGI7TkRGWceqbanLed3HNyUjv9MfwcDurVAdEWYvrXLHJx5qVK24uvY9UkPxIhwfks8Un/iPQ6ZZFSw4rV+Fhpp+5SEKAxbGpBA95988qHXSKj0Yho6CSVhisAb6dfVXTqlj3B+48fo3aySgKwJAzH/0F1Do2f7kxPISO2GxpRXVGuM/GorzudUjKBLHuHCxmlIijY76mptMx7bsxVHl5dewIJulXnLZGLtgSXX5Mr85cVlGBxbue7J8X5YHD44rDdqr0EAl13Hij5WWVvW7b8S93w1j2Z/hDMZ45HUmGQYhTYj/4Od5+9XhOG/wJMLmZiR1KA8OMXaGqnbbytwUIgrC7o6CV0mf5MVyUsuynHw8g/8d3CzSgvbYWmHIe6DA17DLivzGsQrk0JA49RnJHTu3Okqa4Oo89MCOO90wEJcW9itUrGEJ2Lij7/ixIkjOH7sEA7t24oNGQsxe/IQJMXVrYies6Bhu4GYvmwPbr0w0glsyD/9NQbFl69xCms2EOl/PFYZadvwcMMwNHJYCmY06LcMN2UK+jly71zC9Wt/4MzhDVg8rqNkcj8MzacdRGFFxynL3oB348NhssYgsVUz1BHWR/2+yPhbQW4+6mylV+ahm5PsyZUZhcHr76nIwYhM3XvHnn8M3wyKLw8kCWuKt9JPoUDF2rU/XI+3G5UPBMwN3sTKm3JZ2XKv4/r1i7h45gC2LB6LTvXL3yVMhjWfgl8KK8pVdhtb3o1HuCkSMYmJiK0j3quPlIybXsKuezLwTn/hPFmOgYGBGiMhOo7h5s0rOHbsV8yc+RGsVvnIWTr6pN9//fVn3Lp1FTk59z3r2GXXsLSnhnUh5oicVzOi2oxC+rFsN9ay2JB78CN0rVehhOp1x1dn/9Uu68sdeL9hxbth8Zj+a4H2u/aH2DsxwbG/mkMJxk3GIdq1ofQqMvo3QFSHSdhyIx+vXtlQcOcIsjZtwKEbT3yi9Kt21EJcXyQhe5KptS8yHtS8a9Ceuxczu9arGEDUQ4+vTuKFJvHmI+v9hhXvhqH59J919ga04fHeCWghAlrC4jD1ELVXIW5l9EN0VHtM2XLZ4Sa1F1zHyawfsOXQZVXyqyqvwOjoXC5uh0DFQI2REFk4PXsmu/03f/5cbWWtqXBKUJa9DG9GigADK1L+ew0FBU9Q8PQR/sm+iLOHNmLlnHeQ1LSSqMxRiRi+YC/ulbgGaOGFxegjSMXcAP0zrshdNsqylZxGWgfhQgtHm8+O69ar7G46+ohIs7AW+Ph4Ae6uewtNE9/HzvvyUbxfwWS/j3UD5QMKS5f/4HKpaxlWq9yFZ/FtH7GzhRnR/Vfgpm6eL3Aurb3ThRbeZhbO6LVz2U2s6CPmK8Pw2se/oejudxjctCXG7/xL4c6r4boqscT/6/adauGKZet32dYYCfkWGDY8WJ0Cq7B0InphmYaryp5/At8ObOq0OkwmC+KGrcJVvbUtL48jrYtQUCZE9V6C67oKsASvSk5idltBQibUGbVZv7HLbiL9DbGVkQXtJ87EsOZdMOekd3esrXa7FB/GDOnmsCYzGr6/0+k+rHb6qkohH2fSOle2b1QvpLvcXfsFzs5u4yQhU50R2K67J2AR/k7v6VwvZmk/AZ8Oi0fXOUd4/zrVNmEirhmsh55cg4OE7PeROTjKOVFuSZqPazokYc/bg8ktxIJWsp6s6DbvlMb+ci9wcWG3SgUY3gozT+htA1QBIlsWUhuL+QMTrCM36pPQK8WclikSXdNOGlTuRXhwdC1WLPsWy7z6txQZ+6/Iy13wA4YLi81B+hZ0nveHvlVYTSVWcnE+kpx5hqP1zCMG5PIc+1IbV7jjyGX4NraKeR6N8pRem48kyVyXtesXOOviG1ZEoac0uc292+ZBQUL2vB8wooFwxYWjQ9oZF2s4CnF1oTw6ytxwFLblVxWu/ckWjImpJJOo/iuRLQsyqPoNgbTs9mL0dCq0MMRNOyhX5iqKsOTcHHQIr6iHpTdW3jM6z0Jb3bSQWHdCFtW/1h0tt+DsD1ciRbKuymSKQN9Vf9fc/JT9EXaMqdyGyRTVDxnKaEMVWb5SzBGGxU3BL3prsCgNmQvVgj4r79RcvdTKzM9c9hEmAHV9U5vlEhQkVLB9VOWGpeGJmHXS9ULO4l+mIE5MRNOIPiwWUw8pQ55tuL86BXWFm88cjXe2GTvpM3/TMMl+dJFIybjruoMVH8HMxAoLzRyNMbuMuuKKkH1wKb6al4Z5Xv2bi4U7/pSV256TgQEKEhq49kGNKWv7/VUYUFeQqRkN39mEfCPKOv8HvO3Yjbv828iUlXioEkUn77zPcWJmywoyN6PhmG3sijMi6xB753//K3ZE3WZkrMSWLRtBW5HJcRR8RFGT9QsCEvoXWeMq3S5hcZNxWG9+p6LDlPz+OdoJq8NBMlF4Z4cigs3+AOsH13G6+UzRI7G1wAjAcrHtHTGJbio/IVSx9ke1UQv2YarTTUgRXYfciN4zUi4vvFO0E+NEgEaFO673sps1NHFvQ+76t1BHDAJMDTB662NDHf7pNsnAxGRB0iLF2h9VxfkEP0+VRCk2/wBHXFlPqul4Qc6crqF2Vu1HNSi7w4cPoEOH9pU6wWRCQkJzr5+x4+t6+TO/2k9ChXswKVa4y8yIGb9LJ2y3UjkUH56ssIQS8NExxYjGth9TnWmbEGFoNF0C+8M1GOJ0D5pg7bVYsU6oshyVjf8UZ77ojObN4xBZoXQtHb/ABZ25rcpv1dKroWeOAIrKCEM6r6nFR7/UEFk+x6GpzSrndSL6IuOhARel/S7WD6lfqSisyViqWCekJrvCM5+jS/N4xIkoS0uHkDlOQk0e/Ezeh1auXFaJKefAqNzS/vzzWQFJmrWhDWs9Cdl+mYJ44VYzN8DobUZGykW4uSSpcmGryQRz9EhseyoH3au8tRgkFJKpPGy32OUo6znO/6dTZdrmGIzZ7mITVccednPQLWEENp5YhGQxlxTxBpYbmf9wWSZFvar1ftX5NEvSwhradfwRMgdVRiWGvaZ1Qq68fsXnv0RnIUOTGU3GbMZjV664lyeQ1q05Rm08giXJgmQj0Hv5rRqy8uRlrg3KIpTLqEdAtLavR4/uTEIe6pVaTkLPcfzj1yon5KMGIzPXwEi5+DTSOglFQyOZMMRNzKpyBo58/sOC5G9d7+xcdm8dhjndVbRbQjpuuLJmnh3B552aYdDamygrOYpZrURodxSGbwi8/cnK7i5HinOehtyNXfDVJflWQ54oLHtRLp48k1ij9vtYM0CErZtgSTZw2GDZHWQOE4tUTaDdElbccFW2PJz4vCNiB2Xg7zL5JrhRIXSkhCdtFgrfXLlyARaLBd26dUVW1g4UFj5FaWkhduzYgkaNGjmso5YtX2MSCkkSKpYqbBOsKStx39WI91UB/lzSS7JNDllBKfjutsqC0KJdkvkPA9FS9nvY+V6ckxTNDftixTUXQRL2Rzj4QWs0Hfhf3HKQVT6yxjWqcEGZ0SQ1SxaOXPhHBhZscbFQ1kMwGFco/+L4rLaV1h5ZG6N+MDDxrz36L3u4C9N6peDrP6S7UBRgz7hKQrH0Waa7IS3tKJGz891KN6s5GikrLrqIlLThycHJaNN0AL67VU5WL7PGVmy5ZIK5yTjsk4ZpF57CmgUbXSyU1a6ncRlzGoEgq+Li5+jcuRMmTpwAtd3+9+zZ5SAhOiMtEMpbG8tQqy2h4hMfIdEZXBCBnktdWCr2XPyxcijina4aGsXHY8wWDZeL/R7WDxLrj8LRdvZJHYVWiLs/DEMz4Rq0tsW0fYr91Eoe48H9R5L5kxe49f1QxDYZhO+di2vlk/HhiR/jpFjpX3AEs5O6YfYp2sLHz0qq4FfM7iwJ2jDHYOCqPzXWWumXtejGD0jt3guf/nxfEWVnQ876gYiq8L+Ht/0UZ4UsVOpfevd7vN1MrP+KRLtpWciRDUpeoODBX8iTBBuU3FqN4bExGPJ9ZXCFPXcNBtepiMiTRVs+xonZryNp9lHVnc793iYqMuEy6WPPlXzS079B7969UFKiPph88eJfBwmZzWbY7Qa8MNxGVXRXLSahx9ibGuu0OkyWrlhwRcvtUognlzYj7a3mlYtOaR6ofgdM2nxZV3EWHJzsPCTP0v4znFFddV+EnIMz0LnCRWWO7oZZB+7K5xJsp/F1L9rZORIJQ7/Gycf/4sbGsWgT9RrG77orU75ld77BGyIM2rE4tgD2pyewOCUB3eedDBgFWHp3I1LbSLbwscRh0JIjeGxgHZWj85fl4ELmZCR3HIivT6ofufCqYA+mih0aLO0w54wigrGiU5fl7MHHnSvONzI3QNKsPXgoK8dznPs6GdFmEyITBuObkw/x4kYmxrWJQsvx2+RWXNl1ye4V5Ytji+y5OLO4L1p0T8NZtaMeWLlUUS6uFHyg/04ut1atEpGdfVuzbhSuTcfTNGkSo/lOoNfT3+WrpST0FLe2paKtM2jABFOdjhgz92v8d10mtmXtxv59O7B903dInzsZo3olIErsPk2jamsckscvwoE7BnY+sD/C4VkdK9YKRaJt6g+4Lt1xu+g2Di8ZhkTHin4LYvvMxM6bVdMt/VN6zIQJYRERsJgb4I2FJ6pG85VewqKkyjkrS8MEtGwchcT3NyHb1fySj5Wh/fFv+HZkq8q1VCYLmiVPRHrWH8iVWBxSoNty/8Sh72fj3ddbotPoRTjyj4or1FkPG54c/hidKgje2nYcNl2Xu+yyDy/C24nlAQyW2N74dOcVmQvTkXfp75gnnQcMi0CExYzoN+bjjLQ9HfkqNmm1NESLlo0RlfgetmVrDXSqN+KWyofvA0OWREK5uQ9ckkuDBvXRqVNHl+9xu6q3ay0ioSLc2vwhRg3rh+Q2jZx7fEl345bfmxFmiYC1XjSaxCeiQ1JfjJg4C9/8eADX8tRNa02Q2B/hVPpItK1f7uqJaNwOfYa+jZFD3kC7mEiYzFbEdX8XC3Zf1NxZ2Z6/HWObilBycgM2Q8qiIxonkdrwYONwxAjiNNdH1xk7kK3jitIsu1OZqwPAO989xd+HluHDt9qgocTVGV4vDh169sPQkSMxetQwDBnQC11bxaBevTh0f3c2Mk/elbgm9cpnQ96pJRjdtn655RvRGO37DMbIkYPQu10MIk1mWOOS8N6C7bhWoOESsedg99gmleHeJgtiU77CyXz19+0PMjHCuVOGGQ26TkNWtpu48Yns9eTGv3kH39pyLCoqcLjjhg4dzCTkId5rEQlpA6GmgSbSL31yHgcyF2LOjEmYMG4cpsyYhYUZm3D0Ro6hvdNe3tiOrz9MxaSZC7H1/CO5u07ZgPZcnMv8HFMnf4zlB69XHdkr3w+Q/0vyLuPYrjVY9tUszJg6AePHjsG41EmY9vFnWLh8DXb8eh45qi5NA+1b+giXD6zF4jnTMGXCWEyYMg2fL1yBbUcvI9+IhfjyMnZ/PR2TJn2ExVvP4InMXafM34an59bhi6kTMWv5HtyRBicEiKwFLvmqbDvf/X/9+iUHCU2fPpVJyMN+wSTkoeC44/uuo7OsWdaBioGfftrpIKHFixcyCXmoS5mEPBRcoHYKLhcrbMaAbzDw7FmeYy6IpgE2b/6RSchDXcok5KHguKP7pqOznFnOgYgBWjM0cGB/hxVEJEQnSAdiOWtDmZiEmIS48zAGGANuYIDCsidNSnUSEJHQX3/dYBm6IUMpOTIJeSg4qRD5nkfrjIHQwcDChfNlBEQkZLM9YxLyUJcyCXkoOFY6oaN0uK25rQUGaO6HSEf617hxYyagauhRJqFqCE8Ak6+spBgDwY+Bo0cPIzxcbC5scmxqSmREG5ty+3ve/kxCTELcgRgDjAEXGLh27SLq15ecUWUyISNjhcMievvtYSw/F/LTI2kmoWoIT0+w/JvnIyOWHcsukDDwzz/ZiI+Pl7ngvv12MS5ePOd49vHHM5iEqqFHmYSqIbxA6ihcFlbcjAHvY4B2ye7SpbOMgD74YDIoQu7AgT2O50uXLmYSqoYeZRKqhvC403u/07NMWaaBggFaCzRo0EAZAdH/4lyhtWszHL9t27aJSagaepRJqBrCC5TOwuVgxc0Y8C4GyNKZOnWyjIDIIiLLSMh67twvHL+fOnXU+Uz8xlfj7cEkxCTEHYgxwBhQYGDJkkUyAoqLi8OjR3dlckpNHed4R++8ISYj12TEJKQAH4PGNWhYRiyjYMbA1q0bZQRUr149XL36p4yAqP4pKX0d72mduhrMMvJm3ZiEmISqdC5vAozTYsKqTRg4fvw35/ofWgMUFhaG3377WbWPtG7dCk2bNlH9rTbV2d9lZRJiEuJOxBhgDLwqwY0bl0GnpEp3Q/jxx+9VZVN+rLfVETnnbyVe2/NnEmIFpNrJajuwufxsgbmDgZyc+0hIaC4joHnz0jT7RkHBE8e7yck9NN+h/Hfv3o4LF87qvuNOOYPxXSYhJiHuIIyBkMbAy5f5jq13pBbQuHFjHWuBtJT+rVtXHSTUpk1rTdnl5Nxz7LJw9+5NzXe00g+l50xCrIC4gzAGQhYDpaWFGDp0sMwC6tv3TRQXP9eVye+/n3J8Q1v5qAUmlJUVoV+/NzFgQIpuOqFENlp1ZRJiBcSdhDEQkhigeZ3p06fKCKhdu7YoKHjsUh5XrlxwfkdHO9jtNuc3tM3PkCGDHJudXrp0zvlcSwmH+nMmIVZA3EkYAyGJAdpuR+qCa9IkBkbX/GRn35J927FjB0yYMM5h/ZjNZsdvtNYo1AnGSP2ZhFgBcUdhDIQcBrZv3ywjEavV6lYAgQhMkJKY9H7w4LdArj4jSjjU32ESYgXEHYUxEFIYOHnyCCIiImQktH//T27LIDV1vCwNQULTpk1RnScKdbLRqj+TECsgtzufFpj4OYdF1wYM7NuXhY0bM51/dFidJ+WmI73T05egU6eOIHcczS+dO3fao7Q8yT9YvmESYhLiTsMYYAwwBvyGASYhBp/fwBcsIzmuB1uAjAHPMcAkxCTEJMQYYAwwBvyGASYhBp/fwMejR89Hjyw7ll2wYIBJiEmISYgxwBhgDPgNA0xCDD6/gS9YRnJcD7ZKGAOeY4BJiEmISYgxwBhgDPgNA0xCDD6/gY9Hj56PHll2LLtgwQCTEJMQkxBjgDHAGPAbBpiEGHx+A1+wjOS4HmyVMAY8xwCTEJMQkxBjgDHAGPAbBpiEGHx+Ax+PHj0fPbLsWHbBggEmISYhJiHGAGOAMeA3DDAJMfj8Br5gGclxPdgqYQx4jgEmISYhJiHGAGOAMeA3DPw/FS+xNFd60CgAAAAASUVORK5CYII=)"
      ]
    },
    {
      "cell_type": "markdown",
      "metadata": {
        "id": "UMjRd1cbkVfb"
      },
      "source": [
        "###Calcular o lambda de Box-Cox"
      ]
    },
    {
      "cell_type": "markdown",
      "metadata": {
        "id": "rnk2ywqAmznd"
      },
      "source": [
        "Utilizaremos a função PowerTransformer de forma não padronizada para encontrar o valor"
      ]
    },
    {
      "cell_type": "code",
      "metadata": {
        "colab": {
          "base_uri": "https://localhost:8080/"
        },
        "id": "zS00ByySa5Cc",
        "outputId": "cd1e9673-4bd0-4e03-af38-f028b2118eac"
      },
      "source": [
        "pt = PowerTransformer(method='box-cox', standardize=False)\n",
        "pt.fit(planoSaude['despmed'].values.reshape(-1, 1))"
      ],
      "execution_count": 547,
      "outputs": [
        {
          "output_type": "execute_result",
          "data": {
            "text/plain": [
              "PowerTransformer(copy=True, method='box-cox', standardize=False)"
            ]
          },
          "metadata": {
            "tags": []
          },
          "execution_count": 547
        }
      ]
    },
    {
      "cell_type": "code",
      "metadata": {
        "colab": {
          "base_uri": "https://localhost:8080/"
        },
        "id": "pskCt0OJbNp8",
        "outputId": "c271bff6-e97b-4a18-937a-63496f674720"
      },
      "source": [
        "lambda_bc=pt.lambdas_\n",
        "lambda_bc"
      ],
      "execution_count": 548,
      "outputs": [
        {
          "output_type": "execute_result",
          "data": {
            "text/plain": [
              "array([-0.14436742])"
            ]
          },
          "metadata": {
            "tags": []
          },
          "execution_count": 548
        }
      ]
    },
    {
      "cell_type": "markdown",
      "metadata": {
        "id": "baYYNHT0kX88"
      },
      "source": [
        "###Inserir o lambda de Box-Cox na base de dados"
      ]
    },
    {
      "cell_type": "markdown",
      "metadata": {
        "id": "hGQnFEjanMaJ"
      },
      "source": [
        "Com o valor de lambda encontrado, maximizaremos à aderência da distribuição da nova variável y à normalidade. Esse valor ficará contido em outra variável, despesas médica box-cox (bcdespmed) "
      ]
    },
    {
      "cell_type": "code",
      "metadata": {
        "id": "Wnh1hsLvbPY1"
      },
      "source": [
        "planosaude_dummies['bcdespmed'] = (((planoSaude['despmed'] ** lambda_bc) - 1) / lambda_bc)"
      ],
      "execution_count": 561,
      "outputs": []
    },
    {
      "cell_type": "markdown",
      "metadata": {
        "id": "Aq65z7JPki30"
      },
      "source": [
        "###Visualizando a nova variável na base de dados"
      ]
    },
    {
      "cell_type": "code",
      "metadata": {
        "colab": {
          "base_uri": "https://localhost:8080/",
          "height": 203
        },
        "id": "HNGt9V_kbkK6",
        "outputId": "70c51fa0-4796-473d-a60e-46c792f03b56"
      },
      "source": [
        "planosaude_dummies[['id','despmed','bcdespmed']].head()"
      ],
      "execution_count": 563,
      "outputs": [
        {
          "output_type": "execute_result",
          "data": {
            "text/html": [
              "<div>\n",
              "<style scoped>\n",
              "    .dataframe tbody tr th:only-of-type {\n",
              "        vertical-align: middle;\n",
              "    }\n",
              "\n",
              "    .dataframe tbody tr th {\n",
              "        vertical-align: top;\n",
              "    }\n",
              "\n",
              "    .dataframe thead th {\n",
              "        text-align: right;\n",
              "    }\n",
              "</style>\n",
              "<table border=\"1\" class=\"dataframe\">\n",
              "  <thead>\n",
              "    <tr style=\"text-align: right;\">\n",
              "      <th></th>\n",
              "      <th>id</th>\n",
              "      <th>despmed</th>\n",
              "      <th>bcdespmed</th>\n",
              "    </tr>\n",
              "  </thead>\n",
              "  <tbody>\n",
              "    <tr>\n",
              "      <th>0</th>\n",
              "      <td>1</td>\n",
              "      <td>206.84</td>\n",
              "      <td>3.718813</td>\n",
              "    </tr>\n",
              "    <tr>\n",
              "      <th>1</th>\n",
              "      <td>2</td>\n",
              "      <td>184.19</td>\n",
              "      <td>3.664649</td>\n",
              "    </tr>\n",
              "    <tr>\n",
              "      <th>2</th>\n",
              "      <td>3</td>\n",
              "      <td>175.68</td>\n",
              "      <td>3.642295</td>\n",
              "    </tr>\n",
              "    <tr>\n",
              "      <th>3</th>\n",
              "      <td>4</td>\n",
              "      <td>180.04</td>\n",
              "      <td>3.653899</td>\n",
              "    </tr>\n",
              "    <tr>\n",
              "      <th>4</th>\n",
              "      <td>5</td>\n",
              "      <td>218.86</td>\n",
              "      <td>3.744867</td>\n",
              "    </tr>\n",
              "  </tbody>\n",
              "</table>\n",
              "</div>"
            ],
            "text/plain": [
              "   id  despmed  bcdespmed\n",
              "0   1   206.84   3.718813\n",
              "1   2   184.19   3.664649\n",
              "2   3   175.68   3.642295\n",
              "3   4   180.04   3.653899\n",
              "4   5   218.86   3.744867"
            ]
          },
          "metadata": {
            "tags": []
          },
          "execution_count": 563
        }
      ]
    },
    {
      "cell_type": "markdown",
      "metadata": {
        "id": "aH68-nZFkhMv"
      },
      "source": [
        "##Estimando Novo Modelo Múltiplo Não Linear"
      ]
    },
    {
      "cell_type": "markdown",
      "metadata": {
        "id": "CU-0O7Asn7TE"
      },
      "source": [
        "Vamos estimar novamente nosso modelo.\n",
        "\n",
        "**OBS:** Veja que adicionamos novamente nossas variáveis idade e renda, visto que por ser um novo modelo poderá ou não conter essas variáveis."
      ]
    },
    {
      "cell_type": "code",
      "metadata": {
        "id": "jFZnXsO8bbeG",
        "colab": {
          "base_uri": "https://localhost:8080/"
        },
        "outputId": "600d052c-cdc3-4f67-b675-9d1828103e94"
      },
      "source": [
        "formula = montar_formula(planosaude_dummies, ['despmed', 'id'], 'bcdespmed')\n",
        "modelo_planoSaude_bc = smf.ols(formula=formula,data = planosaude_dummies).fit()\n",
        "\n",
        "print(modelo_planoSaude_bc.summary())"
      ],
      "execution_count": 568,
      "outputs": [
        {
          "output_type": "stream",
          "text": [
            "                            OLS Regression Results                            \n",
            "==============================================================================\n",
            "Dep. Variable:              bcdespmed   R-squared:                       0.893\n",
            "Model:                            OLS   Adj. R-squared:                  0.891\n",
            "Method:                 Least Squares   F-statistic:                     325.5\n",
            "Date:                Wed, 18 Aug 2021   Prob (F-statistic):           2.80e-92\n",
            "Time:                        18:56:49   Log-Likelihood:                 355.33\n",
            "No. Observations:                 200   AIC:                            -698.7\n",
            "Df Residuals:                     194   BIC:                            -678.9\n",
            "Df Model:                           5                                         \n",
            "Covariance Type:            nonrobust                                         \n",
            "===================================================================================\n",
            "                      coef    std err          t      P>|t|      [0.025      0.975]\n",
            "-----------------------------------------------------------------------------------\n",
            "Intercept           3.5507      0.034    103.431      0.000       3.483       3.618\n",
            "idade               0.0146      0.015      0.980      0.328      -0.015       0.044\n",
            "dcron               0.0231      0.004      5.360      0.000       0.015       0.032\n",
            "renda              -0.0136      0.015     -0.924      0.357      -0.043       0.015\n",
            "plano_esmeralda    -0.0820      0.013     -6.494      0.000      -0.107      -0.057\n",
            "plano_ouro         -0.1791      0.016    -10.944      0.000      -0.211      -0.147\n",
            "==============================================================================\n",
            "Omnibus:                        3.284   Durbin-Watson:                   1.828\n",
            "Prob(Omnibus):                  0.194   Jarque-Bera (JB):                2.871\n",
            "Skew:                          -0.246   Prob(JB):                        0.238\n",
            "Kurtosis:                       3.319   Cond. No.                         964.\n",
            "==============================================================================\n",
            "\n",
            "Notes:\n",
            "[1] Standard Errors assume that the covariance matrix of the errors is correctly specified.\n"
          ],
          "name": "stdout"
        }
      ]
    },
    {
      "cell_type": "markdown",
      "metadata": {
        "id": "k3SZK78mog_e"
      },
      "source": [
        "Ao que parece, essas variáveis novamente não se encaixam no modelo. \n",
        "Vamos validar isso com o procedimento stepwise, porém agora com box-cox."
      ]
    },
    {
      "cell_type": "markdown",
      "metadata": {
        "id": "WFku4Qp0k3-0"
      },
      "source": [
        "###Aplicando o procedimento Stepwise"
      ]
    },
    {
      "cell_type": "markdown",
      "metadata": {
        "id": "zb4uQmXqo4Bd"
      },
      "source": [
        "Vamos separar nossas variáveis e rodar o método stepwise novamente."
      ]
    },
    {
      "cell_type": "code",
      "metadata": {
        "colab": {
          "base_uri": "https://localhost:8080/",
          "height": 34
        },
        "id": "GxPcbVPactuH",
        "outputId": "4b6a7c41-7be3-424c-9627-66e09feba68d"
      },
      "source": [
        "X = montar_formula(planosaude_dummies, ['despmed','id'], 'bcdespmed', True)\n",
        "y = planosaude_dummies['bcdespmed']\n",
        "step(X,y)"
      ],
      "execution_count": 553,
      "outputs": [
        {
          "output_type": "display_data",
          "data": {
            "application/javascript": [
              "\n",
              "        if (window._pyforest_update_imports_cell) { window._pyforest_update_imports_cell('import pickle\\nimport bokeh\\nfrom sklearn.linear_model import LinearRegression\\nfrom sklearn import metrics\\nfrom sklearn.linear_model import RidgeCV\\nfrom sklearn.preprocessing import MinMaxScaler\\nimport glob\\nimport plotly as py\\nimport statsmodels.api as sm\\nfrom sklearn.linear_model import Ridge\\nimport tqdm\\nimport torch\\nimport statistics\\nfrom sklearn.ensemble import RandomForestClassifier\\nfrom sklearn.decomposition import PCA\\nfrom pathlib import Path\\nimport skimage\\nimport gensim\\nimport fastai\\nimport plotly.graph_objs as go\\nimport altair as alt\\nimport imutils\\nimport tensorflow as tf\\nimport sklearn\\nfrom sklearn.preprocessing import OneHotEncoder\\nfrom sklearn.preprocessing import RobustScaler\\nfrom sklearn.model_selection import cross_val_score\\nfrom sklearn.linear_model import LassoCV\\nfrom sklearn.preprocessing import LabelEncoder\\nfrom sklearn.linear_model import LogisticRegression\\nfrom sklearn.manifold import TSNE\\nimport spacy\\nimport pydot\\nimport matplotlib.pyplot as plt\\nfrom PIL import Image\\nimport fbprophet\\nfrom sklearn.feature_extraction.text import CountVectorizer\\nfrom openpyxl import load_workbook\\nfrom sklearn.linear_model import ElasticNetCV\\nimport plotly.express as px\\nimport cv2\\nfrom sklearn.impute import SimpleImputer\\nfrom sklearn.feature_extraction.text import TfidfVectorizer\\nimport re\\nfrom statsmodels.tsa.arima_model import ARIMA\\nfrom sklearn.model_selection import RandomizedSearchCV\\nimport textblob\\nfrom sklearn.linear_model import ElasticNet\\nimport os\\nimport seaborn as sns\\nfrom xlrd import open_workbook\\nfrom fbprophet import Prophet\\nimport pandas as pd\\nfrom sklearn.linear_model import Lasso\\nfrom sklearn.preprocessing import PolynomialFeatures\\nimport nltk\\nfrom sklearn.model_selection import train_test_split\\nimport lightgbm as lgb\\nfrom scipy import stats\\nimport matplotlib as mpl\\nfrom sklearn.ensemble import RandomForestRegressor\\nimport xgboost as xgb'); }\n",
              "    "
            ],
            "text/plain": [
              "<IPython.core.display.Javascript object>"
            ]
          },
          "metadata": {
            "tags": []
          }
        },
        {
          "output_type": "display_data",
          "data": {
            "application/javascript": [
              "\n",
              "        if (window._pyforest_update_imports_cell) { window._pyforest_update_imports_cell('import pickle\\nimport bokeh\\nfrom sklearn.linear_model import LinearRegression\\nfrom sklearn import metrics\\nfrom sklearn.linear_model import RidgeCV\\nfrom sklearn.preprocessing import MinMaxScaler\\nimport glob\\nimport plotly as py\\nimport statsmodels.api as sm\\nfrom sklearn.linear_model import Ridge\\nimport tqdm\\nimport torch\\nimport statistics\\nfrom sklearn.ensemble import RandomForestClassifier\\nfrom sklearn.decomposition import PCA\\nfrom pathlib import Path\\nimport skimage\\nimport gensim\\nimport fastai\\nimport plotly.graph_objs as go\\nimport altair as alt\\nimport imutils\\nimport tensorflow as tf\\nimport sklearn\\nfrom sklearn.preprocessing import OneHotEncoder\\nfrom sklearn.preprocessing import RobustScaler\\nfrom sklearn.model_selection import cross_val_score\\nfrom sklearn.linear_model import LassoCV\\nfrom sklearn.preprocessing import LabelEncoder\\nfrom sklearn.linear_model import LogisticRegression\\nfrom sklearn.manifold import TSNE\\nimport spacy\\nimport pydot\\nimport matplotlib.pyplot as plt\\nfrom PIL import Image\\nimport fbprophet\\nfrom sklearn.feature_extraction.text import CountVectorizer\\nfrom openpyxl import load_workbook\\nfrom sklearn.linear_model import ElasticNetCV\\nimport plotly.express as px\\nimport cv2\\nfrom sklearn.impute import SimpleImputer\\nfrom sklearn.feature_extraction.text import TfidfVectorizer\\nimport re\\nfrom statsmodels.tsa.arima_model import ARIMA\\nfrom sklearn.model_selection import RandomizedSearchCV\\nimport textblob\\nfrom sklearn.linear_model import ElasticNet\\nimport os\\nimport seaborn as sns\\nfrom xlrd import open_workbook\\nfrom fbprophet import Prophet\\nimport pandas as pd\\nfrom sklearn.linear_model import Lasso\\nfrom sklearn.preprocessing import PolynomialFeatures\\nimport nltk\\nfrom sklearn.model_selection import train_test_split\\nimport lightgbm as lgb\\nfrom scipy import stats\\nimport matplotlib as mpl\\nfrom sklearn.ensemble import RandomForestRegressor\\nimport xgboost as xgb'); }\n",
              "    "
            ],
            "text/plain": [
              "<IPython.core.display.Javascript object>"
            ]
          },
          "metadata": {
            "tags": []
          }
        },
        {
          "output_type": "display_data",
          "data": {
            "application/javascript": [
              "\n",
              "        if (window._pyforest_update_imports_cell) { window._pyforest_update_imports_cell('import pickle\\nimport bokeh\\nfrom sklearn.linear_model import LinearRegression\\nfrom sklearn import metrics\\nfrom sklearn.linear_model import RidgeCV\\nfrom sklearn.preprocessing import MinMaxScaler\\nimport glob\\nimport plotly as py\\nimport statsmodels.api as sm\\nfrom sklearn.linear_model import Ridge\\nimport tqdm\\nimport torch\\nimport statistics\\nfrom sklearn.ensemble import RandomForestClassifier\\nfrom sklearn.decomposition import PCA\\nfrom pathlib import Path\\nimport skimage\\nimport gensim\\nimport fastai\\nimport plotly.graph_objs as go\\nimport altair as alt\\nimport imutils\\nimport tensorflow as tf\\nimport sklearn\\nfrom sklearn.preprocessing import OneHotEncoder\\nfrom sklearn.preprocessing import RobustScaler\\nfrom sklearn.model_selection import cross_val_score\\nfrom sklearn.linear_model import LassoCV\\nfrom sklearn.preprocessing import LabelEncoder\\nfrom sklearn.linear_model import LogisticRegression\\nfrom sklearn.manifold import TSNE\\nimport spacy\\nimport pydot\\nimport matplotlib.pyplot as plt\\nfrom PIL import Image\\nimport fbprophet\\nfrom sklearn.feature_extraction.text import CountVectorizer\\nfrom openpyxl import load_workbook\\nfrom sklearn.linear_model import ElasticNetCV\\nimport plotly.express as px\\nimport cv2\\nfrom sklearn.impute import SimpleImputer\\nfrom sklearn.feature_extraction.text import TfidfVectorizer\\nimport re\\nfrom statsmodels.tsa.arima_model import ARIMA\\nfrom sklearn.model_selection import RandomizedSearchCV\\nimport textblob\\nfrom sklearn.linear_model import ElasticNet\\nimport os\\nimport seaborn as sns\\nfrom xlrd import open_workbook\\nfrom fbprophet import Prophet\\nimport pandas as pd\\nfrom sklearn.linear_model import Lasso\\nfrom sklearn.preprocessing import PolynomialFeatures\\nimport nltk\\nfrom sklearn.model_selection import train_test_split\\nimport lightgbm as lgb\\nfrom scipy import stats\\nimport matplotlib as mpl\\nfrom sklearn.ensemble import RandomForestRegressor\\nimport xgboost as xgb'); }\n",
              "    "
            ],
            "text/plain": [
              "<IPython.core.display.Javascript object>"
            ]
          },
          "metadata": {
            "tags": []
          }
        },
        {
          "output_type": "display_data",
          "data": {
            "application/javascript": [
              "\n",
              "        if (window._pyforest_update_imports_cell) { window._pyforest_update_imports_cell('import pickle\\nimport bokeh\\nfrom sklearn.linear_model import LinearRegression\\nfrom sklearn import metrics\\nfrom sklearn.linear_model import RidgeCV\\nfrom sklearn.preprocessing import MinMaxScaler\\nimport glob\\nimport plotly as py\\nimport statsmodels.api as sm\\nfrom sklearn.linear_model import Ridge\\nimport tqdm\\nimport torch\\nimport statistics\\nfrom sklearn.ensemble import RandomForestClassifier\\nfrom sklearn.decomposition import PCA\\nfrom pathlib import Path\\nimport skimage\\nimport gensim\\nimport fastai\\nimport plotly.graph_objs as go\\nimport altair as alt\\nimport imutils\\nimport tensorflow as tf\\nimport sklearn\\nfrom sklearn.preprocessing import OneHotEncoder\\nfrom sklearn.preprocessing import RobustScaler\\nfrom sklearn.model_selection import cross_val_score\\nfrom sklearn.linear_model import LassoCV\\nfrom sklearn.preprocessing import LabelEncoder\\nfrom sklearn.linear_model import LogisticRegression\\nfrom sklearn.manifold import TSNE\\nimport spacy\\nimport pydot\\nimport matplotlib.pyplot as plt\\nfrom PIL import Image\\nimport fbprophet\\nfrom sklearn.feature_extraction.text import CountVectorizer\\nfrom openpyxl import load_workbook\\nfrom sklearn.linear_model import ElasticNetCV\\nimport plotly.express as px\\nimport cv2\\nfrom sklearn.impute import SimpleImputer\\nfrom sklearn.feature_extraction.text import TfidfVectorizer\\nimport re\\nfrom statsmodels.tsa.arima_model import ARIMA\\nfrom sklearn.model_selection import RandomizedSearchCV\\nimport textblob\\nfrom sklearn.linear_model import ElasticNet\\nimport os\\nimport seaborn as sns\\nfrom xlrd import open_workbook\\nfrom fbprophet import Prophet\\nimport pandas as pd\\nfrom sklearn.linear_model import Lasso\\nfrom sklearn.preprocessing import PolynomialFeatures\\nimport nltk\\nfrom sklearn.model_selection import train_test_split\\nimport lightgbm as lgb\\nfrom scipy import stats\\nimport matplotlib as mpl\\nfrom sklearn.ensemble import RandomForestRegressor\\nimport xgboost as xgb'); }\n",
              "    "
            ],
            "text/plain": [
              "<IPython.core.display.Javascript object>"
            ]
          },
          "metadata": {
            "tags": []
          }
        },
        {
          "output_type": "display_data",
          "data": {
            "application/javascript": [
              "\n",
              "        if (window._pyforest_update_imports_cell) { window._pyforest_update_imports_cell('import pickle\\nimport bokeh\\nfrom sklearn.linear_model import LinearRegression\\nfrom sklearn import metrics\\nfrom sklearn.linear_model import RidgeCV\\nfrom sklearn.preprocessing import MinMaxScaler\\nimport glob\\nimport plotly as py\\nimport statsmodels.api as sm\\nfrom sklearn.linear_model import Ridge\\nimport tqdm\\nimport torch\\nimport statistics\\nfrom sklearn.ensemble import RandomForestClassifier\\nfrom sklearn.decomposition import PCA\\nfrom pathlib import Path\\nimport skimage\\nimport gensim\\nimport fastai\\nimport plotly.graph_objs as go\\nimport altair as alt\\nimport imutils\\nimport tensorflow as tf\\nimport sklearn\\nfrom sklearn.preprocessing import OneHotEncoder\\nfrom sklearn.preprocessing import RobustScaler\\nfrom sklearn.model_selection import cross_val_score\\nfrom sklearn.linear_model import LassoCV\\nfrom sklearn.preprocessing import LabelEncoder\\nfrom sklearn.linear_model import LogisticRegression\\nfrom sklearn.manifold import TSNE\\nimport spacy\\nimport pydot\\nimport matplotlib.pyplot as plt\\nfrom PIL import Image\\nimport fbprophet\\nfrom sklearn.feature_extraction.text import CountVectorizer\\nfrom openpyxl import load_workbook\\nfrom sklearn.linear_model import ElasticNetCV\\nimport plotly.express as px\\nimport cv2\\nfrom sklearn.impute import SimpleImputer\\nfrom sklearn.feature_extraction.text import TfidfVectorizer\\nimport re\\nfrom statsmodels.tsa.arima_model import ARIMA\\nfrom sklearn.model_selection import RandomizedSearchCV\\nimport textblob\\nfrom sklearn.linear_model import ElasticNet\\nimport os\\nimport seaborn as sns\\nfrom xlrd import open_workbook\\nfrom fbprophet import Prophet\\nimport pandas as pd\\nfrom sklearn.linear_model import Lasso\\nfrom sklearn.preprocessing import PolynomialFeatures\\nimport nltk\\nfrom sklearn.model_selection import train_test_split\\nimport lightgbm as lgb\\nfrom scipy import stats\\nimport matplotlib as mpl\\nfrom sklearn.ensemble import RandomForestRegressor\\nimport xgboost as xgb'); }\n",
              "    "
            ],
            "text/plain": [
              "<IPython.core.display.Javascript object>"
            ]
          },
          "metadata": {
            "tags": []
          }
        },
        {
          "output_type": "display_data",
          "data": {
            "application/javascript": [
              "\n",
              "        if (window._pyforest_update_imports_cell) { window._pyforest_update_imports_cell('import pickle\\nimport bokeh\\nfrom sklearn.linear_model import LinearRegression\\nfrom sklearn import metrics\\nfrom sklearn.linear_model import RidgeCV\\nfrom sklearn.preprocessing import MinMaxScaler\\nimport glob\\nimport plotly as py\\nimport statsmodels.api as sm\\nfrom sklearn.linear_model import Ridge\\nimport tqdm\\nimport torch\\nimport statistics\\nfrom sklearn.ensemble import RandomForestClassifier\\nfrom sklearn.decomposition import PCA\\nfrom pathlib import Path\\nimport skimage\\nimport gensim\\nimport fastai\\nimport plotly.graph_objs as go\\nimport altair as alt\\nimport imutils\\nimport tensorflow as tf\\nimport sklearn\\nfrom sklearn.preprocessing import OneHotEncoder\\nfrom sklearn.preprocessing import RobustScaler\\nfrom sklearn.model_selection import cross_val_score\\nfrom sklearn.linear_model import LassoCV\\nfrom sklearn.preprocessing import LabelEncoder\\nfrom sklearn.linear_model import LogisticRegression\\nfrom sklearn.manifold import TSNE\\nimport spacy\\nimport pydot\\nimport matplotlib.pyplot as plt\\nfrom PIL import Image\\nimport fbprophet\\nfrom sklearn.feature_extraction.text import CountVectorizer\\nfrom openpyxl import load_workbook\\nfrom sklearn.linear_model import ElasticNetCV\\nimport plotly.express as px\\nimport cv2\\nfrom sklearn.impute import SimpleImputer\\nfrom sklearn.feature_extraction.text import TfidfVectorizer\\nimport re\\nfrom statsmodels.tsa.arima_model import ARIMA\\nfrom sklearn.model_selection import RandomizedSearchCV\\nimport textblob\\nfrom sklearn.linear_model import ElasticNet\\nimport os\\nimport seaborn as sns\\nfrom xlrd import open_workbook\\nfrom fbprophet import Prophet\\nimport pandas as pd\\nfrom sklearn.linear_model import Lasso\\nfrom sklearn.preprocessing import PolynomialFeatures\\nimport nltk\\nfrom sklearn.model_selection import train_test_split\\nimport lightgbm as lgb\\nfrom scipy import stats\\nimport matplotlib as mpl\\nfrom sklearn.ensemble import RandomForestRegressor\\nimport xgboost as xgb'); }\n",
              "    "
            ],
            "text/plain": [
              "<IPython.core.display.Javascript object>"
            ]
          },
          "metadata": {
            "tags": []
          }
        },
        {
          "output_type": "display_data",
          "data": {
            "application/javascript": [
              "\n",
              "        if (window._pyforest_update_imports_cell) { window._pyforest_update_imports_cell('import pickle\\nimport bokeh\\nfrom sklearn.linear_model import LinearRegression\\nfrom sklearn import metrics\\nfrom sklearn.linear_model import RidgeCV\\nfrom sklearn.preprocessing import MinMaxScaler\\nimport glob\\nimport plotly as py\\nimport statsmodels.api as sm\\nfrom sklearn.linear_model import Ridge\\nimport tqdm\\nimport torch\\nimport statistics\\nfrom sklearn.ensemble import RandomForestClassifier\\nfrom sklearn.decomposition import PCA\\nfrom pathlib import Path\\nimport skimage\\nimport gensim\\nimport fastai\\nimport plotly.graph_objs as go\\nimport altair as alt\\nimport imutils\\nimport tensorflow as tf\\nimport sklearn\\nfrom sklearn.preprocessing import OneHotEncoder\\nfrom sklearn.preprocessing import RobustScaler\\nfrom sklearn.model_selection import cross_val_score\\nfrom sklearn.linear_model import LassoCV\\nfrom sklearn.preprocessing import LabelEncoder\\nfrom sklearn.linear_model import LogisticRegression\\nfrom sklearn.manifold import TSNE\\nimport spacy\\nimport pydot\\nimport matplotlib.pyplot as plt\\nfrom PIL import Image\\nimport fbprophet\\nfrom sklearn.feature_extraction.text import CountVectorizer\\nfrom openpyxl import load_workbook\\nfrom sklearn.linear_model import ElasticNetCV\\nimport plotly.express as px\\nimport cv2\\nfrom sklearn.impute import SimpleImputer\\nfrom sklearn.feature_extraction.text import TfidfVectorizer\\nimport re\\nfrom statsmodels.tsa.arima_model import ARIMA\\nfrom sklearn.model_selection import RandomizedSearchCV\\nimport textblob\\nfrom sklearn.linear_model import ElasticNet\\nimport os\\nimport seaborn as sns\\nfrom xlrd import open_workbook\\nfrom fbprophet import Prophet\\nimport pandas as pd\\nfrom sklearn.linear_model import Lasso\\nfrom sklearn.preprocessing import PolynomialFeatures\\nimport nltk\\nfrom sklearn.model_selection import train_test_split\\nimport lightgbm as lgb\\nfrom scipy import stats\\nimport matplotlib as mpl\\nfrom sklearn.ensemble import RandomForestRegressor\\nimport xgboost as xgb'); }\n",
              "    "
            ],
            "text/plain": [
              "<IPython.core.display.Javascript object>"
            ]
          },
          "metadata": {
            "tags": []
          }
        },
        {
          "output_type": "display_data",
          "data": {
            "application/javascript": [
              "\n",
              "        if (window._pyforest_update_imports_cell) { window._pyforest_update_imports_cell('import pickle\\nimport bokeh\\nfrom sklearn.linear_model import LinearRegression\\nfrom sklearn import metrics\\nfrom sklearn.linear_model import RidgeCV\\nfrom sklearn.preprocessing import MinMaxScaler\\nimport glob\\nimport plotly as py\\nimport statsmodels.api as sm\\nfrom sklearn.linear_model import Ridge\\nimport tqdm\\nimport torch\\nimport statistics\\nfrom sklearn.ensemble import RandomForestClassifier\\nfrom sklearn.decomposition import PCA\\nfrom pathlib import Path\\nimport skimage\\nimport gensim\\nimport fastai\\nimport plotly.graph_objs as go\\nimport altair as alt\\nimport imutils\\nimport tensorflow as tf\\nimport sklearn\\nfrom sklearn.preprocessing import OneHotEncoder\\nfrom sklearn.preprocessing import RobustScaler\\nfrom sklearn.model_selection import cross_val_score\\nfrom sklearn.linear_model import LassoCV\\nfrom sklearn.preprocessing import LabelEncoder\\nfrom sklearn.linear_model import LogisticRegression\\nfrom sklearn.manifold import TSNE\\nimport spacy\\nimport pydot\\nimport matplotlib.pyplot as plt\\nfrom PIL import Image\\nimport fbprophet\\nfrom sklearn.feature_extraction.text import CountVectorizer\\nfrom openpyxl import load_workbook\\nfrom sklearn.linear_model import ElasticNetCV\\nimport plotly.express as px\\nimport cv2\\nfrom sklearn.impute import SimpleImputer\\nfrom sklearn.feature_extraction.text import TfidfVectorizer\\nimport re\\nfrom statsmodels.tsa.arima_model import ARIMA\\nfrom sklearn.model_selection import RandomizedSearchCV\\nimport textblob\\nfrom sklearn.linear_model import ElasticNet\\nimport os\\nimport seaborn as sns\\nfrom xlrd import open_workbook\\nfrom fbprophet import Prophet\\nimport pandas as pd\\nfrom sklearn.linear_model import Lasso\\nfrom sklearn.preprocessing import PolynomialFeatures\\nimport nltk\\nfrom sklearn.model_selection import train_test_split\\nimport lightgbm as lgb\\nfrom scipy import stats\\nimport matplotlib as mpl\\nfrom sklearn.ensemble import RandomForestRegressor\\nimport xgboost as xgb'); }\n",
              "    "
            ],
            "text/plain": [
              "<IPython.core.display.Javascript object>"
            ]
          },
          "metadata": {
            "tags": []
          }
        },
        {
          "output_type": "display_data",
          "data": {
            "application/javascript": [
              "\n",
              "        if (window._pyforest_update_imports_cell) { window._pyforest_update_imports_cell('import pickle\\nimport bokeh\\nfrom sklearn.linear_model import LinearRegression\\nfrom sklearn import metrics\\nfrom sklearn.linear_model import RidgeCV\\nfrom sklearn.preprocessing import MinMaxScaler\\nimport glob\\nimport plotly as py\\nimport statsmodels.api as sm\\nfrom sklearn.linear_model import Ridge\\nimport tqdm\\nimport torch\\nimport statistics\\nfrom sklearn.ensemble import RandomForestClassifier\\nfrom sklearn.decomposition import PCA\\nfrom pathlib import Path\\nimport skimage\\nimport gensim\\nimport fastai\\nimport plotly.graph_objs as go\\nimport altair as alt\\nimport imutils\\nimport tensorflow as tf\\nimport sklearn\\nfrom sklearn.preprocessing import OneHotEncoder\\nfrom sklearn.preprocessing import RobustScaler\\nfrom sklearn.model_selection import cross_val_score\\nfrom sklearn.linear_model import LassoCV\\nfrom sklearn.preprocessing import LabelEncoder\\nfrom sklearn.linear_model import LogisticRegression\\nfrom sklearn.manifold import TSNE\\nimport spacy\\nimport pydot\\nimport matplotlib.pyplot as plt\\nfrom PIL import Image\\nimport fbprophet\\nfrom sklearn.feature_extraction.text import CountVectorizer\\nfrom openpyxl import load_workbook\\nfrom sklearn.linear_model import ElasticNetCV\\nimport plotly.express as px\\nimport cv2\\nfrom sklearn.impute import SimpleImputer\\nfrom sklearn.feature_extraction.text import TfidfVectorizer\\nimport re\\nfrom statsmodels.tsa.arima_model import ARIMA\\nfrom sklearn.model_selection import RandomizedSearchCV\\nimport textblob\\nfrom sklearn.linear_model import ElasticNet\\nimport os\\nimport seaborn as sns\\nfrom xlrd import open_workbook\\nfrom fbprophet import Prophet\\nimport pandas as pd\\nfrom sklearn.linear_model import Lasso\\nfrom sklearn.preprocessing import PolynomialFeatures\\nimport nltk\\nfrom sklearn.model_selection import train_test_split\\nimport lightgbm as lgb\\nfrom scipy import stats\\nimport matplotlib as mpl\\nfrom sklearn.ensemble import RandomForestRegressor\\nimport xgboost as xgb'); }\n",
              "    "
            ],
            "text/plain": [
              "<IPython.core.display.Javascript object>"
            ]
          },
          "metadata": {
            "tags": []
          }
        },
        {
          "output_type": "display_data",
          "data": {
            "application/javascript": [
              "\n",
              "        if (window._pyforest_update_imports_cell) { window._pyforest_update_imports_cell('import pickle\\nimport bokeh\\nfrom sklearn.linear_model import LinearRegression\\nfrom sklearn import metrics\\nfrom sklearn.linear_model import RidgeCV\\nfrom sklearn.preprocessing import MinMaxScaler\\nimport glob\\nimport plotly as py\\nimport statsmodels.api as sm\\nfrom sklearn.linear_model import Ridge\\nimport tqdm\\nimport torch\\nimport statistics\\nfrom sklearn.ensemble import RandomForestClassifier\\nfrom sklearn.decomposition import PCA\\nfrom pathlib import Path\\nimport skimage\\nimport gensim\\nimport fastai\\nimport plotly.graph_objs as go\\nimport altair as alt\\nimport imutils\\nimport tensorflow as tf\\nimport sklearn\\nfrom sklearn.preprocessing import OneHotEncoder\\nfrom sklearn.preprocessing import RobustScaler\\nfrom sklearn.model_selection import cross_val_score\\nfrom sklearn.linear_model import LassoCV\\nfrom sklearn.preprocessing import LabelEncoder\\nfrom sklearn.linear_model import LogisticRegression\\nfrom sklearn.manifold import TSNE\\nimport spacy\\nimport pydot\\nimport matplotlib.pyplot as plt\\nfrom PIL import Image\\nimport fbprophet\\nfrom sklearn.feature_extraction.text import CountVectorizer\\nfrom openpyxl import load_workbook\\nfrom sklearn.linear_model import ElasticNetCV\\nimport plotly.express as px\\nimport cv2\\nfrom sklearn.impute import SimpleImputer\\nfrom sklearn.feature_extraction.text import TfidfVectorizer\\nimport re\\nfrom statsmodels.tsa.arima_model import ARIMA\\nfrom sklearn.model_selection import RandomizedSearchCV\\nimport textblob\\nfrom sklearn.linear_model import ElasticNet\\nimport os\\nimport seaborn as sns\\nfrom xlrd import open_workbook\\nfrom fbprophet import Prophet\\nimport pandas as pd\\nfrom sklearn.linear_model import Lasso\\nfrom sklearn.preprocessing import PolynomialFeatures\\nimport nltk\\nfrom sklearn.model_selection import train_test_split\\nimport lightgbm as lgb\\nfrom scipy import stats\\nimport matplotlib as mpl\\nfrom sklearn.ensemble import RandomForestRegressor\\nimport xgboost as xgb'); }\n",
              "    "
            ],
            "text/plain": [
              "<IPython.core.display.Javascript object>"
            ]
          },
          "metadata": {
            "tags": []
          }
        },
        {
          "output_type": "display_data",
          "data": {
            "application/javascript": [
              "\n",
              "        if (window._pyforest_update_imports_cell) { window._pyforest_update_imports_cell('import pickle\\nimport bokeh\\nfrom sklearn.linear_model import LinearRegression\\nfrom sklearn import metrics\\nfrom sklearn.linear_model import RidgeCV\\nfrom sklearn.preprocessing import MinMaxScaler\\nimport glob\\nimport plotly as py\\nimport statsmodels.api as sm\\nfrom sklearn.linear_model import Ridge\\nimport tqdm\\nimport torch\\nimport statistics\\nfrom sklearn.ensemble import RandomForestClassifier\\nfrom sklearn.decomposition import PCA\\nfrom pathlib import Path\\nimport skimage\\nimport gensim\\nimport fastai\\nimport plotly.graph_objs as go\\nimport altair as alt\\nimport imutils\\nimport tensorflow as tf\\nimport sklearn\\nfrom sklearn.preprocessing import OneHotEncoder\\nfrom sklearn.preprocessing import RobustScaler\\nfrom sklearn.model_selection import cross_val_score\\nfrom sklearn.linear_model import LassoCV\\nfrom sklearn.preprocessing import LabelEncoder\\nfrom sklearn.linear_model import LogisticRegression\\nfrom sklearn.manifold import TSNE\\nimport spacy\\nimport pydot\\nimport matplotlib.pyplot as plt\\nfrom PIL import Image\\nimport fbprophet\\nfrom sklearn.feature_extraction.text import CountVectorizer\\nfrom openpyxl import load_workbook\\nfrom sklearn.linear_model import ElasticNetCV\\nimport plotly.express as px\\nimport cv2\\nfrom sklearn.impute import SimpleImputer\\nfrom sklearn.feature_extraction.text import TfidfVectorizer\\nimport re\\nfrom statsmodels.tsa.arima_model import ARIMA\\nfrom sklearn.model_selection import RandomizedSearchCV\\nimport textblob\\nfrom sklearn.linear_model import ElasticNet\\nimport os\\nimport seaborn as sns\\nfrom xlrd import open_workbook\\nfrom fbprophet import Prophet\\nimport pandas as pd\\nfrom sklearn.linear_model import Lasso\\nfrom sklearn.preprocessing import PolynomialFeatures\\nimport nltk\\nfrom sklearn.model_selection import train_test_split\\nimport lightgbm as lgb\\nfrom scipy import stats\\nimport matplotlib as mpl\\nfrom sklearn.ensemble import RandomForestRegressor\\nimport xgboost as xgb'); }\n",
              "    "
            ],
            "text/plain": [
              "<IPython.core.display.Javascript object>"
            ]
          },
          "metadata": {
            "tags": []
          }
        },
        {
          "output_type": "display_data",
          "data": {
            "application/javascript": [
              "\n",
              "        if (window._pyforest_update_imports_cell) { window._pyforest_update_imports_cell('import pickle\\nimport bokeh\\nfrom sklearn.linear_model import LinearRegression\\nfrom sklearn import metrics\\nfrom sklearn.linear_model import RidgeCV\\nfrom sklearn.preprocessing import MinMaxScaler\\nimport glob\\nimport plotly as py\\nimport statsmodels.api as sm\\nfrom sklearn.linear_model import Ridge\\nimport tqdm\\nimport torch\\nimport statistics\\nfrom sklearn.ensemble import RandomForestClassifier\\nfrom sklearn.decomposition import PCA\\nfrom pathlib import Path\\nimport skimage\\nimport gensim\\nimport fastai\\nimport plotly.graph_objs as go\\nimport altair as alt\\nimport imutils\\nimport tensorflow as tf\\nimport sklearn\\nfrom sklearn.preprocessing import OneHotEncoder\\nfrom sklearn.preprocessing import RobustScaler\\nfrom sklearn.model_selection import cross_val_score\\nfrom sklearn.linear_model import LassoCV\\nfrom sklearn.preprocessing import LabelEncoder\\nfrom sklearn.linear_model import LogisticRegression\\nfrom sklearn.manifold import TSNE\\nimport spacy\\nimport pydot\\nimport matplotlib.pyplot as plt\\nfrom PIL import Image\\nimport fbprophet\\nfrom sklearn.feature_extraction.text import CountVectorizer\\nfrom openpyxl import load_workbook\\nfrom sklearn.linear_model import ElasticNetCV\\nimport plotly.express as px\\nimport cv2\\nfrom sklearn.impute import SimpleImputer\\nfrom sklearn.feature_extraction.text import TfidfVectorizer\\nimport re\\nfrom statsmodels.tsa.arima_model import ARIMA\\nfrom sklearn.model_selection import RandomizedSearchCV\\nimport textblob\\nfrom sklearn.linear_model import ElasticNet\\nimport os\\nimport seaborn as sns\\nfrom xlrd import open_workbook\\nfrom fbprophet import Prophet\\nimport pandas as pd\\nfrom sklearn.linear_model import Lasso\\nfrom sklearn.preprocessing import PolynomialFeatures\\nimport nltk\\nfrom sklearn.model_selection import train_test_split\\nimport lightgbm as lgb\\nfrom scipy import stats\\nimport matplotlib as mpl\\nfrom sklearn.ensemble import RandomForestRegressor\\nimport xgboost as xgb'); }\n",
              "    "
            ],
            "text/plain": [
              "<IPython.core.display.Javascript object>"
            ]
          },
          "metadata": {
            "tags": []
          }
        },
        {
          "output_type": "display_data",
          "data": {
            "application/javascript": [
              "\n",
              "        if (window._pyforest_update_imports_cell) { window._pyforest_update_imports_cell('import pickle\\nimport bokeh\\nfrom sklearn.linear_model import LinearRegression\\nfrom sklearn import metrics\\nfrom sklearn.linear_model import RidgeCV\\nfrom sklearn.preprocessing import MinMaxScaler\\nimport glob\\nimport plotly as py\\nimport statsmodels.api as sm\\nfrom sklearn.linear_model import Ridge\\nimport tqdm\\nimport torch\\nimport statistics\\nfrom sklearn.ensemble import RandomForestClassifier\\nfrom sklearn.decomposition import PCA\\nfrom pathlib import Path\\nimport skimage\\nimport gensim\\nimport fastai\\nimport plotly.graph_objs as go\\nimport altair as alt\\nimport imutils\\nimport tensorflow as tf\\nimport sklearn\\nfrom sklearn.preprocessing import OneHotEncoder\\nfrom sklearn.preprocessing import RobustScaler\\nfrom sklearn.model_selection import cross_val_score\\nfrom sklearn.linear_model import LassoCV\\nfrom sklearn.preprocessing import LabelEncoder\\nfrom sklearn.linear_model import LogisticRegression\\nfrom sklearn.manifold import TSNE\\nimport spacy\\nimport pydot\\nimport matplotlib.pyplot as plt\\nfrom PIL import Image\\nimport fbprophet\\nfrom sklearn.feature_extraction.text import CountVectorizer\\nfrom openpyxl import load_workbook\\nfrom sklearn.linear_model import ElasticNetCV\\nimport plotly.express as px\\nimport cv2\\nfrom sklearn.impute import SimpleImputer\\nfrom sklearn.feature_extraction.text import TfidfVectorizer\\nimport re\\nfrom statsmodels.tsa.arima_model import ARIMA\\nfrom sklearn.model_selection import RandomizedSearchCV\\nimport textblob\\nfrom sklearn.linear_model import ElasticNet\\nimport os\\nimport seaborn as sns\\nfrom xlrd import open_workbook\\nfrom fbprophet import Prophet\\nimport pandas as pd\\nfrom sklearn.linear_model import Lasso\\nfrom sklearn.preprocessing import PolynomialFeatures\\nimport nltk\\nfrom sklearn.model_selection import train_test_split\\nimport lightgbm as lgb\\nfrom scipy import stats\\nimport matplotlib as mpl\\nfrom sklearn.ensemble import RandomForestRegressor\\nimport xgboost as xgb'); }\n",
              "    "
            ],
            "text/plain": [
              "<IPython.core.display.Javascript object>"
            ]
          },
          "metadata": {
            "tags": []
          }
        },
        {
          "output_type": "display_data",
          "data": {
            "application/javascript": [
              "\n",
              "        if (window._pyforest_update_imports_cell) { window._pyforest_update_imports_cell('import pickle\\nimport bokeh\\nfrom sklearn.linear_model import LinearRegression\\nfrom sklearn import metrics\\nfrom sklearn.linear_model import RidgeCV\\nfrom sklearn.preprocessing import MinMaxScaler\\nimport glob\\nimport plotly as py\\nimport statsmodels.api as sm\\nfrom sklearn.linear_model import Ridge\\nimport tqdm\\nimport torch\\nimport statistics\\nfrom sklearn.ensemble import RandomForestClassifier\\nfrom sklearn.decomposition import PCA\\nfrom pathlib import Path\\nimport skimage\\nimport gensim\\nimport fastai\\nimport plotly.graph_objs as go\\nimport altair as alt\\nimport imutils\\nimport tensorflow as tf\\nimport sklearn\\nfrom sklearn.preprocessing import OneHotEncoder\\nfrom sklearn.preprocessing import RobustScaler\\nfrom sklearn.model_selection import cross_val_score\\nfrom sklearn.linear_model import LassoCV\\nfrom sklearn.preprocessing import LabelEncoder\\nfrom sklearn.linear_model import LogisticRegression\\nfrom sklearn.manifold import TSNE\\nimport spacy\\nimport pydot\\nimport matplotlib.pyplot as plt\\nfrom PIL import Image\\nimport fbprophet\\nfrom sklearn.feature_extraction.text import CountVectorizer\\nfrom openpyxl import load_workbook\\nfrom sklearn.linear_model import ElasticNetCV\\nimport plotly.express as px\\nimport cv2\\nfrom sklearn.impute import SimpleImputer\\nfrom sklearn.feature_extraction.text import TfidfVectorizer\\nimport re\\nfrom statsmodels.tsa.arima_model import ARIMA\\nfrom sklearn.model_selection import RandomizedSearchCV\\nimport textblob\\nfrom sklearn.linear_model import ElasticNet\\nimport os\\nimport seaborn as sns\\nfrom xlrd import open_workbook\\nfrom fbprophet import Prophet\\nimport pandas as pd\\nfrom sklearn.linear_model import Lasso\\nfrom sklearn.preprocessing import PolynomialFeatures\\nimport nltk\\nfrom sklearn.model_selection import train_test_split\\nimport lightgbm as lgb\\nfrom scipy import stats\\nimport matplotlib as mpl\\nfrom sklearn.ensemble import RandomForestRegressor\\nimport xgboost as xgb'); }\n",
              "    "
            ],
            "text/plain": [
              "<IPython.core.display.Javascript object>"
            ]
          },
          "metadata": {
            "tags": []
          }
        },
        {
          "output_type": "display_data",
          "data": {
            "application/javascript": [
              "\n",
              "        if (window._pyforest_update_imports_cell) { window._pyforest_update_imports_cell('import pickle\\nimport bokeh\\nfrom sklearn.linear_model import LinearRegression\\nfrom sklearn import metrics\\nfrom sklearn.linear_model import RidgeCV\\nfrom sklearn.preprocessing import MinMaxScaler\\nimport glob\\nimport plotly as py\\nimport statsmodels.api as sm\\nfrom sklearn.linear_model import Ridge\\nimport tqdm\\nimport torch\\nimport statistics\\nfrom sklearn.ensemble import RandomForestClassifier\\nfrom sklearn.decomposition import PCA\\nfrom pathlib import Path\\nimport skimage\\nimport gensim\\nimport fastai\\nimport plotly.graph_objs as go\\nimport altair as alt\\nimport imutils\\nimport tensorflow as tf\\nimport sklearn\\nfrom sklearn.preprocessing import OneHotEncoder\\nfrom sklearn.preprocessing import RobustScaler\\nfrom sklearn.model_selection import cross_val_score\\nfrom sklearn.linear_model import LassoCV\\nfrom sklearn.preprocessing import LabelEncoder\\nfrom sklearn.linear_model import LogisticRegression\\nfrom sklearn.manifold import TSNE\\nimport spacy\\nimport pydot\\nimport matplotlib.pyplot as plt\\nfrom PIL import Image\\nimport fbprophet\\nfrom sklearn.feature_extraction.text import CountVectorizer\\nfrom openpyxl import load_workbook\\nfrom sklearn.linear_model import ElasticNetCV\\nimport plotly.express as px\\nimport cv2\\nfrom sklearn.impute import SimpleImputer\\nfrom sklearn.feature_extraction.text import TfidfVectorizer\\nimport re\\nfrom statsmodels.tsa.arima_model import ARIMA\\nfrom sklearn.model_selection import RandomizedSearchCV\\nimport textblob\\nfrom sklearn.linear_model import ElasticNet\\nimport os\\nimport seaborn as sns\\nfrom xlrd import open_workbook\\nfrom fbprophet import Prophet\\nimport pandas as pd\\nfrom sklearn.linear_model import Lasso\\nfrom sklearn.preprocessing import PolynomialFeatures\\nimport nltk\\nfrom sklearn.model_selection import train_test_split\\nimport lightgbm as lgb\\nfrom scipy import stats\\nimport matplotlib as mpl\\nfrom sklearn.ensemble import RandomForestRegressor\\nimport xgboost as xgb'); }\n",
              "    "
            ],
            "text/plain": [
              "<IPython.core.display.Javascript object>"
            ]
          },
          "metadata": {
            "tags": []
          }
        },
        {
          "output_type": "display_data",
          "data": {
            "application/javascript": [
              "\n",
              "        if (window._pyforest_update_imports_cell) { window._pyforest_update_imports_cell('import pickle\\nimport bokeh\\nfrom sklearn.linear_model import LinearRegression\\nfrom sklearn import metrics\\nfrom sklearn.linear_model import RidgeCV\\nfrom sklearn.preprocessing import MinMaxScaler\\nimport glob\\nimport plotly as py\\nimport statsmodels.api as sm\\nfrom sklearn.linear_model import Ridge\\nimport tqdm\\nimport torch\\nimport statistics\\nfrom sklearn.ensemble import RandomForestClassifier\\nfrom sklearn.decomposition import PCA\\nfrom pathlib import Path\\nimport skimage\\nimport gensim\\nimport fastai\\nimport plotly.graph_objs as go\\nimport altair as alt\\nimport imutils\\nimport tensorflow as tf\\nimport sklearn\\nfrom sklearn.preprocessing import OneHotEncoder\\nfrom sklearn.preprocessing import RobustScaler\\nfrom sklearn.model_selection import cross_val_score\\nfrom sklearn.linear_model import LassoCV\\nfrom sklearn.preprocessing import LabelEncoder\\nfrom sklearn.linear_model import LogisticRegression\\nfrom sklearn.manifold import TSNE\\nimport spacy\\nimport pydot\\nimport matplotlib.pyplot as plt\\nfrom PIL import Image\\nimport fbprophet\\nfrom sklearn.feature_extraction.text import CountVectorizer\\nfrom openpyxl import load_workbook\\nfrom sklearn.linear_model import ElasticNetCV\\nimport plotly.express as px\\nimport cv2\\nfrom sklearn.impute import SimpleImputer\\nfrom sklearn.feature_extraction.text import TfidfVectorizer\\nimport re\\nfrom statsmodels.tsa.arima_model import ARIMA\\nfrom sklearn.model_selection import RandomizedSearchCV\\nimport textblob\\nfrom sklearn.linear_model import ElasticNet\\nimport os\\nimport seaborn as sns\\nfrom xlrd import open_workbook\\nfrom fbprophet import Prophet\\nimport pandas as pd\\nfrom sklearn.linear_model import Lasso\\nfrom sklearn.preprocessing import PolynomialFeatures\\nimport nltk\\nfrom sklearn.model_selection import train_test_split\\nimport lightgbm as lgb\\nfrom scipy import stats\\nimport matplotlib as mpl\\nfrom sklearn.ensemble import RandomForestRegressor\\nimport xgboost as xgb'); }\n",
              "    "
            ],
            "text/plain": [
              "<IPython.core.display.Javascript object>"
            ]
          },
          "metadata": {
            "tags": []
          }
        },
        {
          "output_type": "display_data",
          "data": {
            "application/javascript": [
              "\n",
              "        if (window._pyforest_update_imports_cell) { window._pyforest_update_imports_cell('import pickle\\nimport bokeh\\nfrom sklearn.linear_model import LinearRegression\\nfrom sklearn import metrics\\nfrom sklearn.linear_model import RidgeCV\\nfrom sklearn.preprocessing import MinMaxScaler\\nimport glob\\nimport plotly as py\\nimport statsmodels.api as sm\\nfrom sklearn.linear_model import Ridge\\nimport tqdm\\nimport torch\\nimport statistics\\nfrom sklearn.ensemble import RandomForestClassifier\\nfrom sklearn.decomposition import PCA\\nfrom pathlib import Path\\nimport skimage\\nimport gensim\\nimport fastai\\nimport plotly.graph_objs as go\\nimport altair as alt\\nimport imutils\\nimport tensorflow as tf\\nimport sklearn\\nfrom sklearn.preprocessing import OneHotEncoder\\nfrom sklearn.preprocessing import RobustScaler\\nfrom sklearn.model_selection import cross_val_score\\nfrom sklearn.linear_model import LassoCV\\nfrom sklearn.preprocessing import LabelEncoder\\nfrom sklearn.linear_model import LogisticRegression\\nfrom sklearn.manifold import TSNE\\nimport spacy\\nimport pydot\\nimport matplotlib.pyplot as plt\\nfrom PIL import Image\\nimport fbprophet\\nfrom sklearn.feature_extraction.text import CountVectorizer\\nfrom openpyxl import load_workbook\\nfrom sklearn.linear_model import ElasticNetCV\\nimport plotly.express as px\\nimport cv2\\nfrom sklearn.impute import SimpleImputer\\nfrom sklearn.feature_extraction.text import TfidfVectorizer\\nimport re\\nfrom statsmodels.tsa.arima_model import ARIMA\\nfrom sklearn.model_selection import RandomizedSearchCV\\nimport textblob\\nfrom sklearn.linear_model import ElasticNet\\nimport os\\nimport seaborn as sns\\nfrom xlrd import open_workbook\\nfrom fbprophet import Prophet\\nimport pandas as pd\\nfrom sklearn.linear_model import Lasso\\nfrom sklearn.preprocessing import PolynomialFeatures\\nimport nltk\\nfrom sklearn.model_selection import train_test_split\\nimport lightgbm as lgb\\nfrom scipy import stats\\nimport matplotlib as mpl\\nfrom sklearn.ensemble import RandomForestRegressor\\nimport xgboost as xgb'); }\n",
              "    "
            ],
            "text/plain": [
              "<IPython.core.display.Javascript object>"
            ]
          },
          "metadata": {
            "tags": []
          }
        },
        {
          "output_type": "display_data",
          "data": {
            "application/javascript": [
              "\n",
              "        if (window._pyforest_update_imports_cell) { window._pyforest_update_imports_cell('import pickle\\nimport bokeh\\nfrom sklearn.linear_model import LinearRegression\\nfrom sklearn import metrics\\nfrom sklearn.linear_model import RidgeCV\\nfrom sklearn.preprocessing import MinMaxScaler\\nimport glob\\nimport plotly as py\\nimport statsmodels.api as sm\\nfrom sklearn.linear_model import Ridge\\nimport tqdm\\nimport torch\\nimport statistics\\nfrom sklearn.ensemble import RandomForestClassifier\\nfrom sklearn.decomposition import PCA\\nfrom pathlib import Path\\nimport skimage\\nimport gensim\\nimport fastai\\nimport plotly.graph_objs as go\\nimport altair as alt\\nimport imutils\\nimport tensorflow as tf\\nimport sklearn\\nfrom sklearn.preprocessing import OneHotEncoder\\nfrom sklearn.preprocessing import RobustScaler\\nfrom sklearn.model_selection import cross_val_score\\nfrom sklearn.linear_model import LassoCV\\nfrom sklearn.preprocessing import LabelEncoder\\nfrom sklearn.linear_model import LogisticRegression\\nfrom sklearn.manifold import TSNE\\nimport spacy\\nimport pydot\\nimport matplotlib.pyplot as plt\\nfrom PIL import Image\\nimport fbprophet\\nfrom sklearn.feature_extraction.text import CountVectorizer\\nfrom openpyxl import load_workbook\\nfrom sklearn.linear_model import ElasticNetCV\\nimport plotly.express as px\\nimport cv2\\nfrom sklearn.impute import SimpleImputer\\nfrom sklearn.feature_extraction.text import TfidfVectorizer\\nimport re\\nfrom statsmodels.tsa.arima_model import ARIMA\\nfrom sklearn.model_selection import RandomizedSearchCV\\nimport textblob\\nfrom sklearn.linear_model import ElasticNet\\nimport os\\nimport seaborn as sns\\nfrom xlrd import open_workbook\\nfrom fbprophet import Prophet\\nimport pandas as pd\\nfrom sklearn.linear_model import Lasso\\nfrom sklearn.preprocessing import PolynomialFeatures\\nimport nltk\\nfrom sklearn.model_selection import train_test_split\\nimport lightgbm as lgb\\nfrom scipy import stats\\nimport matplotlib as mpl\\nfrom sklearn.ensemble import RandomForestRegressor\\nimport xgboost as xgb'); }\n",
              "    "
            ],
            "text/plain": [
              "<IPython.core.display.Javascript object>"
            ]
          },
          "metadata": {
            "tags": []
          }
        },
        {
          "output_type": "execute_result",
          "data": {
            "text/plain": [
              "['dcron', 'plano_ouro', 'plano_esmeralda']"
            ]
          },
          "metadata": {
            "tags": []
          },
          "execution_count": 553
        }
      ]
    },
    {
      "cell_type": "markdown",
      "metadata": {
        "id": "5evRuJQlo92V"
      },
      "source": [
        "Concluímos então que não usaremos essas variáveis nesse novo modelo. Vamos criar esse novo modelo abaixo."
      ]
    },
    {
      "cell_type": "markdown",
      "metadata": {
        "id": "u3xPXJK_0yRU"
      },
      "source": [
        "##Finalizando Modelo Múltiplo Não Linear com Stepwise"
      ]
    },
    {
      "cell_type": "code",
      "metadata": {
        "colab": {
          "base_uri": "https://localhost:8080/"
        },
        "id": "qDo4zNCXc3Wj",
        "outputId": "9857f2c5-64cd-4fa9-a242-ff59708edf33"
      },
      "source": [
        "formula = montar_formula(planosaude_dummies, ['despmed','id','renda','idade'],'bcdespmed')\n",
        "step_planoSaude_bc = smf.ols(formula = formula, data = planosaude_dummies).fit()\n",
        "\n",
        "print(step_planoSaude_bc.summary())"
      ],
      "execution_count": 570,
      "outputs": [
        {
          "output_type": "stream",
          "text": [
            "                            OLS Regression Results                            \n",
            "==============================================================================\n",
            "Dep. Variable:              bcdespmed   R-squared:                       0.892\n",
            "Model:                            OLS   Adj. R-squared:                  0.890\n",
            "Method:                 Least Squares   F-statistic:                     539.4\n",
            "Date:                Wed, 18 Aug 2021   Prob (F-statistic):           2.07e-94\n",
            "Time:                        19:03:52   Log-Likelihood:                 353.90\n",
            "No. Observations:                 200   AIC:                            -699.8\n",
            "Df Residuals:                     196   BIC:                            -686.6\n",
            "Df Model:                           3                                         \n",
            "Covariance Type:            nonrobust                                         \n",
            "===================================================================================\n",
            "                      coef    std err          t      P>|t|      [0.025      0.975]\n",
            "-----------------------------------------------------------------------------------\n",
            "Intercept           3.5983      0.017    211.642      0.000       3.565       3.632\n",
            "dcron               0.0271      0.004      7.582      0.000       0.020       0.034\n",
            "plano_esmeralda    -0.0903      0.011     -8.137      0.000      -0.112      -0.068\n",
            "plano_ouro         -0.1910      0.014    -13.437      0.000      -0.219      -0.163\n",
            "==============================================================================\n",
            "Omnibus:                        2.456   Durbin-Watson:                   1.806\n",
            "Prob(Omnibus):                  0.293   Jarque-Bera (JB):                2.071\n",
            "Skew:                          -0.185   Prob(JB):                        0.355\n",
            "Kurtosis:                       3.333   Cond. No.                         27.0\n",
            "==============================================================================\n",
            "\n",
            "Notes:\n",
            "[1] Standard Errors assume that the covariance matrix of the errors is correctly specified.\n"
          ],
          "name": "stdout"
        }
      ]
    },
    {
      "cell_type": "markdown",
      "metadata": {
        "id": "3Vq5IRjopgpo"
      },
      "source": [
        "Parece que tudo está certo. Vamos agora validar os testes estátisticos de normalidade e heterocedasticidade."
      ]
    },
    {
      "cell_type": "markdown",
      "metadata": {
        "id": "66PofBnllBwC"
      },
      "source": [
        "###Verificando a normalidade dos resíduos do modelo "
      ]
    },
    {
      "cell_type": "code",
      "metadata": {
        "colab": {
          "base_uri": "https://localhost:8080/"
        },
        "id": "o14fsmwedZeZ",
        "outputId": "37519b13-7d2f-492d-99da-d0ad54aca585"
      },
      "source": [
        "shapiroFrancia(step_planoSaude_bc.resid)"
      ],
      "execution_count": 571,
      "outputs": [
        {
          "output_type": "stream",
          "text": [
            "W: 0.9868895949417092\n",
            "p-value: 0.05846186724841663\n"
          ],
          "name": "stdout"
        }
      ]
    },
    {
      "cell_type": "markdown",
      "metadata": {
        "id": "9JxY5C4mp80_"
      },
      "source": [
        "Ficou bem em cima! Mas o teste comprova que essa distribuição à um nível de significância 0.05 é normal. "
      ]
    },
    {
      "cell_type": "markdown",
      "metadata": {
        "id": "E7255jaYlJt8"
      },
      "source": [
        "###Plotando os novos resíduos do modelo"
      ]
    },
    {
      "cell_type": "markdown",
      "metadata": {
        "id": "MHgcrEN8qQ27"
      },
      "source": [
        "Vejamos como fica com o gráfico com a curva normal"
      ]
    },
    {
      "cell_type": "code",
      "metadata": {
        "colab": {
          "base_uri": "https://localhost:8080/",
          "height": 464
        },
        "id": "ci5__A3ldLuJ",
        "outputId": "fd0eec5f-aed2-4e3b-ba31-5d987701be93"
      },
      "source": [
        "(ggplot(planosaude_dummies >>\n",
        "  mutate(residuos = step_planoSaude_bc.resid),\n",
        "        aes(x='residuos')) +\n",
        "    geom_histogram(aes(y ='..density..'),\n",
        "                   color = \"white\", \n",
        "                   fill = \"#440154FF\", \n",
        "                   bins = 15,\n",
        "                   alpha = 0.6) +\n",
        "     stat_function(fun=norm.pdf,\n",
        "                   args={'loc':np.mean(step_planoSaude_bc.resid),\n",
        "                         'scale':np.std(step_planoSaude_bc.resid)},\n",
        "                size = 2, color = \"#4d4d4d\") +\n",
        "     scale_color_manual(values = \"#7f7f7f\") +\n",
        "    labs(x = \"Resíduos\",\n",
        "         y = \"Frequências\") + \n",
        "    theme_bw())"
      ],
      "execution_count": 556,
      "outputs": [
        {
          "output_type": "display_data",
          "data": {
            "image/png": "[encoded data removed]",
            "text/plain": [
              "<Figure size 640x480 with 1 Axes>"
            ]
          },
          "metadata": {
            "tags": []
          }
        },
        {
          "output_type": "execute_result",
          "data": {
            "text/plain": [
              "<ggplot: (8739784291137)>"
            ]
          },
          "metadata": {
            "tags": []
          },
          "execution_count": 556
        }
      ]
    },
    {
      "cell_type": "markdown",
      "metadata": {
        "id": "aWIMQym5lQPJ"
      },
      "source": [
        "Podemos ver também como fica com o KDE"
      ]
    },
    {
      "cell_type": "code",
      "metadata": {
        "colab": {
          "base_uri": "https://localhost:8080/",
          "height": 465
        },
        "id": "A11jl43rdV5S",
        "outputId": "b57cf17c-db86-4699-e579-3bf56a7aa120"
      },
      "source": [
        "(planosaude_dummies >>\n",
        "  ggplot() +\n",
        "  geom_density(aes(x = step_planoSaude_bc.resid), fill = \"#440154FF\") +\n",
        "  labs(x = \"Resíduos do Modelo Stepwise\",\n",
        "       y = \"Densidade\") +\n",
        "  theme_bw())"
      ],
      "execution_count": 572,
      "outputs": [
        {
          "output_type": "display_data",
          "data": {
            "image/png": "[encoded data removed]",
            "text/plain": [
              "<Figure size 640x480 with 1 Axes>"
            ]
          },
          "metadata": {
            "tags": []
          }
        },
        {
          "output_type": "execute_result",
          "data": {
            "text/plain": [
              "<ggplot: (8739785843653)>"
            ]
          },
          "metadata": {
            "tags": []
          },
          "execution_count": 572
        }
      ]
    },
    {
      "cell_type": "markdown",
      "metadata": {
        "id": "uKUGrr-xlWbN"
      },
      "source": [
        "###Definição de função para cálculo do teste de breusch pagan"
      ]
    },
    {
      "cell_type": "markdown",
      "metadata": {
        "id": "HyH5JYYXqfEn"
      },
      "source": [
        "Para simplificar o cálculo, vamos criar uma função para simplificar o teste de Breusch Pagan"
      ]
    },
    {
      "cell_type": "code",
      "metadata": {
        "id": "lKWUzhw0eWFx"
      },
      "source": [
        "def olsBreuschPagan(df,cols,y,model):\n",
        "  yhat = model.predict(exog=df[cols])\n",
        "  residuos = df[y] - yhat\n",
        "  up = ((residuos) ** 2) / ((sum(residuos ** 2)) / len(residuos))\n",
        "  dados_breuschpagan = pd.DataFrame({'up': up,'yhat': yhat})\n",
        "  modelo_breuschpagan = smf.ols(formula='up ~ yhat',data = dados_breuschpagan).fit()\n",
        "  soma_quadrados = SomaQuadrados(modelo_breuschpagan.fittedvalues)\n",
        "  print('df: {}'.format(1))\n",
        "  print('chi2: {}'.format(soma_quadrados / 2))\n",
        "  print('p-value {}'.format(chi2.sf(soma_quadrados / 2,1)))"
      ],
      "execution_count": 558,
      "outputs": []
    },
    {
      "cell_type": "markdown",
      "metadata": {
        "id": "KqsfJJdbljMN"
      },
      "source": [
        "###Diagnóstico de Heterocedasticidade para o Modelo Stepwise com Box-Cox"
      ]
    },
    {
      "cell_type": "code",
      "metadata": {
        "colab": {
          "base_uri": "https://localhost:8080/",
          "height": 67
        },
        "id": "DNdPoWcNfFLR",
        "outputId": "0531805d-d7b2-47d0-9835-441ab7bc9015"
      },
      "source": [
        "olsBreuschPagan(planosaude_dummies, ['dcron', 'plano_ouro', 'plano_esmeralda'],'bcdespmed', step_planoSaude_bc)"
      ],
      "execution_count": 573,
      "outputs": [
        {
          "output_type": "display_data",
          "data": {
            "application/javascript": [
              "\n",
              "        if (window._pyforest_update_imports_cell) { window._pyforest_update_imports_cell('import pickle\\nimport bokeh\\nfrom sklearn.linear_model import LinearRegression\\nfrom sklearn import metrics\\nfrom sklearn.linear_model import RidgeCV\\nfrom sklearn.preprocessing import MinMaxScaler\\nimport glob\\nimport plotly as py\\nimport statsmodels.api as sm\\nfrom sklearn.linear_model import Ridge\\nimport tqdm\\nimport torch\\nimport statistics\\nfrom sklearn.ensemble import RandomForestClassifier\\nfrom sklearn.decomposition import PCA\\nfrom pathlib import Path\\nimport skimage\\nimport gensim\\nimport fastai\\nimport plotly.graph_objs as go\\nimport altair as alt\\nimport imutils\\nimport tensorflow as tf\\nimport sklearn\\nfrom sklearn.preprocessing import OneHotEncoder\\nfrom sklearn.preprocessing import RobustScaler\\nfrom sklearn.model_selection import cross_val_score\\nfrom sklearn.linear_model import LassoCV\\nfrom sklearn.preprocessing import LabelEncoder\\nfrom sklearn.linear_model import LogisticRegression\\nfrom sklearn.manifold import TSNE\\nimport spacy\\nimport pydot\\nimport matplotlib.pyplot as plt\\nfrom PIL import Image\\nimport fbprophet\\nfrom sklearn.feature_extraction.text import CountVectorizer\\nfrom openpyxl import load_workbook\\nfrom sklearn.linear_model import ElasticNetCV\\nimport plotly.express as px\\nimport cv2\\nfrom sklearn.impute import SimpleImputer\\nfrom sklearn.feature_extraction.text import TfidfVectorizer\\nimport re\\nfrom statsmodels.tsa.arima_model import ARIMA\\nfrom sklearn.model_selection import RandomizedSearchCV\\nimport textblob\\nfrom sklearn.linear_model import ElasticNet\\nimport os\\nimport seaborn as sns\\nfrom xlrd import open_workbook\\nfrom fbprophet import Prophet\\nimport pandas as pd\\nfrom sklearn.linear_model import Lasso\\nfrom sklearn.preprocessing import PolynomialFeatures\\nimport nltk\\nfrom sklearn.model_selection import train_test_split\\nimport lightgbm as lgb\\nfrom scipy import stats\\nimport matplotlib as mpl\\nfrom sklearn.ensemble import RandomForestRegressor\\nimport xgboost as xgb'); }\n",
              "    "
            ],
            "text/plain": [
              "<IPython.core.display.Javascript object>"
            ]
          },
          "metadata": {
            "tags": []
          }
        },
        {
          "output_type": "stream",
          "text": [
            "df: 1\n",
            "chi2: 1.0126281112242879\n",
            "p-value 0.31427404714875107\n"
          ],
          "name": "stdout"
        }
      ]
    },
    {
      "cell_type": "markdown",
      "metadata": {
        "id": "JTH5o78Dqz71"
      },
      "source": [
        "Perfeito, o teste comprova a homocedasticidade nos nossos dados.\n",
        "\n",
        "Podemos ver essa pequena, mas importante diferença plotando e vendo como ficou a relação entre os resíduos e os fittedvalues."
      ]
    },
    {
      "cell_type": "code",
      "metadata": {
        "colab": {
          "base_uri": "https://localhost:8080/",
          "height": 464
        },
        "id": "QobRmNhjgdAW",
        "outputId": "83d17819-f40b-4ce7-afc0-90ef3e0e84ae"
      },
      "source": [
        "(ggplot(planosaude_dummies >>\n",
        "  mutate(fittedvalues = step_planoSaude_bc.fittedvalues,residuos=step_planoSaude_bc.resid),\n",
        "        aes(x='fittedvalues',y='residuos')) +\n",
        " geom_point(color = \"#440154FF\", size = 3) +\n",
        "  labs(x = \"Fitted Values do Modelo Stepwise\",\n",
        "       y = \"Resíduos do Modelo Stepwise\") +\n",
        "  theme_bw())"
      ],
      "execution_count": 560,
      "outputs": [
        {
          "output_type": "display_data",
          "data": {
            "image/png": "[encoded data removed]",
            "text/plain": [
              "<Figure size 640x480 with 1 Axes>"
            ]
          },
          "metadata": {
            "tags": []
          }
        },
        {
          "output_type": "execute_result",
          "data": {
            "text/plain": [
              "<ggplot: (8739784239005)>"
            ]
          },
          "metadata": {
            "tags": []
          },
          "execution_count": 560
        }
      ]
    },
    {
      "cell_type": "markdown",
      "metadata": {
        "id": "uJpdkVoyrq_u"
      },
      "source": [
        "##Comparação do R² Ajustado dos Modelos"
      ]
    },
    {
      "cell_type": "markdown",
      "metadata": {
        "id": "SlHeb2Ccry87"
      },
      "source": [
        "O R² ajustado indica quão bem os termos se ajustam a uma curva ou linha e para o número de termos em um modelo. Se você adicionar mais e mais variáveis inúteis a um modelo, o r² ajustado diminuirá. Se você adicionar mais variáveis úteis , o r² ajustado aumentará. O R² ajustado será sempre menor ou igual ao R². Devido à sua natureza, é possível comparar diferentes tipos de modelos (linear e não linear)."
      ]
    },
    {
      "cell_type": "code",
      "metadata": {
        "colab": {
          "base_uri": "https://localhost:8080/",
          "height": 80
        },
        "id": "4nbTPwfCrJWl",
        "outputId": "cf78784f-f3a0-4a04-d663-c57dced0b201"
      },
      "source": [
        "pd.DataFrame({'R² Ajustado Modelo Linear': modelo_planoSaude.rsquared_adj,\n",
        "              'R² Ajustado Modelo Não Linear': modelo_planoSaude_bc.rsquared_adj}\n",
        "             ,index=[0])"
      ],
      "execution_count": 576,
      "outputs": [
        {
          "output_type": "display_data",
          "data": {
            "application/javascript": [
              "\n",
              "        if (window._pyforest_update_imports_cell) { window._pyforest_update_imports_cell('import pickle\\nimport bokeh\\nfrom sklearn.linear_model import LinearRegression\\nfrom sklearn import metrics\\nfrom sklearn.linear_model import RidgeCV\\nfrom sklearn.preprocessing import MinMaxScaler\\nimport glob\\nimport plotly as py\\nimport statsmodels.api as sm\\nfrom sklearn.linear_model import Ridge\\nimport tqdm\\nimport torch\\nimport statistics\\nfrom sklearn.ensemble import RandomForestClassifier\\nfrom sklearn.decomposition import PCA\\nfrom pathlib import Path\\nimport skimage\\nimport gensim\\nimport fastai\\nimport plotly.graph_objs as go\\nimport altair as alt\\nimport imutils\\nimport tensorflow as tf\\nimport sklearn\\nfrom sklearn.preprocessing import OneHotEncoder\\nfrom sklearn.preprocessing import RobustScaler\\nfrom sklearn.model_selection import cross_val_score\\nfrom sklearn.linear_model import LassoCV\\nfrom sklearn.preprocessing import LabelEncoder\\nfrom sklearn.linear_model import LogisticRegression\\nfrom sklearn.manifold import TSNE\\nimport spacy\\nimport pydot\\nimport matplotlib.pyplot as plt\\nfrom PIL import Image\\nimport fbprophet\\nfrom sklearn.feature_extraction.text import CountVectorizer\\nfrom openpyxl import load_workbook\\nfrom sklearn.linear_model import ElasticNetCV\\nimport plotly.express as px\\nimport cv2\\nfrom sklearn.impute import SimpleImputer\\nfrom sklearn.feature_extraction.text import TfidfVectorizer\\nimport re\\nfrom statsmodels.tsa.arima_model import ARIMA\\nfrom sklearn.model_selection import RandomizedSearchCV\\nimport textblob\\nfrom sklearn.linear_model import ElasticNet\\nimport os\\nimport seaborn as sns\\nfrom xlrd import open_workbook\\nfrom fbprophet import Prophet\\nimport pandas as pd\\nfrom sklearn.linear_model import Lasso\\nfrom sklearn.preprocessing import PolynomialFeatures\\nimport nltk\\nfrom sklearn.model_selection import train_test_split\\nimport lightgbm as lgb\\nfrom scipy import stats\\nimport matplotlib as mpl\\nfrom sklearn.ensemble import RandomForestRegressor\\nimport xgboost as xgb'); }\n",
              "    "
            ],
            "text/plain": [
              "<IPython.core.display.Javascript object>"
            ]
          },
          "metadata": {
            "tags": []
          }
        },
        {
          "output_type": "execute_result",
          "data": {
            "text/html": [
              "<div>\n",
              "<style scoped>\n",
              "    .dataframe tbody tr th:only-of-type {\n",
              "        vertical-align: middle;\n",
              "    }\n",
              "\n",
              "    .dataframe tbody tr th {\n",
              "        vertical-align: top;\n",
              "    }\n",
              "\n",
              "    .dataframe thead th {\n",
              "        text-align: right;\n",
              "    }\n",
              "</style>\n",
              "<table border=\"1\" class=\"dataframe\">\n",
              "  <thead>\n",
              "    <tr style=\"text-align: right;\">\n",
              "      <th></th>\n",
              "      <th>R² Ajustado Modelo Linear</th>\n",
              "      <th>R² Ajustado Modelo Não Linear</th>\n",
              "    </tr>\n",
              "  </thead>\n",
              "  <tbody>\n",
              "    <tr>\n",
              "      <th>0</th>\n",
              "      <td>0.867814</td>\n",
              "      <td>0.89075</td>\n",
              "    </tr>\n",
              "  </tbody>\n",
              "</table>\n",
              "</div>"
            ],
            "text/plain": [
              "   R² Ajustado Modelo Linear  R² Ajustado Modelo Não Linear\n",
              "0                   0.867814                        0.89075"
            ]
          },
          "metadata": {
            "tags": []
          },
          "execution_count": 576
        }
      ]
    },
    {
      "cell_type": "markdown",
      "metadata": {
        "id": "rJVhyuOGs8t4"
      },
      "source": [
        "Veja que tivemos um ganho no R² ajustado no modelo de box-cox, o que indica realmente a captura maior da variabilidade. "
      ]
    },
    {
      "cell_type": "markdown",
      "metadata": {
        "id": "Fx8hjfMGvJr9"
      },
      "source": [
        "##Plotando Despesas Médicas em função das doenças crônicas, com destaque para os planos de saúde"
      ]
    },
    {
      "cell_type": "markdown",
      "metadata": {
        "id": "rsz_rMcZvWUa"
      },
      "source": [
        "Para finalizarmos, podemos ver abaixo de forma simplificada, outra forma de visualizar como cada plano de saúde está diretamente relacionado à doença crônica e a despesa médica de cada cliente."
      ]
    },
    {
      "cell_type": "code",
      "metadata": {
        "colab": {
          "base_uri": "https://localhost:8080/",
          "height": 465
        },
        "id": "D2CJjHxbumTI",
        "outputId": "100ade2e-9e6a-4ef0-f36e-c2c795fc25f9"
      },
      "source": [
        "(ggplot(planoSaude, \n",
        "        aes(x ='dcron', y = 'despmed', color = 'plano', shape = 'plano')) +\n",
        "          geom_point(size = 1) +\n",
        "          geom_smooth(method = \"lm\", se = False) +\n",
        "          xlab(\"Doenças Crônicas\") +\n",
        "          ylab(\"Despesas Médicas\") +    \n",
        "          theme_classic())"
      ],
      "execution_count": 583,
      "outputs": [
        {
          "output_type": "display_data",
          "data": {
            "image/png": "[encoded data removed]",
            "text/plain": [
              "<Figure size 640x480 with 1 Axes>"
            ]
          },
          "metadata": {
            "tags": []
          }
        },
        {
          "output_type": "execute_result",
          "data": {
            "text/plain": [
              "<ggplot: (8739784663693)>"
            ]
          },
          "metadata": {
            "tags": []
          },
          "execution_count": 583
        }
      ]
    }
  ]
}